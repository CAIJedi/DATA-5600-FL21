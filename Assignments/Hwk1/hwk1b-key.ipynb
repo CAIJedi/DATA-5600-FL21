{
 "cells": [
  {
   "cell_type": "markdown",
   "id": "525477f6-4482-4ad1-851b-f5a40a232ee9",
   "metadata": {
    "tags": []
   },
   "source": [
    "## __Data 5600: Hwk1b__\n",
    "\n",
    "<br>\n",
    "\n",
    "### __Solutions__\n",
    "\n",
    "\n",
    "---\n"
   ]
  },
  {
   "cell_type": "code",
   "execution_count": 1,
   "id": "47a9aff9-880a-4948-8a13-d9af8f802b89",
   "metadata": {},
   "outputs": [],
   "source": [
    "from scipy.stats import binom"
   ]
  },
  {
   "cell_type": "markdown",
   "id": "553e15ee-afac-484c-b6a3-cc643fc8ccfc",
   "metadata": {},
   "source": [
    "<br>\n",
    "\n",
    "#### <u>__Problem 3__</u>\n",
    "\n",
    "<br>\n",
    "\n",
    "<u>__Part a.__</u> We can use the CDF function to solve for this. Let $\\theta$ be the probability that an engine works properly, then $q = 1 - \\theta$.\n",
    "\n",
    "- If $X$ is the random variable that represents how many out of $n$ engines work properly, then $X \\sim Binomial(n, \\theta)$\n",
    "\n",
    "- For a four-engine plane this is:\n",
    "\n",
    "<br>\n",
    "\n",
    "$$\n",
    "\\begin{align}\n",
    "P(X \\ge 2) &= 1 - P(X < 2) \\\\\n",
    "           &= 1 - P(X = 0) - P(X = 1) \\\\\n",
    "           &= 1 - \\binom{4}{0}\\theta^{0} (1 - \\theta)^{4} - \\binom{4}{1}\\theta(1 - \\theta)^{3} \\\\\n",
    "           &= 1 - (1-\\theta)^{4} + 4 \\theta (1 - \\theta)^{3}\n",
    "\\end{align}\n",
    "$$\n",
    "\n",
    "<br>\n",
    "\n",
    "If $\\theta = 0.6$ then\n",
    "\n",
    "<br>\n",
    "\n",
    "$$\n",
    "\\begin{align}\n",
    "1 - P(X = 0) - P(X = 1) &= 1 - (0.4)^{4} - 4 (0.6) (0.4)^{3} \\\\\n",
    "                        &= 1 - 0.256 - 4 \\ast 0.6 \\ast 0.064 \\\\\n",
    "                        &= 0.8208\n",
    "\\end{align}\n",
    "$$\n",
    "\n",
    "<br>"
   ]
  },
  {
   "cell_type": "code",
   "execution_count": 35,
   "id": "78a9cc0d-7a37-4904-9d15-7f32955bf620",
   "metadata": {},
   "outputs": [
    {
     "data": {
      "text/plain": [
       "0.9728"
      ]
     },
     "execution_count": 35,
     "metadata": {},
     "output_type": "execute_result"
    }
   ],
   "source": [
    "## Set theta (the probability of success)\n",
    "θ = 0.8\n",
    "\n",
    "## Calculate directly from above\n",
    "1. - (1-θ)**4 - 4 * (θ) * (1 - θ)**3"
   ]
  },
  {
   "cell_type": "code",
   "execution_count": 36,
   "id": "a0ad8fad-a306-4160-8279-18ed669c4e39",
   "metadata": {},
   "outputs": [
    {
     "data": {
      "text/plain": [
       "0.9728"
      ]
     },
     "execution_count": 36,
     "metadata": {},
     "output_type": "execute_result"
    }
   ],
   "source": [
    "## Calculate using the binomial pmf\n",
    "1. - binom(n=4,p=θ).pmf(0) - binom(n=4, p=θ).pmf(1)"
   ]
  },
  {
   "cell_type": "code",
   "execution_count": 37,
   "id": "d56590ed-d110-4215-97c7-fec6918f5d8b",
   "metadata": {},
   "outputs": [
    {
     "data": {
      "text/plain": [
       "0.9728"
      ]
     },
     "execution_count": 37,
     "metadata": {},
     "output_type": "execute_result"
    }
   ],
   "source": [
    "## Use the complement of the CDF\n",
    "1. - binom(n=4, p=θ).cdf(1)"
   ]
  },
  {
   "cell_type": "markdown",
   "id": "db65aeee-3fae-440e-94ae-5afbf8568f6d",
   "metadata": {},
   "source": [
    "<br>\n",
    "\n",
    "<u>__Part b.__</u> For a two-engine plane $X \\sim Binomial(2, \\theta)$\n",
    "\n",
    "<br>\n",
    "\n",
    "$$\n",
    "\\begin{align}\n",
    "P(X \\ge 1) &= 1 - P(X = 0) \\\\\n",
    "           &= 1 - \\binom{2}{0} (1 - \\theta)^{2}\n",
    "\\end{align}\n",
    "$$\n",
    "\n",
    "<br>"
   ]
  },
  {
   "cell_type": "code",
   "execution_count": 29,
   "id": "d5d0c72c-c2af-42ab-8d81-a3bd45de4fa9",
   "metadata": {},
   "outputs": [
    {
     "data": {
      "text/plain": [
       "0.96"
      ]
     },
     "execution_count": 29,
     "metadata": {},
     "output_type": "execute_result"
    }
   ],
   "source": [
    "## Set theta (the probability of success)\n",
    "θ = 0.8\n",
    "\n",
    "## Calculate directly from above\n",
    "1. - (1 - θ)**2"
   ]
  },
  {
   "cell_type": "code",
   "execution_count": 30,
   "id": "d0396f13-ddf6-431c-9557-712f83d7115d",
   "metadata": {},
   "outputs": [
    {
     "data": {
      "text/plain": [
       "0.96"
      ]
     },
     "execution_count": 30,
     "metadata": {},
     "output_type": "execute_result"
    }
   ],
   "source": [
    "## Calculate using the binomial pmf\n",
    "1 - binom(n=2, p=θ).pmf(0)"
   ]
  },
  {
   "cell_type": "code",
   "execution_count": 31,
   "id": "476851bf-5a49-42f6-9e9a-ac2f27dca8a3",
   "metadata": {},
   "outputs": [
    {
     "data": {
      "text/plain": [
       "0.96"
      ]
     },
     "execution_count": 31,
     "metadata": {},
     "output_type": "execute_result"
    }
   ],
   "source": [
    "## Calculate using the complement of the CDF\n",
    "1 - binom(n=2, p=θ).cdf(0)"
   ]
  },
  {
   "cell_type": "markdown",
   "id": "6aa90c08-0c66-4875-adb5-069b9b6dd54a",
   "metadata": {},
   "source": [
    "<br>\n",
    "\n",
    "<u>__Part c.__</u> Let's make a table to compare for different values of $\\theta$\n",
    "\n",
    "<br>\n",
    "\n",
    "| <b>$\\theta$</b> | 4 Engines | 2 Engines |\n",
    "|:---------------:|:---------:|:---------:|\n",
    "| 0.5             | 0.6865    |  0.7500   |\n",
    "| 0.6             | 0.8208    |  0.8400   |\n",
    "| 0.7             | 0.9163    |  0.9100   |\n",
    "| 0.8             | 0.9728    |  0.9600   |\n",
    "\n",
    "<br>\n",
    "\n",
    "---"
   ]
  },
  {
   "cell_type": "markdown",
   "id": "331ccd36-bdee-4122-8536-386b4975134f",
   "metadata": {},
   "source": [
    "#### <u>__Problem 6__</u>\n",
    "\n",
    "<br>"
   ]
  },
  {
   "cell_type": "code",
   "execution_count": null,
   "id": "73428b5b-4580-48b3-b53a-9b7ff2714301",
   "metadata": {},
   "outputs": [],
   "source": []
  }
 ],
 "metadata": {
  "kernelspec": {
   "display_name": "Python 3",
   "language": "python",
   "name": "python3"
  },
  "language_info": {
   "codemirror_mode": {
    "name": "ipython",
    "version": 3
   },
   "file_extension": ".py",
   "mimetype": "text/x-python",
   "name": "python",
   "nbconvert_exporter": "python",
   "pygments_lexer": "ipython3",
   "version": "3.8.8"
  }
 },
 "nbformat": 4,
 "nbformat_minor": 5
}
