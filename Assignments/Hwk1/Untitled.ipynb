{
 "cells": [
  {
   "cell_type": "markdown",
   "id": "7fefb954",
   "metadata": {},
   "source": [
    "# __HWK1B Solutions__\n",
    "\n",
    "<br>\n",
    "\n",
    "---\n",
    "\n",
    "<br>"
   ]
  },
  {
   "cell_type": "code",
   "execution_count": 5,
   "id": "a0d35673",
   "metadata": {},
   "outputs": [],
   "source": [
    "import numpy as np\n",
    "from scipy import stats\n",
    "from typing import List\n",
    "import matplotlib.pyplot as plt"
   ]
  },
  {
   "cell_type": "code",
   "execution_count": 6,
   "id": "e71177f7",
   "metadata": {},
   "outputs": [],
   "source": [
    "students = ['Tyler Clayson', 'Marshall Day', 'Liz Giles', 'Connor Hoiland', 'Josie Hull',\n",
    "            'Brian Kissmer', 'Andrew Martin', 'Jacob Needham', 'Tori Rallison', 'Emily Rice',\n",
    "            'Chris Simiskey', 'Wes Smith', 'Andrew Walker', 'Austin Warr', 'Connor Waterman']\n",
    "\n",
    "\n",
    "def draw_a_student(students: List[str]): \n",
    "    the_student = np.random.choice(students)\n",
    "    print(f\"{the_student}, come on down!\")"
   ]
  },
  {
   "cell_type": "markdown",
   "id": "fce6d36a",
   "metadata": {},
   "source": [
    "__Problem 1.__"
   ]
  },
  {
   "cell_type": "code",
   "execution_count": 10,
   "id": "e22f3e4c",
   "metadata": {},
   "outputs": [
    {
     "name": "stdout",
     "output_type": "stream",
     "text": [
      "Connor Waterman, come on down!\n"
     ]
    }
   ],
   "source": [
    "draw_a_student(students)"
   ]
  },
  {
   "cell_type": "code",
   "execution_count": 11,
   "id": "3acd63c0",
   "metadata": {},
   "outputs": [],
   "source": [
    "trials = 10 #number trials\n",
    "k = 10 #number correct\n",
    "θ = .5 #probability\n",
    "\n"
   ]
  },
  {
   "cell_type": "code",
   "execution_count": 12,
   "id": "d1853243",
   "metadata": {},
   "outputs": [
    {
     "data": {
      "text/plain": [
       "\u001b[0;31mSignature:\u001b[0m       \u001b[0mstats\u001b[0m\u001b[0;34m.\u001b[0m\u001b[0mbinom\u001b[0m\u001b[0;34m(\u001b[0m\u001b[0;34m*\u001b[0m\u001b[0margs\u001b[0m\u001b[0;34m,\u001b[0m \u001b[0;34m**\u001b[0m\u001b[0mkwds\u001b[0m\u001b[0;34m)\u001b[0m\u001b[0;34m\u001b[0m\u001b[0;34m\u001b[0m\u001b[0m\n",
       "\u001b[0;31mType:\u001b[0m            binom_gen\n",
       "\u001b[0;31mString form:\u001b[0m     <scipy.stats._discrete_distns.binom_gen object at 0x7fa66861f100>\n",
       "\u001b[0;31mFile:\u001b[0m            ~/anaconda3/envs/DATA5600/lib/python3.8/site-packages/scipy/stats/_discrete_distns.py\n",
       "\u001b[0;31mDocstring:\u001b[0m      \n",
       "A binomial discrete random variable.\n",
       "\n",
       "As an instance of the `rv_discrete` class, `binom` object inherits from it\n",
       "a collection of generic methods (see below for the full list),\n",
       "and completes them with details specific for this particular distribution.\n",
       "\n",
       "Methods\n",
       "-------\n",
       "rvs(n, p, loc=0, size=1, random_state=None)\n",
       "    Random variates.\n",
       "pmf(k, n, p, loc=0)\n",
       "    Probability mass function.\n",
       "logpmf(k, n, p, loc=0)\n",
       "    Log of the probability mass function.\n",
       "cdf(k, n, p, loc=0)\n",
       "    Cumulative distribution function.\n",
       "logcdf(k, n, p, loc=0)\n",
       "    Log of the cumulative distribution function.\n",
       "sf(k, n, p, loc=0)\n",
       "    Survival function  (also defined as ``1 - cdf``, but `sf` is sometimes more accurate).\n",
       "logsf(k, n, p, loc=0)\n",
       "    Log of the survival function.\n",
       "ppf(q, n, p, loc=0)\n",
       "    Percent point function (inverse of ``cdf`` --- percentiles).\n",
       "isf(q, n, p, loc=0)\n",
       "    Inverse survival function (inverse of ``sf``).\n",
       "stats(n, p, loc=0, moments='mv')\n",
       "    Mean('m'), variance('v'), skew('s'), and/or kurtosis('k').\n",
       "entropy(n, p, loc=0)\n",
       "    (Differential) entropy of the RV.\n",
       "expect(func, args=(n, p), loc=0, lb=None, ub=None, conditional=False)\n",
       "    Expected value of a function (of one argument) with respect to the distribution.\n",
       "median(n, p, loc=0)\n",
       "    Median of the distribution.\n",
       "mean(n, p, loc=0)\n",
       "    Mean of the distribution.\n",
       "var(n, p, loc=0)\n",
       "    Variance of the distribution.\n",
       "std(n, p, loc=0)\n",
       "    Standard deviation of the distribution.\n",
       "interval(alpha, n, p, loc=0)\n",
       "    Endpoints of the range that contains alpha percent of the distribution\n",
       "\n",
       "Notes\n",
       "-----\n",
       "The probability mass function for `binom` is:\n",
       "\n",
       ".. math::\n",
       "\n",
       "   f(k) = \\binom{n}{k} p^k (1-p)^{n-k}\n",
       "\n",
       "for ``k`` in ``{0, 1,..., n}``, :math:`0 \\leq p \\leq 1`\n",
       "\n",
       "`binom` takes ``n`` and ``p`` as shape parameters,\n",
       "where :math:`p` is the probability of a single success \n",
       "and :math:`1-p` is the probability of a single failure. \n",
       "\n",
       "The probability mass function above is defined in the \"standardized\" form.\n",
       "To shift distribution use the ``loc`` parameter.\n",
       "Specifically, ``binom.pmf(k, n, p, loc)`` is identically\n",
       "equivalent to ``binom.pmf(k - loc, n, p)``.\n",
       "\n",
       "Examples\n",
       "--------\n",
       ">>> from scipy.stats import binom\n",
       ">>> import matplotlib.pyplot as plt\n",
       ">>> fig, ax = plt.subplots(1, 1)\n",
       "\n",
       "Calculate a few first moments:\n",
       "\n",
       ">>> n, p = 5, 0.4\n",
       ">>> mean, var, skew, kurt = binom.stats(n, p, moments='mvsk')\n",
       "\n",
       "Display the probability mass function (``pmf``):\n",
       "\n",
       ">>> x = np.arange(binom.ppf(0.01, n, p),\n",
       "...               binom.ppf(0.99, n, p))\n",
       ">>> ax.plot(x, binom.pmf(x, n, p), 'bo', ms=8, label='binom pmf')\n",
       ">>> ax.vlines(x, 0, binom.pmf(x, n, p), colors='b', lw=5, alpha=0.5)\n",
       "\n",
       "Alternatively, the distribution object can be called (as a function)\n",
       "to fix the shape and location. This returns a \"frozen\" RV object holding\n",
       "the given parameters fixed.\n",
       "\n",
       "Freeze the distribution and display the frozen ``pmf``:\n",
       "\n",
       ">>> rv = binom(n, p)\n",
       ">>> ax.vlines(x, 0, rv.pmf(x), colors='k', linestyles='-', lw=1,\n",
       "...         label='frozen pmf')\n",
       ">>> ax.legend(loc='best', frameon=False)\n",
       ">>> plt.show()\n",
       "\n",
       "Check accuracy of ``cdf`` and ``ppf``:\n",
       "\n",
       ">>> prob = binom.cdf(x, n, p)\n",
       ">>> np.allclose(x, binom.ppf(prob, n, p))\n",
       "True\n",
       "\n",
       "Generate random numbers:\n",
       "\n",
       ">>> r = binom.rvs(n, p, size=1000)\n",
       "\n",
       "See Also\n",
       "--------\n",
       "hypergeom, nbinom, nhypergeom\n",
       "\u001b[0;31mClass docstring:\u001b[0m\n",
       "A binomial discrete random variable.\n",
       "\n",
       "%(before_notes)s\n",
       "\n",
       "Notes\n",
       "-----\n",
       "The probability mass function for `binom` is:\n",
       "\n",
       ".. math::\n",
       "\n",
       "   f(k) = \\binom{n}{k} p^k (1-p)^{n-k}\n",
       "\n",
       "for ``k`` in ``{0, 1,..., n}``, :math:`0 \\leq p \\leq 1`\n",
       "\n",
       "`binom` takes ``n`` and ``p`` as shape parameters,\n",
       "where :math:`p` is the probability of a single success \n",
       "and :math:`1-p` is the probability of a single failure. \n",
       "\n",
       "%(after_notes)s\n",
       "\n",
       "%(example)s\n",
       "\n",
       "See Also\n",
       "--------\n",
       "hypergeom, nbinom, nhypergeom\n",
       "\u001b[0;31mCall docstring:\u001b[0m \n",
       "Freeze the distribution for the given arguments.\n",
       "\n",
       "Parameters\n",
       "----------\n",
       "arg1, arg2, arg3,... : array_like\n",
       "    The shape parameter(s) for the distribution.  Should include all\n",
       "    the non-optional arguments, may include ``loc`` and ``scale``.\n",
       "\n",
       "Returns\n",
       "-------\n",
       "rv_frozen : rv_frozen instance\n",
       "    The frozen distribution.\n"
      ]
     },
     "metadata": {},
     "output_type": "display_data"
    }
   ],
   "source": [
    "stats.binom?"
   ]
  },
  {
   "cell_type": "markdown",
   "id": "74e4f979",
   "metadata": {},
   "source": [
    "## Problem 1 A"
   ]
  },
  {
   "cell_type": "markdown",
   "id": "5c881c01",
   "metadata": {},
   "source": []
  },
  {
   "cell_type": "code",
   "execution_count": 22,
   "id": "5820633e",
   "metadata": {},
   "outputs": [],
   "source": [
    "trials = 10 #number trials\n",
    "k = 10 #number correct\n",
    "θ = .5 #probability\n",
    "\n"
   ]
  },
  {
   "cell_type": "code",
   "execution_count": 23,
   "id": "67807c27",
   "metadata": {},
   "outputs": [
    {
     "data": {
      "text/plain": [
       "0.0009765625"
      ]
     },
     "execution_count": 23,
     "metadata": {},
     "output_type": "execute_result"
    }
   ],
   "source": [
    "stats.binom.pmf(n=trials, p = θ, k = k)"
   ]
  },
  {
   "cell_type": "markdown",
   "id": "20f2fa7a",
   "metadata": {},
   "source": [
    "## Problem 1 B"
   ]
  },
  {
   "cell_type": "code",
   "execution_count": 24,
   "id": "ccbd743c",
   "metadata": {},
   "outputs": [],
   "source": [
    "trails = 10\n",
    "k = 8\n",
    "θ = .5"
   ]
  },
  {
   "cell_type": "code",
   "execution_count": 25,
   "id": "158e409c",
   "metadata": {},
   "outputs": [
    {
     "data": {
      "text/plain": [
       "0.04394531249999999"
      ]
     },
     "execution_count": 25,
     "metadata": {},
     "output_type": "execute_result"
    }
   ],
   "source": [
    "stats.binom.pmf(n = trials, p = θ, k = k)"
   ]
  },
  {
   "cell_type": "code",
   "execution_count": 29,
   "id": "a430bc74",
   "metadata": {},
   "outputs": [
    {
     "name": "stdout",
     "output_type": "stream",
     "text": [
      "Emily Rice, come on down!\n"
     ]
    }
   ],
   "source": [
    "draw_a_student(students)"
   ]
  },
  {
   "cell_type": "markdown",
   "id": "2c4a27ce",
   "metadata": {},
   "source": [
    "## __Problem 2a__"
   ]
  },
  {
   "cell_type": "code",
   "execution_count": 30,
   "id": "7332fdc8",
   "metadata": {},
   "outputs": [
    {
     "data": {
      "text/plain": [
       "0.04394531249999999"
      ]
     },
     "execution_count": 30,
     "metadata": {},
     "output_type": "execute_result"
    }
   ],
   "source": [
    "shots = 10\n",
    "k = 8\n",
    "θ = .5\n",
    "\n",
    "stats.binom.pmf(n=shots, p=θ, k=k)"
   ]
  },
  {
   "cell_type": "markdown",
   "id": "179ef955",
   "metadata": {},
   "source": [
    "## __Problem 2b__"
   ]
  },
  {
   "cell_type": "code",
   "execution_count": 33,
   "id": "d16317b9",
   "metadata": {},
   "outputs": [
    {
     "data": {
      "text/plain": [
       "0.12093235199999994"
      ]
     },
     "execution_count": 33,
     "metadata": {},
     "output_type": "execute_result"
    }
   ],
   "source": [
    "shots = 10\n",
    "k = 8\n",
    "θ = .6\n",
    "\n",
    "stats.binom.pmf(n=shots, p=θ, k=k)"
   ]
  },
  {
   "cell_type": "markdown",
   "id": "3cf8acd7",
   "metadata": {},
   "source": [
    "## __Problem 2c__"
   ]
  },
  {
   "cell_type": "code",
   "execution_count": 38,
   "id": "7f03c777",
   "metadata": {},
   "outputs": [
    {
     "data": {
      "text/plain": [
       "2.5"
      ]
     },
     "execution_count": 38,
     "metadata": {},
     "output_type": "execute_result"
    }
   ],
   "source": [
    "#variance\n",
    "(10*.5)*(1-.5)"
   ]
  },
  {
   "cell_type": "code",
   "execution_count": 39,
   "id": "57cc8ac5",
   "metadata": {},
   "outputs": [
    {
     "data": {
      "text/plain": [
       "5.0"
      ]
     },
     "execution_count": 39,
     "metadata": {},
     "output_type": "execute_result"
    }
   ],
   "source": [
    "#mean\n",
    "10*.5"
   ]
  },
  {
   "cell_type": "markdown",
   "id": "fd1b3ae6",
   "metadata": {},
   "source": [
    "## Problem 3"
   ]
  },
  {
   "cell_type": "code",
   "execution_count": 42,
   "id": "71482e49",
   "metadata": {},
   "outputs": [
    {
     "name": "stdout",
     "output_type": "stream",
     "text": [
      "Tori Rallison, come on down!\n"
     ]
    }
   ],
   "source": [
    "draw_a_student(students)"
   ]
  },
  {
   "cell_type": "markdown",
   "id": "00763cc5",
   "metadata": {},
   "source": [
    "# Problem 3a"
   ]
  },
  {
   "cell_type": "code",
   "execution_count": 46,
   "id": "587346f5",
   "metadata": {},
   "outputs": [
    {
     "name": "stdout",
     "output_type": "stream",
     "text": [
      "(1, a, b)\n",
      "(2, a, c)\n",
      "(3, a, d)\n",
      "(4, b, a)\n",
      "(5, b, c)\n",
      "(6, b, d)\n",
      "(7, c, a)\n",
      "(8, c, b)\n",
      "(9, c, d)\n",
      "(10, d, a)\n",
      "(11, d, b)\n",
      "(12, d, c)\n"
     ]
    }
   ],
   "source": [
    "count = 0\n",
    "for i in ['a', 'b', 'c', 'd']:\n",
    "    for j in ['a', 'b', 'c', 'd']:\n",
    "        if i != j:\n",
    "            count += 1\n",
    "            print(f\"({count}, {i}, {j})\")\n",
    "    "
   ]
  },
  {
   "cell_type": "code",
   "execution_count": 51,
   "id": "927df469",
   "metadata": {},
   "outputs": [],
   "source": [
    "θ = 0.5\n",
    "ι = stats.binom.pmf(n=4, p=θ, k=2)\n",
    "κ = stats.binom.pmf(n=4, p=θ, k=3)\n",
    "ν = stats.binom.pmf(n=4, p=θ, k=4)"
   ]
  },
  {
   "cell_type": "code",
   "execution_count": 52,
   "id": "d399173d",
   "metadata": {},
   "outputs": [
    {
     "data": {
      "text/plain": [
       "0.6875000000000002"
      ]
     },
     "execution_count": 52,
     "metadata": {},
     "output_type": "execute_result"
    }
   ],
   "source": [
    "ι + κ + ν"
   ]
  },
  {
   "cell_type": "code",
   "execution_count": 54,
   "id": "17509c33",
   "metadata": {},
   "outputs": [
    {
     "data": {
      "text/plain": [
       "0.6875"
      ]
     },
     "execution_count": 54,
     "metadata": {},
     "output_type": "execute_result"
    }
   ],
   "source": [
    "1 - stats.binom.pmf(n=4, p=θ, k=0) - stats.binom.pmf(n=4, p=θ, k=1)"
   ]
  },
  {
   "cell_type": "markdown",
   "id": "0292abc4",
   "metadata": {},
   "source": [
    "<br>\n",
    "\n",
    "$$\n",
    "1 - \\left[ \\frac{4!}{0!4!}\\theta ^0 (1 - \\theta)^4\\right] - \\left[\\frac{4!}{1!3!}\\theta (1 - \\theta)^3 \\right]\n",
    "$$\n",
    "\n",
    "\n",
    "<br>\n",
    "\n",
    "\n",
    "$$\n",
    "1 - \\left[\\theta ^0 (1 - \\theta)^4\\right] - \\left[4\\theta (1 - \\theta)^3 \\right]\n",
    "$$\n",
    "\n",
    "<br>\n",
    "\n",
    "$$\n",
    "1 - \\left[(1 - \\theta)^4\\right] - \\left[4\\theta (1 - \\theta)^3 \\right]\n",
    "$$"
   ]
  },
  {
   "cell_type": "code",
   "execution_count": null,
   "id": "74a601fb",
   "metadata": {},
   "outputs": [],
   "source": []
  }
 ],
 "metadata": {
  "kernelspec": {
   "display_name": "Python 3",
   "language": "python",
   "name": "python3"
  },
  "language_info": {
   "codemirror_mode": {
    "name": "ipython",
    "version": 3
   },
   "file_extension": ".py",
   "mimetype": "text/x-python",
   "name": "python",
   "nbconvert_exporter": "python",
   "pygments_lexer": "ipython3",
   "version": "3.8.11"
  }
 },
 "nbformat": 4,
 "nbformat_minor": 5
}
