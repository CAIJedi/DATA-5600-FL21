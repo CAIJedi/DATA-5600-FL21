{
 "cells": [
  {
   "cell_type": "markdown",
   "id": "9a6b26aa-9d02-414b-b7c1-a933e23328c2",
   "metadata": {},
   "source": [
    "# DATA 5600: Introduction to Regression and Machine Learning for Analytics\n",
    "\n",
    "## __Sampling Distributions and the Monte Carlo Method__ <br>\n",
    "\n",
    "Author:      Tyler J. Brough <br>\n",
    "Updated: September 20, 2021 <br>\n",
    "\n",
    "---\n",
    "\n",
    "<br>"
   ]
  },
  {
   "cell_type": "code",
   "execution_count": 1,
   "id": "cf5ccdf3-667b-42ef-a8a1-ee49fdfff585",
   "metadata": {},
   "outputs": [],
   "source": [
    "import numpy as np\n",
    "from scipy import stats\n",
    "import seaborn as sns\n",
    "import matplotlib.pyplot as plt\n",
    "\n",
    "sns.set_style('darkgrid')\n",
    "plt.rcParams['figure.figsize'] = [10, 5]"
   ]
  },
  {
   "cell_type": "markdown",
   "id": "bbedecd0-9da5-43d3-b120-b696a53fb5b0",
   "metadata": {},
   "source": [
    "<br>\n",
    "\n",
    "---\n"
   ]
  },
  {
   "cell_type": "markdown",
   "id": "c9c0968c-c502-4b73-b5c5-37d8be107dbb",
   "metadata": {},
   "source": [
    "# __The Monte Carlo Simulation Algorithm for Sampling Distributions__\n",
    "\n",
    "1. Determine the population distribution of interest. \n",
    "\n",
    "2. Use a pseudo random number generator (PRNG) to draw $M$ samples each of size $n$ from the population. \n",
    "   (We are using the PRNG's builtin to Python's `np.random`) \n",
    "\n",
    "3. Apply the sample statistic of interest to each of the $M$ samples. Obtain $M$ values of the sample\n",
    "   statistic. \n",
    "\n",
    "4. Plot a histogram of the simulated sample from the sampling distribution.\n",
    "\n",
    "5. Calculate the mean and standard deviation of the simulated sample. If available (i.e., if the Central\n",
    "   Limit Theorem, or CLT, applies compare with the theoretical values from the population.)\n",
    "\n",
    "<br>"
   ]
  },
  {
   "cell_type": "markdown",
   "id": "64879c83-d36a-4a5a-ac6f-8a59f48b434c",
   "metadata": {},
   "source": [
    "## __Glossary__\n",
    "\n",
    "<br>\n",
    "\n",
    "The __Law of Large Numbers__ (__LLN__) is a theorem that describes the result of performing the same experiment a large number of times. According to the LLN, the average of the results obtained from a large number of trials should be arbitrarily close to the expected value, and will tend to become closer as more trials are performed. \n",
    "\n",
    "<br>\n",
    "\n",
    "See the Wikipedia article on the [Law of Large Numbers](https://en.wikipedia.org/wiki/Law_of_large_numbers) for more details. \n",
    "\n",
    "<br>\n",
    "<br>\n",
    "\n",
    "The __Central Limit Theorem__ (__CLT__) says that under random sampling, as the sample\n",
    "size gets large, the sampling distribution of the sample mean approaches a normal\n",
    "distribution with mean $\\mu$ and variance $\\sigma^{2}/n$. Put another way, if the\n",
    "sample size is sufficiently large, we can assume that the sample mean has a normal \n",
    "distribution. This means that with a 'sufficiently large' sample size, it can be \n",
    "assumed that\n",
    "\n",
    "<br>\n",
    "\n",
    "$$\n",
    "\\large{Z = \\frac{\\bar{X} - \\mu}{\\sigma / \\sqrt{n}}}\n",
    "$$\n",
    "\n",
    "<br>\n",
    "\n",
    "has a standard normal distribution.\n",
    "\n",
    "<br>"
   ]
  },
  {
   "cell_type": "code",
   "execution_count": null,
   "id": "2e57ed42-1995-408b-bc8c-81158d301fb4",
   "metadata": {},
   "outputs": [],
   "source": []
  }
 ],
 "metadata": {
  "kernelspec": {
   "display_name": "Python 3",
   "language": "python",
   "name": "python3"
  },
  "language_info": {
   "codemirror_mode": {
    "name": "ipython",
    "version": 3
   },
   "file_extension": ".py",
   "mimetype": "text/x-python",
   "name": "python",
   "nbconvert_exporter": "python",
   "pygments_lexer": "ipython3",
   "version": "3.8.5"
  }
 },
 "nbformat": 4,
 "nbformat_minor": 5
}
