{
 "cells": [
  {
   "cell_type": "markdown",
   "id": "a551eb2c-1fbb-4e96-bd86-6c3dfc5134c6",
   "metadata": {},
   "source": [
    "# __DATA 5600: Introduction to Regression and Machine Learning for Analytics__\n",
    "\n",
    "## __Review of Basic Concepts in Asymptotic Theory__\n",
    "\n",
    "<br>\n",
    "<br>"
   ]
  },
  {
   "cell_type": "code",
   "execution_count": 1,
   "id": "de3af844-4fd4-4cbf-ab31-e58340fde310",
   "metadata": {},
   "outputs": [],
   "source": [
    "import numpy as np\n",
    "import matplotlib.pyplot as plt"
   ]
  },
  {
   "cell_type": "code",
   "execution_count": 2,
   "id": "eec39517-dd4c-43d5-a9b2-780f3890ebcd",
   "metadata": {},
   "outputs": [],
   "source": [
    "%matplotlib inline"
   ]
  },
  {
   "cell_type": "markdown",
   "id": "23f95faf-7fef-4b93-b6b6-0c064a15b7df",
   "metadata": {},
   "source": [
    "<br>\n",
    "\n",
    "## __The Law of Large Numbers__\n",
    "\n",
    "***Definition***\n",
    "\n",
    "The law which states that the larger a sample, the nearer its mean is to that of the parent population from which the sample is drawn. More formally: for every $\\varepsilon > 0$, the probability\n",
    "\n",
    "$$\\{|\\bar{Y} - Y| > \\varepsilon \\} \\rightarrow 0 \\quad \\mbox{as} \\quad n \\rightarrow \\infty$$\n",
    "\n",
    "where $n$ is the sample size, $\\bar{Y}$ is the sample mean, and $\\mu$ is the population mean.\n",
    "\n",
    "More rigorous definitions are the following:\n",
    "\n",
    "For i.i.d sequences of one-dimensional random variables $Y_{1}, Y_{2}, \\ldots$, let $\\bar{Y}_{n} = \\frac{1}{n} \\sum\\limits_{i=1}^{n} Y_{i}$.\n",
    "\n",
    "The *weak law of large numbers* states that $\\bar{Y}_{n}$ converges in probability to $\\mu = E\\{Y_{i}\\}$ if $E\\{|Y_{i}|\\} < \\infty$.\n",
    "\n",
    "The *strong law of large numbers* states that $\\bar{Y}_{n}$ converges almost surely to $\\mu$ if $E\\{|Y_{i}|\\} < \\infty$.\n",
    "\n",
    "Both results hold under the more stringent but easily checked condition that $var\\{Y_{i}\\} = \\sigma^{2} < \\infty$.\n",
    "\n",
    "<br>"
   ]
  },
  {
   "cell_type": "markdown",
   "id": "4e086253-735d-44d7-b71d-3aad349c3c81",
   "metadata": {},
   "source": [
    "<br>\n",
    "\n",
    "### Using Simulation to Check the Law of Large Numbers\n",
    "\n",
    "We can use simulation to check the Law of Large Numbers. Consider a fair die with six sides and outcomes $Y = \\{1, 2, 3, 4, 5, 6\\}$, each with $P[Y_{i} = y] = \\frac{1}{6}$. The true mean is \n",
    "\n",
    "$$ \\mu = E\\{Y\\} = \\frac{1}{6}[1 + 2 + 3 + 4 + 5 + 6] = 3.5$$\n",
    "\n",
    "We can verify this in `Python`:"
   ]
  },
  {
   "cell_type": "code",
   "execution_count": 6,
   "id": "f8c5e631-6565-413c-aa7f-baf3676632c9",
   "metadata": {},
   "outputs": [
    {
     "data": {
      "text/plain": [
       "array([1, 2, 3, 4, 5, 6])"
      ]
     },
     "execution_count": 6,
     "metadata": {},
     "output_type": "execute_result"
    }
   ],
   "source": [
    "x = np.arange(1,7)\n",
    "mu = (1/6) * x.sum()\n",
    "x"
   ]
  },
  {
   "cell_type": "code",
   "execution_count": 7,
   "id": "13516f2e-6f52-4365-a096-b2cf81b3369b",
   "metadata": {},
   "outputs": [
    {
     "data": {
      "text/plain": [
       "3.5"
      ]
     },
     "execution_count": 7,
     "metadata": {},
     "output_type": "execute_result"
    }
   ],
   "source": [
    "mu"
   ]
  },
  {
   "cell_type": "markdown",
   "id": "ffe4b212-eef7-4f1e-b635-5b0e89092b17",
   "metadata": {},
   "source": [
    "<br>\n",
    "\n",
    "Now let's simulate some rolls of the die and collect some data. We will let our sample size increase and plot the estimated mean.\n",
    "\n",
    "We can simulate a single roll of the die as follows:\n",
    "\n",
    "\n",
    "<br>"
   ]
  },
  {
   "cell_type": "code",
   "execution_count": 10,
   "id": "727d42a3-66a6-4173-8dfe-b1a7a98c61dd",
   "metadata": {},
   "outputs": [
    {
     "data": {
      "text/plain": [
       "5"
      ]
     },
     "execution_count": 10,
     "metadata": {},
     "output_type": "execute_result"
    }
   ],
   "source": [
    "## roll the dice a single time and observe the outcome\n",
    "np.random.randint(1, 7)"
   ]
  },
  {
   "cell_type": "markdown",
   "id": "f91c747c-ca98-4b5f-8f02-86a3a11b5d9c",
   "metadata": {},
   "source": [
    "<br>\n",
    "\n",
    "We can also simulate many draws at once as follows:\n",
    "\n",
    "<br>"
   ]
  },
  {
   "cell_type": "code",
   "execution_count": 11,
   "id": "217c5d67-9856-4afa-8c86-4fbde53e5483",
   "metadata": {},
   "outputs": [
    {
     "data": {
      "text/plain": [
       "array([2, 6, 5, 3, 3, 1, 1, 6, 4, 5, 5, 1, 3, 6, 4, 1, 1, 3, 2, 4, 4, 2,\n",
       "       6, 1, 5, 6, 4, 3, 2, 3, 6, 3, 2, 4, 6, 5, 6, 5, 5, 4, 5, 2, 6, 5,\n",
       "       4, 1, 3, 6, 4, 1, 2, 2, 4, 3, 6, 3, 5, 3, 1, 5, 4, 3, 4, 6, 6, 5,\n",
       "       2, 6, 1, 2, 4, 5, 2, 1, 5, 6, 1, 2, 5, 1, 1, 1, 5, 3, 2, 5, 2, 3,\n",
       "       2, 3, 6, 2, 2, 4, 2, 3, 3, 5, 1, 1])"
      ]
     },
     "execution_count": 11,
     "metadata": {},
     "output_type": "execute_result"
    }
   ],
   "source": [
    "## roll the dice 100 times and observe the outcomes\n",
    "np.random.randint(1, 7, size=100)"
   ]
  },
  {
   "cell_type": "code",
   "execution_count": 12,
   "id": "80c544d2-7b19-489f-85c7-8619d97cdbe6",
   "metadata": {},
   "outputs": [
    {
     "data": {
      "text/plain": [
       "Text(0, 0.5, 'Estimated Mean')"
      ]
     },
     "execution_count": 12,
     "metadata": {},
     "output_type": "execute_result"
    },
    {
     "data": {
      "image/png": "[encoded data removed]",
      "text/plain": [
       "<Figure size 432x288 with 1 Axes>"
      ]
     },
     "metadata": {
      "needs_background": "light"
     },
     "output_type": "display_data"
    }
   ],
   "source": [
    "m = 10000\n",
    "sizes = np.arange(1,m + 1)\n",
    "means = np.zeros((m,))\n",
    "\n",
    "for i in range(len(sizes)):\n",
    "    y = np.random.randint(1,7, size=sizes[i])\n",
    "    means[i] = y.mean()\n",
    "    \n",
    "plt.plot(means, 'g', lw = 2.5)\n",
    "plt.grid(True)\n",
    "plt.title(\"Simulating the Toss of a Fair Die to Demonstrate the Law of Large Numbers\")\n",
    "plt.xlabel(\"Sample Size\")\n",
    "plt.ylabel(\"Estimated Mean\")"
   ]
  },
  {
   "cell_type": "code",
   "execution_count": 13,
   "id": "63e54f54-18b4-478e-a4f0-aa210e1968ac",
   "metadata": {},
   "outputs": [
    {
     "data": {
      "text/plain": [
       "array([5.        , 2.        , 2.66666667, 3.        , 4.6       ,\n",
       "       3.16666667, 3.14285714, 4.5       , 3.11111111, 3.5       ])"
      ]
     },
     "execution_count": 13,
     "metadata": {},
     "output_type": "execute_result"
    }
   ],
   "source": [
    "## peak at the first 10 estimated means\n",
    "means[:10]"
   ]
  },
  {
   "cell_type": "code",
   "execution_count": 15,
   "id": "e84505b4-d1ce-4dbe-a0f5-7471180f756e",
   "metadata": {},
   "outputs": [
    {
     "data": {
      "text/plain": [
       "array([3.48473626, 3.48208567, 3.51816271, 3.50130078, 3.49874937,\n",
       "       3.50440176, 3.483345  , 3.49089818, 3.50085009, 3.4922    ])"
      ]
     },
     "execution_count": 15,
     "metadata": {},
     "output_type": "execute_result"
    }
   ],
   "source": [
    "## peak at the last 10 estimated means\n",
    "means[-10:]"
   ]
  },
  {
   "cell_type": "markdown",
   "id": "e9717121-a60f-48a5-a089-42111c7aca18",
   "metadata": {},
   "source": [
    "<br>\n",
    "\n",
    "We can do a similar simulation for the flipping of a fair coin. We can simulate the flip of a coin with the Binomial distribution as follows:\n",
    "\n",
    "<br>"
   ]
  },
  {
   "cell_type": "code",
   "execution_count": 16,
   "id": "13a2c762-5e43-4ca4-8672-150be8a0a188",
   "metadata": {},
   "outputs": [
    {
     "data": {
      "text/plain": [
       "Text(0, 0.5, 'Estimated Mean')"
      ]
     },
     "execution_count": 16,
     "metadata": {},
     "output_type": "execute_result"
    },
    {
     "data": {
      "image/png": "[encoded data removed]",
      "text/plain": [
       "<Figure size 432x288 with 1 Axes>"
      ]
     },
     "metadata": {
      "needs_background": "light"
     },
     "output_type": "display_data"
    }
   ],
   "source": [
    "m = 10000\n",
    "sizes = np.arange(1,m + 1)\n",
    "means = np.zeros((m,))\n",
    "\n",
    "for i in range(len(sizes)):\n",
    "    y = np.random.binomial(1, 0.5, sizes[i])\n",
    "    means[i] = y.mean()\n",
    "    \n",
    "plt.plot(means, 'g', lw = 2.5)\n",
    "plt.grid(True)\n",
    "plt.title(\"Simulating Flipping a Fair Coin\")\n",
    "plt.xlabel(\"Sample Size\")\n",
    "plt.ylabel(\"Estimated Mean\")"
   ]
  },
  {
   "cell_type": "code",
   "execution_count": 17,
   "id": "2964412f-376f-40fd-8aaf-895d407ae517",
   "metadata": {},
   "outputs": [
    {
     "data": {
      "text/plain": [
       "array([1.        , 0.        , 0.33333333, 0.        , 1.        ,\n",
       "       0.83333333, 0.42857143, 0.375     , 0.77777778, 0.7       ])"
      ]
     },
     "execution_count": 17,
     "metadata": {},
     "output_type": "execute_result"
    }
   ],
   "source": [
    "## peak at the first 10 estimated means\n",
    "means[:10]"
   ]
  },
  {
   "cell_type": "code",
   "execution_count": 18,
   "id": "9690332c-bb5d-4529-aa9c-a6cdd7acfc68",
   "metadata": {},
   "outputs": [
    {
     "data": {
      "text/plain": [
       "array([0.50395356, 0.50110088, 0.50175123, 0.50190114, 0.50325163,\n",
       "       0.48929572, 0.49024707, 0.50280056, 0.49664966, 0.5029    ])"
      ]
     },
     "execution_count": 18,
     "metadata": {},
     "output_type": "execute_result"
    }
   ],
   "source": [
    "## peak at the last 10 estimated means\n",
    "means[-10:]"
   ]
  },
  {
   "cell_type": "markdown",
   "id": "4c5c4e94-5735-4250-ac72-6083fa0360db",
   "metadata": {},
   "source": [
    "<br>\n",
    "\n",
    "#### Example: The Exponential Distribution\n",
    "\n",
    "Let's do a simulation for the ___exponential distribution___ together.\n",
    "\n",
    "<br>\n",
    "\n",
    "See the wikipedia article for details: https://en.wikipedia.org/wiki/Exponential_distribution\n",
    "\n",
    "<br>"
   ]
  },
  {
   "cell_type": "code",
   "execution_count": 19,
   "id": "8abc5b21-6583-47b7-8aa5-b2c0b6e58b2e",
   "metadata": {},
   "outputs": [
    {
     "data": {
      "text/plain": [
       "\u001b[0;31mDocstring:\u001b[0m\n",
       "exponential(scale=1.0, size=None)\n",
       "\n",
       "Draw samples from an exponential distribution.\n",
       "\n",
       "Its probability density function is\n",
       "\n",
       ".. math:: f(x; \\frac{1}{\\beta}) = \\frac{1}{\\beta} \\exp(-\\frac{x}{\\beta}),\n",
       "\n",
       "for ``x > 0`` and 0 elsewhere. :math:`\\beta` is the scale parameter,\n",
       "which is the inverse of the rate parameter :math:`\\lambda = 1/\\beta`.\n",
       "The rate parameter is an alternative, widely used parameterization\n",
       "of the exponential distribution [3]_.\n",
       "\n",
       "The exponential distribution is a continuous analogue of the\n",
       "geometric distribution.  It describes many common situations, such as\n",
       "the size of raindrops measured over many rainstorms [1]_, or the time\n",
       "between page requests to Wikipedia [2]_.\n",
       "\n",
       ".. note::\n",
       "    New code should use the ``exponential`` method of a ``default_rng()``\n",
       "    instance instead; please see the :ref:`random-quick-start`.\n",
       "\n",
       "Parameters\n",
       "----------\n",
       "scale : float or array_like of floats\n",
       "    The scale parameter, :math:`\\beta = 1/\\lambda`. Must be\n",
       "    non-negative.\n",
       "size : int or tuple of ints, optional\n",
       "    Output shape.  If the given shape is, e.g., ``(m, n, k)``, then\n",
       "    ``m * n * k`` samples are drawn.  If size is ``None`` (default),\n",
       "    a single value is returned if ``scale`` is a scalar.  Otherwise,\n",
       "    ``np.array(scale).size`` samples are drawn.\n",
       "\n",
       "Returns\n",
       "-------\n",
       "out : ndarray or scalar\n",
       "    Drawn samples from the parameterized exponential distribution.\n",
       "\n",
       "See Also\n",
       "--------\n",
       "Generator.exponential: which should be used for new code.\n",
       "\n",
       "References\n",
       "----------\n",
       ".. [1] Peyton Z. Peebles Jr., \"Probability, Random Variables and\n",
       "       Random Signal Principles\", 4th ed, 2001, p. 57.\n",
       ".. [2] Wikipedia, \"Poisson process\",\n",
       "       https://en.wikipedia.org/wiki/Poisson_process\n",
       ".. [3] Wikipedia, \"Exponential distribution\",\n",
       "       https://en.wikipedia.org/wiki/Exponential_distribution\n",
       "\u001b[0;31mType:\u001b[0m      builtin_function_or_method\n"
      ]
     },
     "metadata": {},
     "output_type": "display_data"
    }
   ],
   "source": [
    "## let's take a single draw from the exponential distribution \n",
    "np.random.exponential?"
   ]
  },
  {
   "cell_type": "markdown",
   "id": "e84e876d-6e9f-4231-8120-d557ce27dd65",
   "metadata": {},
   "source": []
  },
  {
   "cell_type": "markdown",
   "id": "2f689d9f-adfc-42f7-aca7-d50ad889fcd8",
   "metadata": {},
   "source": [
    "<br>\n",
    "\n",
    "#### Example: The Poisson Distribution\n",
    "\n",
    "Let's do a simulation for the ___Poisson distribution___ together.\n",
    "\n",
    "<br>\n",
    "\n",
    "See the wikipedia article for details: https://en.wikipedia.org/wiki/Poisson_distribution\n",
    "\n",
    "<br>"
   ]
  },
  {
   "cell_type": "markdown",
   "id": "abb5554d-4bca-49b9-b09c-5fd6a62175e1",
   "metadata": {},
   "source": [
    "<br>\n",
    "\n",
    "#### More Examples:\n",
    "\n",
    "- Normal distribition\n",
    "- Binomial experiment (number of heads after n tosses)\n",
    "\n",
    "<br>"
   ]
  },
  {
   "cell_type": "code",
   "execution_count": null,
   "id": "de80f034-fc2d-4614-81b0-31a3d4a107a9",
   "metadata": {},
   "outputs": [],
   "source": []
  },
  {
   "cell_type": "code",
   "execution_count": null,
   "id": "e3709134-7c96-40c4-b0d5-3d39810188c0",
   "metadata": {},
   "outputs": [],
   "source": []
  },
  {
   "cell_type": "markdown",
   "id": "422cfca7-56c9-4cab-a672-5a049dd100c6",
   "metadata": {},
   "source": []
  },
  {
   "cell_type": "code",
   "execution_count": null,
   "id": "d6b8f6e5-36b3-445c-b554-96a25c8fe571",
   "metadata": {},
   "outputs": [],
   "source": []
  }
 ],
 "metadata": {
  "kernelspec": {
   "display_name": "Python 3",
   "language": "python",
   "name": "python3"
  },
  "language_info": {
   "codemirror_mode": {
    "name": "ipython",
    "version": 3
   },
   "file_extension": ".py",
   "mimetype": "text/x-python",
   "name": "python",
   "nbconvert_exporter": "python",
   "pygments_lexer": "ipython3",
   "version": "3.8.5"
  }
 },
 "nbformat": 4,
 "nbformat_minor": 5
}
