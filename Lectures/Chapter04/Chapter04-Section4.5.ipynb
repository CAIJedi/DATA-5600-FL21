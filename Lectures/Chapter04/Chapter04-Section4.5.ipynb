{
 "cells": [
  {
   "cell_type": "markdown",
   "id": "b8a976c6",
   "metadata": {},
   "source": [
    "# DATA 5600: Introduction to Regression and Machine Learning for Analytics\n",
    "\n",
    "## __Section 4.5: Problems with the Concept of Statistical Significance__ <br>\n",
    "\n",
    "Author:  Tyler J. Brough <br>\n",
    "Updated: October 20, 2021 <br>\n",
    "\n",
    "---\n",
    "\n",
    "<br>"
   ]
  },
  {
   "cell_type": "code",
   "execution_count": 1,
   "id": "3e07cd15",
   "metadata": {},
   "outputs": [],
   "source": [
    "import numpy as np\n",
    "from scipy import stats\n",
    "import matplotlib.pyplot as plt\n",
    "\n",
    "plt.rcParams['figure.figsize'] = [10, 8]"
   ]
  },
  {
   "cell_type": "code",
   "execution_count": 2,
   "id": "0e55ecf9",
   "metadata": {},
   "outputs": [],
   "source": [
    "np.random.seed(7)"
   ]
  },
  {
   "cell_type": "markdown",
   "id": "680fc807",
   "metadata": {},
   "source": [
    "## __Section 4.5: Statistical Significance Not The Same As Practical Importance__\n",
    "\n",
    "<br>\n",
    "\n",
    "\n",
    "* A result can be statistically significant - not easily explainable by chance alone - but without being large enough to be important in practice.\n",
    "\n",
    "\n",
    "* For example, if a treatment is estimated to increase earnings by $\\$10$ per year with a standard error of $\\$2$, this would be statistically but not practically significant (in the U.S. context). \n",
    "\n",
    "\n",
    "* Conversely, an estimate of $\\$10,000$ with a standard error of $\\$10,000$ would not be statistically significant, but it has the possibility of being important in practice\n",
    "\n",
    "<br>"
   ]
  },
  {
   "cell_type": "markdown",
   "id": "971c111d",
   "metadata": {},
   "source": [
    "### __Non-Significance is Not the Same as Zero__\n",
    "\n",
    "<br>\n",
    "\n",
    "* In Section 3.5 there is an example of arterial stents for heart patients\n",
    "\n",
    "* The treatment group outperformed the control group, but not statistically so\n",
    "\n",
    "* The observed average difference in treadmill time was $16.6$ seconds with a standard error of $9.9$\n",
    "\n",
    "* This corresponds to a $95\\%$ confidence interval that included zero and a $p$-value of $0.20$\n",
    "\n",
    "* A fair summary here is that the results are uncertain: it is unclear whether the net treatment effect is positive or negative in the general population\n",
    "\n",
    "* It would be inappropriate to say that stents have no effect\n",
    "\n",
    "<br>"
   ]
  },
  {
   "cell_type": "markdown",
   "id": "e731a36a",
   "metadata": {},
   "source": [
    "### __The Difference Between \"Significant\" and \"Not Significant\" Is Not Itself Statistically Significant__\n",
    "\n",
    "<br>\n",
    "\n",
    "* Changes in statistical significance do not themselves necessarily achieve statistical significance\n",
    "\n",
    "\n",
    "* This is not the same as the observation that any particular threshold is arbitrary\n",
    "\n",
    "\n",
    "* For example, only a small change is required to move an estimate from $5.1\\%$ significance level to $4.9\\%$, thus moving it into statistical significance\n",
    "\n",
    "\n",
    "* Rather even large changes in significance can correspond to small, nonsignificant changes in the underlying variables\n",
    "\n",
    "\n",
    "* Consider two independent studies with effect estimates and standard errors of $25 \\pm 10$ and $10 \\pm 10$. \n",
    "\n",
    "\n",
    "* The first study is statistically siginificant at the $1\\%$ level\n",
    "\n",
    "\n",
    "* The second is not at all significant at 1 standard error away from zero\n",
    "\n",
    "\n",
    "* It is tempting to conclude that there is a large difference between the two studies\n",
    "\n",
    "\n",
    "* In fact, the difference is not even close to being statistically significant\n",
    "\n",
    "\n",
    "* The estimated difference is 15, with a standard error of $\\sqrt{10^{2} + 10^{2}} = 14$\n",
    "\n",
    "<br>"
   ]
  },
  {
   "cell_type": "markdown",
   "id": "3c0f3d66",
   "metadata": {},
   "source": [
    "### __Reseacher Degrees of Freedom, $p$-hacking, and Forking Paths__\n",
    "\n",
    "<br>\n",
    "\n",
    "\n",
    "* Multiple comparisons make possible the \"gaming\" or abuse of statistical significance\n",
    "\n",
    "\n",
    "* When there are many ways that data can be selected, excluded, and analyzed it is not difficult to attain a low $p$-value in the absence of a real effect\n",
    "\n",
    "\n",
    "* Part of the problem is the \"file-drawer effect\" - we don't know how many non-significant models were left unpublished or unmentioned relative to a published statistically significant one\n",
    "\n",
    "\n",
    "* An even worse problem is \"researcher degrees of freedom\"\n",
    "\n",
    "\n",
    "* There are many decisions when programming (especially in complex models), deciding on variables to include/exclude, and which statistical procedures to use\n",
    "\n",
    "\n",
    "* Researchers can use these degrees of freedom to $p$-hack (which is a form of rent seeking behavior) to achieve low $p$-value (and thus statistical significance) from otherwise unpromising data\n",
    "\n",
    "\n",
    "<br>\n",
    "\n",
    "__Consider the following testing procedures:__\n",
    "\n",
    "1. Simple statistical test based on a unique test statistic, $T$, which when applied to the observed data yields $T(y)$\n",
    "\n",
    "2. Classical test pre-chosen from a set of possible tests: thus, $T(y; \\phi)$, with preregistered $\\phi$. \n",
    "    - $\\phi$ does not represent parameters in the model\n",
    "    - It represents choices in the analysis\n",
    "    - Control variables in a regression\n",
    "    - Transformation procedures\n",
    "    - Data coding and excluding rules\n",
    "    - Decision about which main effect or interaction to focus on\n",
    "    \n",
    "    \n",
    "3. Researcher degrees of freedom without fishing: computing a single test based on the data\n",
    "    - But in an environment where a different test would have been performed given different data\n",
    "    - Thus $T(y; \\phi(y))$, where the function $\\phi(\\cdot)$ is observed in the observed case\n",
    "    \n",
    "4. \"Fising\": computing $T(y; \\phi(y))$, for $j = 1, \\ldots, J$\n",
    "    - That is, performing $J$ tests and then reporting the best result given the data\n",
    "    - Thus $T(y; \\phi^{best}(y))$.\n",
    "    \n",
    "    \n",
    "<br>\n",
    "<br>"
   ]
  },
  {
   "cell_type": "markdown",
   "id": "5754ec10",
   "metadata": {},
   "source": [
    "* It is common for researchers to do #3, but when this is pointed out to them they often think they are being accused of #4\n",
    "\n",
    "\n",
    "* In other words they claim that since they are not doing #4 that means that they are necessarily doing #2\n",
    "\n",
    "\n",
    "* The problem with #3 is that even without nefarious intent, a researcher can induce a huge number of researcher degrees of freedom and thus obtain statistical significance from noisy data\n",
    "    - leading to apparently strong conclusions that do not truly represent the underlying population or target of study\n",
    "    - fail to reproduce in controlled studies\n",
    "    \n",
    "<br>"
   ]
  },
  {
   "cell_type": "markdown",
   "id": "8aa1200c",
   "metadata": {},
   "source": [
    "> ___\"Our recommended solution to this problem of \"forking paths\" is not to compute adjusted $p$-values but rather to directly model the variation that is otherwise hidden in all these possible data coding and analysis choices, and to accept uncertainty and not demand statistical significance in our results.\"___\n",
    "\n",
    "<br>"
   ]
  },
  {
   "cell_type": "code",
   "execution_count": null,
   "id": "22e2fdf5",
   "metadata": {},
   "outputs": [],
   "source": []
  }
 ],
 "metadata": {
  "kernelspec": {
   "display_name": "Python 3",
   "language": "python",
   "name": "python3"
  },
  "language_info": {
   "codemirror_mode": {
    "name": "ipython",
    "version": 3
   },
   "file_extension": ".py",
   "mimetype": "text/x-python",
   "name": "python",
   "nbconvert_exporter": "python",
   "pygments_lexer": "ipython3",
   "version": "3.8.11"
  }
 },
 "nbformat": 4,
 "nbformat_minor": 5
}
