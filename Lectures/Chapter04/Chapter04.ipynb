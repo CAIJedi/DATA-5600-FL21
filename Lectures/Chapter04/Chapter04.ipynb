{
 "cells": [
  {
   "cell_type": "markdown",
   "id": "b38c192e-c3ce-4060-a1eb-669cbfc74abb",
   "metadata": {},
   "source": [
    "# DATA 5600: Introduction to Regression and Machine Learning for Analytics\n",
    "\n",
    "## __Chapter 4: Statistical Inference__ <br>\n",
    "\n",
    "Author:      Tyler J. Brough <br>\n",
    "Updated: September 19, 2021 <br>\n",
    "\n",
    "---\n",
    "\n",
    "<br>"
   ]
  },
  {
   "cell_type": "code",
   "execution_count": 1,
   "id": "db0af5f5-fc06-4c68-9a93-a057ba1f1c7a",
   "metadata": {},
   "outputs": [],
   "source": [
    "import numpy as np\n",
    "from scipy import stats\n",
    "import seaborn as sns\n",
    "import matplotlib.pyplot as plt\n",
    "\n",
    "sns.set_style('darkgrid')\n",
    "plt.rcParams['figure.figsize'] = [10, 5]"
   ]
  },
  {
   "cell_type": "markdown",
   "id": "f3ced3f6-ca6f-4593-932a-583f9850d51e",
   "metadata": {},
   "source": [
    "<br>\n",
    "\n",
    "---\n"
   ]
  },
  {
   "cell_type": "markdown",
   "id": "8dceaa2a-fe21-41f8-8fb2-994319c7388c",
   "metadata": {},
   "source": [
    "<br>\n",
    "\n",
    "* Statistical inference can be formulated as a set of operations on data that yields estimates and uncertainty statements about predictions and parameters of some underlying process or population.\n",
    "\n",
    "* Uncertainty statements are derived based on some assumed probability model for observed data\n",
    "\n",
    "* In this notebook we discuss the basics of probability modeling, estimation, bias and variance, and the interpretation of statistical inference and statistical errors in applied work\n",
    "\n",
    "* We introduce the theme of uncertainty in statistical inference\n",
    "\n",
    "* __Important Theme of This Chapter:__ ___It is a mistake to use hypothesis tests or statistical significance to attribute certainty from noisy data___\n",
    "\n",
    "<br>"
   ]
  },
  {
   "cell_type": "markdown",
   "id": "44f06c5e-7263-494a-bb93-660ad65ae913",
   "metadata": {},
   "source": [
    "## __Section 4.1: Sampling Distributions and Generative Models__\n",
    "\n",
    "<br>"
   ]
  },
  {
   "cell_type": "markdown",
   "id": "9de0cdb6-0fbc-407f-a457-8432bb4eb44b",
   "metadata": {},
   "source": [
    "#### __Sampling, Measurement Error, and Model Error__\n",
    "\n",
    "<br>"
   ]
  },
  {
   "cell_type": "markdown",
   "id": "4d9fe5dc-6f9a-4a5c-ab80-e0a285482439",
   "metadata": {},
   "source": [
    "Statistical inference is used to learn from incomplete or imperfect data. There are three standard paradigms for thinking about the role of inference:\n",
    "\n",
    "\n",
    "1. The __Sampling Model__ - learn something about a population, which we must estimate from a sample, or subset, of that population\n",
    "\n",
    "2. The __Measurement Error Model__ - we are interested in learning about aspects of some underlying pattern or law \n",
    "    - For example the coefficients $a$ and $b$ in $y_{i} = a + b x_{i}$\n",
    "    - But the data are measured with error so that we work with: $y_{i} = a + b x_{i} + \\epsilon_{i}$\n",
    "    - We can consider measurement error in $x$ as well\n",
    "\n",
    "\n",
    "3. The __Model Error__ - refers to the inevitable imperfections of the models that we apply to real data\n"
   ]
  },
  {
   "cell_type": "markdown",
   "id": "ee6b5996-3968-463d-9c17-d2f59ae04d86",
   "metadata": {},
   "source": [
    "<br>\n",
    "\n",
    "* These three modes are different: \n",
    "    - The sampling model makes no reference to measurements\n",
    "    - The measurement model can apply even when complete data are observed\n",
    "    - The model error model can arise even with perfectly precise observations\n",
    "* We typically consider all three when building models\n",
    "\n",
    "\n",
    "<br>\n",
    "\n",
    "__Example:__\n",
    "\n",
    "\n",
    "* Consider a regression model predicting students' grades from pre-test scores and other background variables\n",
    "\n",
    "* There is typically a sampling aspect to such a study, performed on some set of students with the goal of generalizing to a larger population\n",
    "\n",
    "* The model also includes a measurement error, because a student's test score is only an imperfect measure of their abilities\n",
    "\n",
    "* And also model error because any assumed functional form can only be approximate\n",
    "\n",
    "* Additionally, any student's ability will vary with time and by circumstances (this could be thought of as measurement error or model error)\n",
    "\n",
    "<br>\n",
    "\n",
    "* The textbook takes a standard measurement-error approach framework: \n",
    "\n",
    "$$\n",
    "\\large{y_{i} = a + b x_{i} + \\epsilon_{i}}\n",
    "$$\n",
    "\n",
    "* The $\\epsilon$'s can be treated as model errors\n",
    "\n",
    "* The sampling interpretation is implicit in that errors $\\epsilon_{1}, \\ldots, \\epsilon_{n}$ can be considered as a random sample from a distribution that represents a \"superpopulation\""
   ]
  },
  {
   "cell_type": "markdown",
   "id": "4badb696-3f8e-440b-9b62-1f392b4b1202",
   "metadata": {},
   "source": [
    "#### __The Sampling Distribution__\n",
    "\n",
    "<br>\n",
    "\n",
    "* The ___sampling distribution__ is the set of all possible datasets that could have been observed if the data collection process had been re-done\n",
    "\n",
    "* The probabilities of these possible values"
   ]
  },
  {
   "cell_type": "markdown",
   "id": "c615922f-03ed-4c7b-a2e9-c08489cf5ec8",
   "metadata": {},
   "source": [
    "<br>\n",
    "\n",
    "## __Section 4.2: Estimates, Standard Errors, and Confidence Intervals__\n",
    "\n",
    "<br>"
   ]
  },
  {
   "cell_type": "code",
   "execution_count": null,
   "id": "28d931f3-f416-486b-8c03-f3a5aa2e6360",
   "metadata": {},
   "outputs": [],
   "source": []
  },
  {
   "cell_type": "code",
   "execution_count": null,
   "id": "9dec9f31-bea0-45a4-802f-4adb343dc05e",
   "metadata": {},
   "outputs": [],
   "source": []
  },
  {
   "cell_type": "code",
   "execution_count": null,
   "id": "a43267ba-b62e-4268-b0f2-ea0f96d6e7a5",
   "metadata": {},
   "outputs": [],
   "source": []
  },
  {
   "cell_type": "code",
   "execution_count": null,
   "id": "55fc8164-13a6-4abe-befc-9fc2386a5ef2",
   "metadata": {},
   "outputs": [],
   "source": []
  },
  {
   "cell_type": "markdown",
   "id": "e0b51e2e-bee6-4e62-a799-2a2ea36cdc73",
   "metadata": {},
   "source": [
    "<br>\n",
    "\n",
    "## __Section 4.3: Bias and Unmodeled Uncertainty__\n",
    "\n",
    "<br>"
   ]
  },
  {
   "cell_type": "code",
   "execution_count": null,
   "id": "ea53bd4d-6af2-4718-8fbe-c583158cfbc0",
   "metadata": {},
   "outputs": [],
   "source": []
  },
  {
   "cell_type": "code",
   "execution_count": null,
   "id": "891381a1-71e1-4ce9-ab5e-65eec9dfb531",
   "metadata": {},
   "outputs": [],
   "source": []
  },
  {
   "cell_type": "code",
   "execution_count": null,
   "id": "ad4760e8-7f66-413b-879c-28f537134b1a",
   "metadata": {},
   "outputs": [],
   "source": []
  },
  {
   "cell_type": "code",
   "execution_count": null,
   "id": "51411321-ee77-4261-b4f8-0386ed374235",
   "metadata": {},
   "outputs": [],
   "source": []
  },
  {
   "cell_type": "markdown",
   "id": "642c4a89-7638-4e39-84d1-5adc5b17fcf4",
   "metadata": {},
   "source": [
    "<br>\n",
    "\n",
    "## __Section 4.4: Statistical Significance, Hypothesis Testing, and Statistical Errors__\n",
    "\n",
    "<br>"
   ]
  },
  {
   "cell_type": "code",
   "execution_count": null,
   "id": "f1117c96-9b2d-48c6-8e80-0990e593e437",
   "metadata": {},
   "outputs": [],
   "source": []
  },
  {
   "cell_type": "code",
   "execution_count": null,
   "id": "b9331449-1863-40df-856a-af5828588df1",
   "metadata": {},
   "outputs": [],
   "source": []
  },
  {
   "cell_type": "code",
   "execution_count": null,
   "id": "b056ac01-804f-4c89-a5c8-8193b4d016cd",
   "metadata": {},
   "outputs": [],
   "source": []
  },
  {
   "cell_type": "code",
   "execution_count": null,
   "id": "786ae169-49ee-4a6d-939c-ef0db361f27b",
   "metadata": {},
   "outputs": [],
   "source": []
  },
  {
   "cell_type": "code",
   "execution_count": null,
   "id": "91fe543e-e18c-41bd-9c21-82b4f1462a32",
   "metadata": {},
   "outputs": [],
   "source": []
  },
  {
   "cell_type": "markdown",
   "id": "d8b213cd-1509-40e6-9d62-a1ea8b80172a",
   "metadata": {},
   "source": [
    "<br>\n",
    "\n",
    "## __Section 4.5: Problems With the Concept of Statistical Significance__\n",
    "\n",
    "<br>"
   ]
  },
  {
   "cell_type": "code",
   "execution_count": null,
   "id": "5f3778f4-cc6a-463d-9064-41d748bb1b24",
   "metadata": {},
   "outputs": [],
   "source": []
  },
  {
   "cell_type": "code",
   "execution_count": null,
   "id": "1dd81304-8977-4d09-818a-6d9a14510635",
   "metadata": {},
   "outputs": [],
   "source": []
  },
  {
   "cell_type": "code",
   "execution_count": null,
   "id": "1899c567-990b-48ef-8593-6607b4af086d",
   "metadata": {},
   "outputs": [],
   "source": []
  },
  {
   "cell_type": "code",
   "execution_count": null,
   "id": "da10ee56-6f1e-4dfc-861f-fd8607ed7b35",
   "metadata": {},
   "outputs": [],
   "source": []
  },
  {
   "cell_type": "code",
   "execution_count": null,
   "id": "57e8b052-20b1-4895-b688-7e75e1088afa",
   "metadata": {},
   "outputs": [],
   "source": []
  },
  {
   "cell_type": "markdown",
   "id": "63855692-5c8e-4003-a4be-cc7fab18d51a",
   "metadata": {},
   "source": [
    "<br>\n",
    "\n",
    "## __Section 4.6: Example of Hypothesis Testing: 55,000 Residents Need Your Help!__\n",
    "\n",
    "<br>"
   ]
  },
  {
   "cell_type": "code",
   "execution_count": null,
   "id": "b52abee5-6e76-4e8d-a780-38f47db5b3e7",
   "metadata": {},
   "outputs": [],
   "source": []
  },
  {
   "cell_type": "code",
   "execution_count": null,
   "id": "34e5b4fd-a561-413c-9081-ee945368779f",
   "metadata": {},
   "outputs": [],
   "source": []
  },
  {
   "cell_type": "code",
   "execution_count": null,
   "id": "1fa6fd10-35be-4f3d-b2a1-5ad5a9a887f0",
   "metadata": {},
   "outputs": [],
   "source": []
  },
  {
   "cell_type": "code",
   "execution_count": null,
   "id": "6e334418-ed78-46cb-ae78-717bbc2a911b",
   "metadata": {},
   "outputs": [],
   "source": []
  },
  {
   "cell_type": "code",
   "execution_count": null,
   "id": "f645324e-1ded-484a-8024-4aef64141f5c",
   "metadata": {},
   "outputs": [],
   "source": []
  },
  {
   "cell_type": "markdown",
   "id": "032b4de1-3209-47bb-9ca0-c99a5f20224e",
   "metadata": {},
   "source": [
    "<br>\n",
    "\n",
    "## __Section 4.7: Moving Beyond Hypothesis Testing__\n",
    "\n",
    "<br>"
   ]
  },
  {
   "cell_type": "code",
   "execution_count": null,
   "id": "de133312-559d-4988-82c0-edd82fa2b44f",
   "metadata": {},
   "outputs": [],
   "source": []
  },
  {
   "cell_type": "code",
   "execution_count": null,
   "id": "c01eeb12-88d8-4012-904f-e90284c9617e",
   "metadata": {},
   "outputs": [],
   "source": []
  },
  {
   "cell_type": "code",
   "execution_count": null,
   "id": "aec1a8c4-2b06-46a9-9ad3-7c8e58a999f5",
   "metadata": {},
   "outputs": [],
   "source": []
  },
  {
   "cell_type": "code",
   "execution_count": null,
   "id": "9937869d-40c8-4326-ac9c-bd4009d824b3",
   "metadata": {},
   "outputs": [],
   "source": []
  },
  {
   "cell_type": "code",
   "execution_count": null,
   "id": "29fe8e65-338f-4f40-8a78-aa2dba65b7f1",
   "metadata": {},
   "outputs": [],
   "source": []
  },
  {
   "cell_type": "markdown",
   "id": "f6df0356-b18a-40cf-b016-89ac52b5dd5c",
   "metadata": {},
   "source": [
    "<br>\n",
    "\n",
    "## __Bibliographic Note__\n",
    "\n",
    "<br>"
   ]
  },
  {
   "cell_type": "code",
   "execution_count": null,
   "id": "5ecce744-c572-4c92-9225-da2c4b034fa8",
   "metadata": {},
   "outputs": [],
   "source": []
  },
  {
   "cell_type": "code",
   "execution_count": null,
   "id": "69e7804c-40de-4f84-9692-9672684444ba",
   "metadata": {},
   "outputs": [],
   "source": []
  },
  {
   "cell_type": "code",
   "execution_count": null,
   "id": "ad41fd46-1194-49b9-b2ca-893d2877adde",
   "metadata": {},
   "outputs": [],
   "source": []
  }
 ],
 "metadata": {
  "kernelspec": {
   "display_name": "Python 3",
   "language": "python",
   "name": "python3"
  },
  "language_info": {
   "codemirror_mode": {
    "name": "ipython",
    "version": 3
   },
   "file_extension": ".py",
   "mimetype": "text/x-python",
   "name": "python",
   "nbconvert_exporter": "python",
   "pygments_lexer": "ipython3",
   "version": "3.8.5"
  }
 },
 "nbformat": 4,
 "nbformat_minor": 5
}
