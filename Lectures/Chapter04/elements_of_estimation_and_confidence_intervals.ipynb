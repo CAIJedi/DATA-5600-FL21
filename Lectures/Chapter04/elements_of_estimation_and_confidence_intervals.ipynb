{
 "cells": [
  {
   "cell_type": "markdown",
   "id": "c945233d",
   "metadata": {},
   "source": [
    "# DATA 5600: Introduction to Regression and Machine Learning for Analytics\n",
    "\n",
    "## __Topic: Some (Very) Brief Notes on Estimation and Confidence Intervals__ <br>\n",
    "\n",
    "Author:  Tyler J. Brough <br>\n",
    "Updated: October 7, 2021 <br>\n",
    "\n",
    "---\n",
    "\n",
    "<br>"
   ]
  },
  {
   "cell_type": "code",
   "execution_count": 1,
   "id": "b6a57717",
   "metadata": {},
   "outputs": [],
   "source": [
    "import numpy as np\n",
    "from scipy import stats\n",
    "import matplotlib.pyplot as plt\n",
    "\n",
    "plt.rcParams['figure.figsize'] = [10, 8]"
   ]
  },
  {
   "cell_type": "code",
   "execution_count": 2,
   "id": "41c0a747",
   "metadata": {},
   "outputs": [],
   "source": [
    "np.random.seed(7)"
   ]
  },
  {
   "cell_type": "markdown",
   "id": "5f39bbe8",
   "metadata": {},
   "source": [
    "---"
   ]
  },
  {
   "cell_type": "markdown",
   "id": "809c6694",
   "metadata": {},
   "source": [
    "<br>\n",
    "\n",
    "## __Estimation__\n",
    "\n",
    "<br>\n",
    "\n",
    "These notes are based upon readings from the following books:\n",
    "\n",
    "* _Introduction to Probability and Mathematical Statistics_ by Bain & Engelhart\n",
    "\n",
    "* _Mathematical Statistics with Applications_ by Wackerly, Mendenhall, and Scheaffer\n",
    "\n",
    "* _Statistics for Business and Economics_ by McClave, Benson, and Sincich\n",
    "\n",
    "<br>"
   ]
  },
  {
   "cell_type": "markdown",
   "id": "299dfc18",
   "metadata": {
    "tags": []
   },
   "source": [
    "### __Estimator__\n",
    "\n",
    "---\n",
    "\n",
    "A statistic, $T = \\mathscr{t}(X_{1}, X_{2}, \\ldots, X_{n})$, that is used to estimate the value of $\\tau(\\theta)$ is called an __estimator__ of $\\tau(\\theta)$, and an observed value of the statistic, $t = \\mathscr{t}(x_{1}, x_{2}, \\ldots, x_{n})$, is called an __estimate__ of $\\tau(\\theta)$.\n",
    "\n",
    "---\n",
    "\n",
    "<br>\n",
    "<br>"
   ]
  },
  {
   "cell_type": "markdown",
   "id": "8cb5a3a7",
   "metadata": {},
   "source": [
    "There are different methods of estimation. Among these, a few of the most common are: \n",
    "\n",
    "1. ___The Method of Moments___\n",
    "\n",
    "2. ___The Method of Maximum Likelihood___\n",
    "\n",
    "3. ___Bayes and Minimax Estimators___\n",
    "\n",
    "<br>\n",
    "\n",
    "To be brief, we will not discuss the first or the third here in detail. We will discuss Bayesian estimation as a separate topic. \n",
    "\n",
    "<br>\n",
    "<br>"
   ]
  },
  {
   "cell_type": "markdown",
   "id": "57bd05d6",
   "metadata": {},
   "source": [
    "<br>\n",
    "\n",
    "## __Confidence Intervals__\n",
    "\n",
    "<br>"
   ]
  },
  {
   "cell_type": "markdown",
   "id": "96212638",
   "metadata": {},
   "source": [
    "### __Confidence Interval__\n",
    "\n",
    "---\n",
    "\n",
    "__Confidence Interval__ An interval ($\\mathscr{l}(x_{1}, x_{2}, \\ldots, x_{n})$, $\\mathscr{u}(x_{1}, x_{2}, \\ldots, x_{n})$) is called a $\\mathbf{100 \\gamma\\%}$ __confidence interval__ for $\\theta$ if\n",
    "\n",
    "<br>\n",
    "\n",
    "$$\n",
    "P[\\mathscr{l}(X_{1}, X_{2}, \\ldots, X_{n}) < \\theta < \\mathscr{u}(X_{1}, X_{2}, \\ldots, X_{n})] = \\gamma\n",
    "$$\n",
    "\n",
    "<br>\n",
    "\n",
    "where $0 < \\gamma < 1$. The observed values $\\mathscr{l}(x_{1}, x_{2}, \\ldots, x_{n})$ and $\\mathscr{u}(x_{1}, x_{2}, \\ldots, x_{n})$ are called __lower__ and __upper confidence limits__, respectively.\n",
    "\n",
    "---\n",
    "\n",
    "<br>"
   ]
  },
  {
   "cell_type": "markdown",
   "id": "df322c62",
   "metadata": {},
   "source": [
    "<u><b>Example 1</b></u>\n",
    "\n",
    "<br>\n",
    "\n",
    "Consider a random sample from a normal distribution, $X_{i} \\sim\n",
    "N(\\mu, \\sigma^{2})$, where $\\sigma^{2}$ is assumed to be known. In\n",
    "this case $\\bar{X}$ is sufficient for $\\mu$, and it is known that\n",
    "$Z = \\sqrt{n}(\\bar{X} - \\mu)/\\sigma \\sim N(0,1)$. By symmetry, we also\n",
    "know that $z_{\\alpha/2} = -z_{\\alpha/2}$, and thus\n",
    "\n",
    "<br>\n",
    "\n",
    "$$\n",
    "\\begin{aligned}\n",
    "1 - \\alpha &= P[-z_{1 - \\alpha/2} < \\sqrt{n}(\\bar{X} - \\mu)/\\sigma < z_{1 - \\alpha/2}] \\\\\n",
    "           & \\\\\n",
    "           &= P[\\bar{X} - z_{1 - \\alpha/2}\\frac{\\sigma}{\\sqrt{n}} < \\mu < \\bar{X} + z_{1 - \\alpha/2}\\frac{\\sigma}{\\sqrt{n}}]\n",
    "\\end{aligned}                  \n",
    "$$\n",
    "\n",
    "<br>\n",
    "\n",
    "It follows that a $100(1-\\alpha)\\%$ confidence interval for $\\mu$ is given by \n",
    "\n",
    "<br>\n",
    "\n",
    "$$\n",
    "(\\bar{x} - z_{1-\\alpha/2}\\frac{\\sigma}{\\sqrt{n}}, \\bar{x} + _{1-\\alpha/2}\\frac{\\sigma}{\\sqrt{n}})\n",
    "$$\n",
    "\n",
    "<br>\n",
    "\n",
    "For example, for a $95\\%$ confidence interval, $1 - \\alpha/2 = 0.975$ and the upper and lower confidence limits are $\\bar{x} \\pm 1.96 \\frac{\\sigma}{\\sqrt{n}}$.\n",
    "\n",
    "<br>\n"
   ]
  },
  {
   "cell_type": "code",
   "execution_count": 3,
   "id": "aeaea409",
   "metadata": {},
   "outputs": [
    {
     "name": "stdout",
     "output_type": "stream",
     "text": [
      " 1.96\n"
     ]
    }
   ],
   "source": [
    "α = 0.05 / 2.\n",
    "print(f\"{stats.norm.ppf(1 - α) : 0.2f}\")"
   ]
  },
  {
   "cell_type": "code",
   "execution_count": 4,
   "id": "691057d2",
   "metadata": {},
   "outputs": [
    {
     "name": "stdout",
     "output_type": "stream",
     "text": [
      " 0.975\n"
     ]
    }
   ],
   "source": [
    "print(f\"{stats.norm.cdf(1.96) : 0.3f}\")"
   ]
  },
  {
   "cell_type": "markdown",
   "id": "7df6878f",
   "metadata": {},
   "source": [
    "<br>\n",
    "\n",
    "Let's simulate a sample from a $N(10, 4)$ distribution and calculate the mean and a $95\\%$ confidence interval. Assume that the variance of $4$ is known.\n",
    "\n",
    "<br>"
   ]
  },
  {
   "cell_type": "code",
   "execution_count": 5,
   "id": "6798bf86",
   "metadata": {},
   "outputs": [],
   "source": [
    "n = 100\n",
    "x = np.random.normal(loc=10, scale=4, size=n)"
   ]
  },
  {
   "cell_type": "code",
   "execution_count": 6,
   "id": "ccbb3882",
   "metadata": {},
   "outputs": [
    {
     "data": {
      "text/plain": [
       "10.048261698070942"
      ]
     },
     "execution_count": 6,
     "metadata": {},
     "output_type": "execute_result"
    }
   ],
   "source": [
    "x̄ = np.mean(x) ## type: `x\\bar` and hit tab\n",
    "x̄ "
   ]
  },
  {
   "cell_type": "code",
   "execution_count": 7,
   "id": "1baf1cc9",
   "metadata": {},
   "outputs": [
    {
     "data": {
      "text/plain": [
       "(9.656261698070942, 10.440261698070941)"
      ]
     },
     "execution_count": 7,
     "metadata": {},
     "output_type": "execute_result"
    }
   ],
   "source": [
    "(x̄ - 1.96 * np.sqrt(4)/np.sqrt(n), x̄ + 1.96 * np.sqrt(4)/np.sqrt(n))"
   ]
  },
  {
   "cell_type": "markdown",
   "id": "ca67876e",
   "metadata": {},
   "source": [
    "<br>\n",
    "\n",
    "#### __Large Sample Confidence Intervals ($\\sigma$ Unknown)__\n",
    "\n",
    "<br>\n",
    "\n",
    "<u><b>Example 2</b></u>\n",
    "\n",
    "<br>\n",
    "\n",
    "The shopping times of $n = 64$ randomly selected customers at a local supermarket were recorded. The average and variance of the 64 shopping times were 33 minutes\n",
    "and 256, respectively. Estimate $\\mu$, the true average shopping time per customer, with a confidence interval of $1 - \\alpha = 0.90$.\n",
    "\n",
    "<br>\n",
    "\n",
    "<u><b>Solution</b></u>\n",
    "\n",
    "<br>\n",
    "\n",
    "We are interested in the parameter $\\mu$. Thus $\\hat{\\mu} = \\bar{x} = 33$ and $s^{2} = 256$ for a sample of $n = 64$ shopping times. The population variance \n",
    "$\\sigma^{2}$ is unknown, so we use $s^{2}$ as its estimated value. The confidence interval \n",
    "\n",
    "<br>\n",
    "\n",
    "$$\n",
    "\\hat{\\mu} \\pm z_{1-\\alpha/2} \\sigma_{\\hat{\\mu}}\n",
    "$$\n",
    "\n",
    "<br>\n",
    "\n",
    "has the form\n",
    "\n",
    "<br>\n",
    "\n",
    "$$\n",
    "\\bar{x} \\pm z_{1-\\alpha/2}\\left(\\frac{\\sigma}{\\sqrt{n}}\\right) \\approx \\bar{x} \\pm z_{1-\\alpha/2}\\left(\\frac{s}{\\sqrt{n}}\\right)\n",
    "$$\n",
    "\n",
    "<br>"
   ]
  },
  {
   "cell_type": "code",
   "execution_count": 8,
   "id": "0140ac67",
   "metadata": {},
   "outputs": [
    {
     "name": "stdout",
     "output_type": "stream",
     "text": [
      "\n",
      " 1.645\n",
      "\n"
     ]
    }
   ],
   "source": [
    "α = 0.1 / 2.\n",
    "print(f\"\\n{stats.norm.ppf(1. - α) : 0.3f}\\n\")"
   ]
  },
  {
   "cell_type": "markdown",
   "id": "2456de62",
   "metadata": {},
   "source": [
    "<br>\n",
    "\n",
    "$$\n",
    "\\begin{aligned}\n",
    "\\bar{x} - z_{1-\\alpha/2} \\left(\\frac{s}{\\sqrt{n}}\\right) &= 33 - 1.645 \\left(\\frac{16}{8}\\right) = 29.71 \\\\\n",
    "&\\\\\n",
    "\\bar{x} + z_{1-\\alpha/2} \\left(\\frac{s}{\\sqrt{n}}\\right) &= 33 + 1.645 \\left(\\frac{16}{8}\\right) = 36.29 \\\\\n",
    "\\end{aligned}\n",
    "$$\n",
    "\n",
    "<br>"
   ]
  },
  {
   "cell_type": "code",
   "execution_count": 9,
   "id": "32cc1344",
   "metadata": {},
   "outputs": [],
   "source": [
    "x̄ = 33 \n",
    "s = 16\n",
    "n = 64"
   ]
  },
  {
   "cell_type": "code",
   "execution_count": 10,
   "id": "aedbb0ea",
   "metadata": {},
   "outputs": [
    {
     "data": {
      "text/plain": [
       "(29.710292746097057, 36.28970725390295)"
      ]
     },
     "execution_count": 10,
     "metadata": {},
     "output_type": "execute_result"
    }
   ],
   "source": [
    "z = stats.norm.ppf(1. - α)\n",
    "(x̄ - z * s / np.sqrt(n), x̄ + z * s / np.sqrt(n))"
   ]
  },
  {
   "cell_type": "markdown",
   "id": "82f7e528",
   "metadata": {},
   "source": [
    "<br>\n",
    "<br>\n",
    "\n",
    "<u><b>Example 3</b></u>\n",
    "\n",
    "Consider a large bank that wants to estimate the average amount of money owed by its delinquent debtors, $\\mu$. The bank randomly selects $n = 100$ of its\n",
    "delinquent accounts and finds that the sample mean amount owed is $\\bar{x} = \\$230$. Also, suppose it is known that the standard deviation of the amount\n",
    "owed for all deliquent accounts is $\\sigma = \\$90$. Calculate a $95\\%$ confidence interval for the target parameter, $\\mu$.\n",
    "\n",
    "<br>\n",
    "\n",
    "<u><b>Solution</b></u>\n",
    "\n",
    "Substituting $\\bar{x} = 230$ and $\\sigma = 90$ into the interval estimator formula, we obtain:\n",
    "\n",
    "<br>\n",
    "\n",
    "$$\n",
    "\\large{\\bar{x} \\pm 1.96 \\sigma_{\\bar{x}} = \\bar{x} \\pm (1.96) \\sigma / \\sqrt{n} = 230 \\pm (1.96) (90 / \\sqrt{100}) = 230 \\pm 17.64}\n",
    "$$\n",
    "\n",
    "<br>\n",
    "\n",
    "Or $\\mathbf{(212.36, 247.64)}$. \n",
    "\n",
    "<br>"
   ]
  },
  {
   "cell_type": "code",
   "execution_count": 11,
   "id": "d6d42345",
   "metadata": {},
   "outputs": [],
   "source": [
    "n = 100\n",
    "x̄ = 230\n",
    "σ = 90"
   ]
  },
  {
   "cell_type": "code",
   "execution_count": 12,
   "id": "79eb4520",
   "metadata": {},
   "outputs": [
    {
     "data": {
      "text/plain": [
       "(212.36032413913952, 247.63967586086048)"
      ]
     },
     "execution_count": 12,
     "metadata": {},
     "output_type": "execute_result"
    }
   ],
   "source": [
    "α = 0.05 / 2.\n",
    "z_val = stats.norm.ppf(1 - α)\n",
    "(x̄ - z_val * (σ / np.sqrt(n)), x̄ + z_val * (σ / np.sqrt(n)))"
   ]
  },
  {
   "cell_type": "markdown",
   "id": "ebf572ef",
   "metadata": {},
   "source": [
    "<br>\n",
    "\n",
    "This example is almost surely unrealistic because it is very doubtful that the large bank knows the true population standard deviation. Therefore, it must also estimate using the sample standard deviation as an estimator and plug it in. \n",
    "\n",
    "<br>\n",
    "\n",
    "Let's simulate some fake data from this distribution and see what this would look like.\n",
    "\n",
    "<br>"
   ]
  },
  {
   "cell_type": "code",
   "execution_count": 13,
   "id": "5c7b2d14",
   "metadata": {},
   "outputs": [],
   "source": [
    "x = np.round(np.random.normal(loc=230, scale=90, size=n))"
   ]
  },
  {
   "cell_type": "code",
   "execution_count": 14,
   "id": "d5ade142",
   "metadata": {},
   "outputs": [
    {
     "data": {
      "text/plain": [
       "(223.85, 86.7768966832751)"
      ]
     },
     "execution_count": 14,
     "metadata": {},
     "output_type": "execute_result"
    }
   ],
   "source": [
    "x̄ = np.mean(x)\n",
    "s = np.std(x, ddof=1)\n",
    "(x̄, s)"
   ]
  },
  {
   "cell_type": "code",
   "execution_count": 15,
   "id": "a0fa667f",
   "metadata": {},
   "outputs": [
    {
     "data": {
      "image/png": "[encoded data removed]",
      "text/plain": [
       "<Figure size 720x576 with 1 Axes>"
      ]
     },
     "metadata": {
      "needs_background": "light"
     },
     "output_type": "display_data"
    }
   ],
   "source": [
    "plt.hist(x);"
   ]
  },
  {
   "cell_type": "code",
   "execution_count": 16,
   "id": "847feaf9",
   "metadata": {},
   "outputs": [
    {
     "data": {
      "text/plain": [
       "(206.84204078106274, 240.85795921893725)"
      ]
     },
     "execution_count": 16,
     "metadata": {},
     "output_type": "execute_result"
    }
   ],
   "source": [
    "α = 0.05 / 2.\n",
    "z_val = stats.norm.ppf(1 - α)\n",
    "(x̄ - z_val * (s / np.sqrt(n)), x̄ + z_val * (s / np.sqrt(n)))"
   ]
  },
  {
   "cell_type": "markdown",
   "id": "66d98eca",
   "metadata": {},
   "source": [
    "<br>\n",
    "\n",
    "### __Large Sample 100$\\mathbf{\\gamma\\%}$ Confidence Interval for $\\mathbf{\\mu}$, Based on a Normal ($z$) Statistic__\n",
    "\n",
    "---\n",
    "\n",
    "<br>\n",
    "\n",
    "$$\n",
    "\\begin{aligned}\n",
    "\\sigma \\mbox{  known:} \\quad \\bar{x} \\pm (z_{1 - \\alpha/2}) \\sigma_{\\bar{x}} &=  \\bar{x} \\pm (z_{1 - \\alpha/2}) \\left(\\frac{\\sigma}{\\sqrt{n}}\\right) \\\\\n",
    "& \\\\\n",
    "\\sigma \\mbox{ unknown:} \\quad \\bar{x} \\pm (z_{1 - \\alpha/2}) \\sigma_{\\bar{x}} &\\approx  \\bar{x} \\pm (z_{1 - \\alpha/2}) \\left(\\frac{s}{\\sqrt{n}}\\right) \\\\\n",
    "\\end{aligned}\n",
    "$$\n",
    "\n",
    "<br>\n",
    "\n",
    "where $z_{1 - \\alpha/2}$ is the $z$-value corresponding to an area $\\frac{\\alpha}{2}$ in the tail of a standard normal distribution. $\\sigma_{\\bar{x}}$ is the\n",
    "standard error (the standard deviation of the sampling distribution) of $\\bar{x}$, $\\sigma$ is the standard deviation of the population, and $s$ is the sample standard deviation.\n",
    "\n",
    "---\n",
    "\n",
    "<br>"
   ]
  },
  {
   "cell_type": "markdown",
   "id": "44d16bef",
   "metadata": {},
   "source": [
    "<br>\n",
    "\n",
    "### __Conditions Required for a Valid Large-Sample Confidence Interval for $\\mathbf{\\mu}$__\n",
    "\n",
    "\n",
    "---\n",
    "\n",
    "__1.__ A random sample is selected from a target population.\n",
    "\n",
    "__2.__ The sample size $n$ is large (i.e. $n \\ge 30$). Due to the Central Limit Theorem\n",
    "       this condition guarantees that the sampling distribution of $\\bar{X}$ is approximately\n",
    "       norml. (Also, for large $n$, $s$ will be a good estimator for $\\sigma$.)\n",
    "      \n",
    "\n",
    "---\n",
    "\n",
    "<br>"
   ]
  },
  {
   "cell_type": "markdown",
   "id": "4dfc8187",
   "metadata": {},
   "source": [
    "<br>\n",
    "\n",
    "### __Interpretation of a Confidence Interval for a Population Mean__\n",
    "\n",
    "---\n",
    "\n",
    "When we form a $100\\gamma\\%$ confidence interval for $\\mu$, we usually express our confidence in the interval with a statement such as \"We can be $100\\gamma\\%$ confident that $\\mu$ lies between the lower and upper bounds of the confidence interval.\"\n",
    "\n",
    "* For a particular application we substitute the appropriate numerical values for the estimated\n",
    "  mean and lower and upper bounds\n",
    "  \n",
    "* _The statement reflects our confidence in the estimation process rather than in the particular \n",
    "  interval that is calculated from the sample data._\n",
    "  \n",
    "* __THIS IS NOT A PROBABILITY INTERVAL!!!__\n",
    "\n",
    "* Rather it is a statement about repeated sampling. \n",
    "\n",
    "* A $100\\gamma\\%$ confidence interval contains the true parameter value with probability \n",
    "  $100\\gamma$ only _before_ one has seen the data. After the data has been seen, the \n",
    "  probability is zero or one.\n",
    "  \n",
    "* Yet confidence intervals are universally interpreted in practice as guides to _post_-sample\n",
    "  uncertainty.\n",
    "  \n",
    "* They often are reasonable guides, but only because they often are close to posterior\n",
    "  probability intervals that would emerge from a Bayesian analysis.\n",
    "\n",
    "---\n",
    "\n",
    "<br>"
   ]
  },
  {
   "cell_type": "markdown",
   "id": "f164872d",
   "metadata": {},
   "source": [
    "<br>\n",
    "\n",
    "### __Small-Sample Confidence Interval for $\\mathbf{\\mu}$, Student's $t$-Statistic__\n",
    "\n",
    "---\n",
    "\n",
    "$$\n",
    "\\large{\\bar{x} \\pm t_{1-\\alpha/2} \\left(\\frac{s}{\\sqrt{n}}\\right)}\n",
    "$$\n",
    "\n",
    "<br>\n",
    "\n",
    "where $t_{1 - \\alpha / 2}$ is the $t$-value corresponding to an area $\\frac{\\alpha}{2}$ in the upper tail of the student's $t$-distribution based on $\\nu = n - 1$ degrees of freedom.\n",
    "\n",
    "---\n",
    "\n",
    "<br>"
   ]
  },
  {
   "cell_type": "markdown",
   "id": "1de978ed",
   "metadata": {},
   "source": [
    "<br>\n",
    "\n",
    "<u><b>Example 4</b></u>\n",
    "\n",
    "Some quality-control experiments require _destructive sampling_ (i.e., the test to determine\n",
    "whether the item is defective destroys the item) in order to measure some particular \n",
    "characteristic of the product. The cost of destructive sampling often dictates small samples.\n",
    "For example, suppose a manufacturer of printers for personal computers wishes to estimate\n",
    "the mean number of characters printed before the printhead fails. Suppose the printer\n",
    "manufacturer tests $n = 15$ randomly selected printheads and records the number of \n",
    "characters printed until failure for each. These measurements (in millions of characters)\n",
    "are given in the table below\n",
    "\n",
    "<br>\n",
    "\n",
    "|      |      |      |      |      |\n",
    "|------|------|------|------|------|\n",
    "| 1.13 | 1.55 | 1.43 | 0.92 | 1.25 |\n",
    "| 1.36 | 1.32 | 0.85 | 1.07 | 1.48 |\n",
    "| 1.20 | 1.33 | 1.18 | 1.22 | 1.29 |\n",
    "\n",
    "<br>\n",
    "\n",
    "Form a $99\\%$ confidence interval for the mean number of characters printed before the\n",
    "printhead fails. Interpret the results.\n",
    "\n",
    "<br>"
   ]
  },
  {
   "cell_type": "code",
   "execution_count": 17,
   "id": "998efa63",
   "metadata": {},
   "outputs": [],
   "source": [
    "x = np.array([1.13, 1.55, 1.43, 0.92, 1.25, \n",
    "              1.36, 1.32, 0.85, 1.07, 1.48,\n",
    "              1.20, 1.33, 1.18, 1.22, 1.29])"
   ]
  },
  {
   "cell_type": "code",
   "execution_count": 20,
   "id": "fbfbf162",
   "metadata": {},
   "outputs": [
    {
     "data": {
      "text/plain": [
       "(15, 1.2386666666666666, 0.19316412956959936)"
      ]
     },
     "execution_count": 20,
     "metadata": {},
     "output_type": "execute_result"
    }
   ],
   "source": [
    "n = len(x)\n",
    "x̄ = np.mean(x)\n",
    "s = np.std(x, ddof=1)\n",
    "(n, x̄, s)"
   ]
  },
  {
   "cell_type": "code",
   "execution_count": 23,
   "id": "979bff87",
   "metadata": {},
   "outputs": [],
   "source": [
    "α = 0.01 / 2.\n",
    "γ = 1. - α\n",
    "ν = n - 1\n",
    "t_val = stats.t(ν).ppf(γ)"
   ]
  },
  {
   "cell_type": "code",
   "execution_count": 24,
   "id": "35d3ad86",
   "metadata": {},
   "outputs": [
    {
     "data": {
      "text/plain": [
       "2.97684273411266"
      ]
     },
     "execution_count": 24,
     "metadata": {},
     "output_type": "execute_result"
    }
   ],
   "source": [
    "t_val"
   ]
  },
  {
   "cell_type": "code",
   "execution_count": 25,
   "id": "041af98d",
   "metadata": {},
   "outputs": [],
   "source": [
    "z_val = stats.norm.ppf(γ)"
   ]
  },
  {
   "cell_type": "code",
   "execution_count": 26,
   "id": "1e5de459",
   "metadata": {},
   "outputs": [
    {
     "data": {
      "text/plain": [
       "2.5758293035489004"
      ]
     },
     "execution_count": 26,
     "metadata": {},
     "output_type": "execute_result"
    }
   ],
   "source": [
    "z_val"
   ]
  },
  {
   "cell_type": "code",
   "execution_count": 27,
   "id": "043f3140",
   "metadata": {},
   "outputs": [
    {
     "data": {
      "text/plain": [
       "(1.090197338451367, 1.3871359948819662)"
      ]
     },
     "execution_count": 27,
     "metadata": {},
     "output_type": "execute_result"
    }
   ],
   "source": [
    "(x̄ - t_val * (s / np.sqrt(n)), x̄ + t_val * (s / np.sqrt(n)))"
   ]
  },
  {
   "cell_type": "code",
   "execution_count": null,
   "id": "c1f62a6f",
   "metadata": {},
   "outputs": [],
   "source": []
  },
  {
   "cell_type": "code",
   "execution_count": 40,
   "id": "bca8c030",
   "metadata": {},
   "outputs": [
    {
     "name": "stdout",
     "output_type": "stream",
     "text": [
      "(1,  1.6449,  6.3138)\n",
      "(2,  1.6449,  2.9200)\n",
      "(3,  1.6449,  2.3534)\n",
      "(4,  1.6449,  2.1318)\n",
      "(5,  1.6449,  2.0150)\n",
      "(6,  1.6449,  1.9432)\n",
      "(7,  1.6449,  1.8946)\n",
      "(8,  1.6449,  1.8595)\n",
      "(9,  1.6449,  1.8331)\n",
      "(10,  1.6449,  1.8125)\n",
      "(11,  1.6449,  1.7959)\n",
      "(12,  1.6449,  1.7823)\n",
      "(13,  1.6449,  1.7709)\n",
      "(14,  1.6449,  1.7613)\n",
      "(15,  1.6449,  1.7531)\n",
      "(16,  1.6449,  1.7459)\n",
      "(17,  1.6449,  1.7396)\n",
      "(18,  1.6449,  1.7341)\n",
      "(19,  1.6449,  1.7291)\n",
      "(20,  1.6449,  1.7247)\n",
      "(21,  1.6449,  1.7207)\n",
      "(22,  1.6449,  1.7171)\n",
      "(23,  1.6449,  1.7139)\n",
      "(24,  1.6449,  1.7109)\n",
      "(25,  1.6449,  1.7081)\n",
      "(26,  1.6449,  1.7056)\n",
      "(27,  1.6449,  1.7033)\n",
      "(28,  1.6449,  1.7011)\n",
      "(29,  1.6449,  1.6991)\n",
      "(30,  1.6449,  1.6973)\n",
      "(31,  1.6449,  1.6955)\n",
      "(32,  1.6449,  1.6939)\n",
      "(33,  1.6449,  1.6924)\n",
      "(34,  1.6449,  1.6909)\n",
      "(35,  1.6449,  1.6896)\n",
      "(36,  1.6449,  1.6883)\n",
      "(37,  1.6449,  1.6871)\n",
      "(38,  1.6449,  1.6860)\n",
      "(39,  1.6449,  1.6849)\n",
      "(40,  1.6449,  1.6839)\n",
      "(41,  1.6449,  1.6829)\n",
      "(42,  1.6449,  1.6820)\n",
      "(43,  1.6449,  1.6811)\n",
      "(44,  1.6449,  1.6802)\n",
      "(45,  1.6449,  1.6794)\n",
      "(46,  1.6449,  1.6787)\n",
      "(47,  1.6449,  1.6779)\n",
      "(48,  1.6449,  1.6772)\n",
      "(49,  1.6449,  1.6766)\n"
     ]
    }
   ],
   "source": [
    "## Computational Experiment to Compare Normal to Student's t\n",
    "γ = 0.95\n",
    "\n",
    "for i in range(1, 50):\n",
    "    print(f\"({i}, {stats.norm.ppf(γ) : 0.4f}, {stats.t(i).ppf(γ) : 0.4f})\")"
   ]
  },
  {
   "cell_type": "code",
   "execution_count": null,
   "id": "f2fb8046",
   "metadata": {},
   "outputs": [],
   "source": []
  }
 ],
 "metadata": {
  "kernelspec": {
   "display_name": "Python 3",
   "language": "python",
   "name": "python3"
  },
  "language_info": {
   "codemirror_mode": {
    "name": "ipython",
    "version": 3
   },
   "file_extension": ".py",
   "mimetype": "text/x-python",
   "name": "python",
   "nbconvert_exporter": "python",
   "pygments_lexer": "ipython3",
   "version": "3.8.11"
  }
 },
 "nbformat": 4,
 "nbformat_minor": 5
}
