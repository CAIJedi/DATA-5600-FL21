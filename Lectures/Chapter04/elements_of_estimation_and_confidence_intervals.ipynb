{
 "cells": [
  {
   "cell_type": "markdown",
   "id": "3f000f59-771b-4bfd-9849-4107784f631f",
   "metadata": {},
   "source": [
    "# DATA 5600: Introduction to Regression and Machine Learning for Analytics\n",
    "\n",
    "## __Topic: Some (Very) Brief Notes on Estimation and Confidence Intervals__ <br>\n",
    "\n",
    "Author:  Tyler J. Brough <br>\n",
    "Updated: October 7, 2021 <br>\n",
    "\n",
    "---\n",
    "\n",
    "<br>"
   ]
  },
  {
   "cell_type": "code",
   "execution_count": 1,
   "id": "99f75621-4644-4e52-a8cf-d118fab47c4e",
   "metadata": {},
   "outputs": [],
   "source": [
    "import numpy as np\n",
    "from scipy import stats\n",
    "import matplotlib.pyplot as plt\n",
    "\n",
    "plt.rcParams['figure.figsize'] = [10, 8]"
   ]
  },
  {
   "cell_type": "markdown",
   "id": "951a2c3f-6f93-431a-b244-c876e06a5643",
   "metadata": {
    "tags": []
   },
   "source": [
    "### __Estimator__\n",
    "\n",
    "---\n",
    "\n",
    "A statistic, $T = \\mathscr{t}(X_{1}, X_{2}, \\ldots, X_{n})$, that is used to estimate the value of $\\tau(\\theta)$ is called an __estimator__ of $\\tau(\\theta)$, and an observed value of the statistic, $t = \\mathscr{t}(x_{1}, x_{2}, \\ldots, x_{n})$, is called an __estimate__ of $\\tau(\\theta)$.\n",
    "\n",
    "---\n",
    "\n",
    "<br>\n",
    "<br>"
   ]
  },
  {
   "cell_type": "markdown",
   "id": "7a0929ea-16c6-43b3-aefc-47850015908d",
   "metadata": {},
   "source": [
    "There are different methods of estimation. Among these, a few of the most common are: \n",
    "\n",
    "1. ___The Method of Moments___\n",
    "\n",
    "2. ___The Method of Maximum Likelihood___\n",
    "\n",
    "3. ___Bayes and Minimax Estimators___\n",
    "\n",
    "<br>\n",
    "\n",
    "To be brief, we will not discuss the first or the third here in detail. We will discuss Bayesian estimation as a separate topic. \n",
    "\n",
    "<br>\n",
    "<br>"
   ]
  },
  {
   "cell_type": "code",
   "execution_count": null,
   "id": "39686c8d-81f8-41ff-bfdf-c2cb470be8f7",
   "metadata": {},
   "outputs": [],
   "source": []
  }
 ],
 "metadata": {
  "kernelspec": {
   "display_name": "Python 3",
   "language": "python",
   "name": "python3"
  },
  "language_info": {
   "codemirror_mode": {
    "name": "ipython",
    "version": 3
   },
   "file_extension": ".py",
   "mimetype": "text/x-python",
   "name": "python",
   "nbconvert_exporter": "python",
   "pygments_lexer": "ipython3",
   "version": "3.8.5"
  }
 },
 "nbformat": 4,
 "nbformat_minor": 5
}
