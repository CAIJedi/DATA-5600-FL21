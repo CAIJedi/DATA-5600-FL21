{
 "cells": [
  {
   "cell_type": "code",
   "execution_count": 1,
   "id": "f774cf18-d7ef-4cd6-9f91-dbc5583dcd20",
   "metadata": {},
   "outputs": [],
   "source": [
    "import numpy as np\n",
    "import matplotlib.pyplot as plt"
   ]
  },
  {
   "cell_type": "markdown",
   "id": "fcc94650-83d9-4571-b6fb-e6ebeafa71ab",
   "metadata": {},
   "source": [
    "## __Poisson Example__"
   ]
  },
  {
   "cell_type": "code",
   "execution_count": 2,
   "id": "be351310-5039-47c3-90fe-414a0ce90216",
   "metadata": {},
   "outputs": [
    {
     "data": {
      "text/plain": [
       "\u001b[0;31mDocstring:\u001b[0m\n",
       "poisson(lam=1.0, size=None)\n",
       "\n",
       "Draw samples from a Poisson distribution.\n",
       "\n",
       "The Poisson distribution is the limit of the binomial distribution\n",
       "for large N.\n",
       "\n",
       ".. note::\n",
       "    New code should use the ``poisson`` method of a ``default_rng()``\n",
       "    instance instead; please see the :ref:`random-quick-start`.\n",
       "\n",
       "Parameters\n",
       "----------\n",
       "lam : float or array_like of floats\n",
       "    Expectation of interval, must be >= 0. A sequence of expectation\n",
       "    intervals must be broadcastable over the requested size.\n",
       "size : int or tuple of ints, optional\n",
       "    Output shape.  If the given shape is, e.g., ``(m, n, k)``, then\n",
       "    ``m * n * k`` samples are drawn.  If size is ``None`` (default),\n",
       "    a single value is returned if ``lam`` is a scalar. Otherwise,\n",
       "    ``np.array(lam).size`` samples are drawn.\n",
       "\n",
       "Returns\n",
       "-------\n",
       "out : ndarray or scalar\n",
       "    Drawn samples from the parameterized Poisson distribution.\n",
       "\n",
       "See Also\n",
       "--------\n",
       "Generator.poisson: which should be used for new code.\n",
       "\n",
       "Notes\n",
       "-----\n",
       "The Poisson distribution\n",
       "\n",
       ".. math:: f(k; \\lambda)=\\frac{\\lambda^k e^{-\\lambda}}{k!}\n",
       "\n",
       "For events with an expected separation :math:`\\lambda` the Poisson\n",
       "distribution :math:`f(k; \\lambda)` describes the probability of\n",
       ":math:`k` events occurring within the observed\n",
       "interval :math:`\\lambda`.\n",
       "\n",
       "Because the output is limited to the range of the C int64 type, a\n",
       "ValueError is raised when `lam` is within 10 sigma of the maximum\n",
       "representable value.\n",
       "\n",
       "References\n",
       "----------\n",
       ".. [1] Weisstein, Eric W. \"Poisson Distribution.\"\n",
       "       From MathWorld--A Wolfram Web Resource.\n",
       "       http://mathworld.wolfram.com/PoissonDistribution.html\n",
       ".. [2] Wikipedia, \"Poisson distribution\",\n",
       "       https://en.wikipedia.org/wiki/Poisson_distribution\n",
       "\n",
       "Examples\n",
       "--------\n",
       "Draw samples from the distribution:\n",
       "\n",
       ">>> import numpy as np\n",
       ">>> s = np.random.poisson(5, 10000)\n",
       "\n",
       "Display histogram of the sample:\n",
       "\n",
       ">>> import matplotlib.pyplot as plt\n",
       ">>> count, bins, ignored = plt.hist(s, 14, density=True)\n",
       ">>> plt.show()\n",
       "\n",
       "Draw each 100 values for lambda 100 and 500:\n",
       "\n",
       ">>> s = np.random.poisson(lam=(100., 500.), size=(100, 2))\n",
       "\u001b[0;31mType:\u001b[0m      builtin_function_or_method\n"
      ]
     },
     "metadata": {},
     "output_type": "display_data"
    }
   ],
   "source": [
    "np.random.poisson?"
   ]
  },
  {
   "cell_type": "markdown",
   "id": "7b96226b-e3a4-4fb0-9441-1ea944cb0f29",
   "metadata": {},
   "source": [
    "$$\n",
    "f(k; \\lambda)=\\frac{\\lambda^k e^{-\\lambda}}{k!}\n",
    "$$"
   ]
  },
  {
   "cell_type": "code",
   "execution_count": 3,
   "id": "587546f5-f91d-42ef-bb95-0d7e8aab42b8",
   "metadata": {},
   "outputs": [],
   "source": [
    "## Setup the \"true\" model/lambda\n",
    "λ = 22"
   ]
  },
  {
   "cell_type": "code",
   "execution_count": 5,
   "id": "173d380e-3a53-4f93-81eb-ff1abf9569e1",
   "metadata": {},
   "outputs": [],
   "source": [
    "## Generate a single sample of data\n",
    "n = 100\n",
    "x = np.random.poisson(λ, size=n)"
   ]
  },
  {
   "cell_type": "code",
   "execution_count": 6,
   "id": "903197a6-ebd6-4a3c-9546-88bf5a737520",
   "metadata": {},
   "outputs": [
    {
     "data": {
      "text/plain": [
       "array([27, 19, 22, 28, 19, 24, 22, 21, 20, 23, 23, 17, 16, 21, 24, 23, 24,\n",
       "       22, 33, 22, 21, 21, 25, 31, 23, 18, 26, 18, 20, 20, 22, 19, 20, 20,\n",
       "       24, 21, 23, 26, 14, 15, 20, 19, 28, 26, 21, 18, 25, 21, 15, 28, 17,\n",
       "       27, 31, 24, 14, 16, 15, 19, 25, 20, 21, 25, 27, 22, 31, 25, 18, 16,\n",
       "       25, 26, 17, 21, 21, 30, 23, 26, 23, 20, 27, 22, 18, 31, 21, 32, 18,\n",
       "       32, 21, 17, 17, 28, 23, 22, 18, 18, 24, 10, 25, 24, 20, 16])"
      ]
     },
     "execution_count": 6,
     "metadata": {},
     "output_type": "execute_result"
    }
   ],
   "source": [
    "x"
   ]
  },
  {
   "cell_type": "code",
   "execution_count": 8,
   "id": "6f791080-5943-4dc3-bff7-f9938b6fddbe",
   "metadata": {},
   "outputs": [
    {
     "data": {
      "image/png": "[encoded data removed]",
      "text/plain": [
       "<Figure size 640x480 with 1 Axes>"
      ]
     },
     "metadata": {},
     "output_type": "display_data"
    }
   ],
   "source": [
    "plt.hist(x);\n",
    "plt.show()"
   ]
  },
  {
   "cell_type": "code",
   "execution_count": 9,
   "id": "ffdae0b1-5b30-431e-ae23-6f8ca7082763",
   "metadata": {},
   "outputs": [],
   "source": [
    "lam_hat = np.mean(x)"
   ]
  },
  {
   "cell_type": "code",
   "execution_count": 10,
   "id": "a83d3d55-a212-4a79-b524-446cba94875a",
   "metadata": {},
   "outputs": [
    {
     "data": {
      "text/plain": [
       "22.07"
      ]
     },
     "execution_count": 10,
     "metadata": {},
     "output_type": "execute_result"
    }
   ],
   "source": [
    "lam_hat"
   ]
  },
  {
   "cell_type": "code",
   "execution_count": 17,
   "id": "3f7e6981-834b-4aef-960f-33bad5289798",
   "metadata": {},
   "outputs": [],
   "source": [
    "λ = 22\n",
    "n = 100\n",
    "num_reps = 500_000\n",
    "lam_hats = np.zeros(num_reps)\n",
    "\n",
    "for i in range(num_reps):\n",
    "    lam_hats[i] = np.mean(np.random.poisson(λ, size=n))"
   ]
  },
  {
   "cell_type": "code",
   "execution_count": 18,
   "id": "557a83c4-081c-4287-995e-6f23e9da7fd7",
   "metadata": {},
   "outputs": [
    {
     "data": {
      "image/png": "[encoded data removed]",
      "text/plain": [
       "<Figure size 640x480 with 1 Axes>"
      ]
     },
     "metadata": {},
     "output_type": "display_data"
    }
   ],
   "source": [
    "plt.hist(lam_hats, bins=100); \n",
    "plt.show()"
   ]
  },
  {
   "cell_type": "code",
   "execution_count": null,
   "id": "213724e6-de7d-4d32-b4f2-83e7ea210367",
   "metadata": {},
   "outputs": [],
   "source": []
  },
  {
   "cell_type": "code",
   "execution_count": 21,
   "id": "90cd1d04-f3c8-4cd0-be39-29934190317c",
   "metadata": {},
   "outputs": [],
   "source": [
    "exp_lam = 4\n",
    "n = 100"
   ]
  },
  {
   "cell_type": "code",
   "execution_count": 22,
   "id": "aa147297-28aa-4d8b-9775-66ddebcf98b3",
   "metadata": {},
   "outputs": [],
   "source": [
    "y = np.random.exponential(exp_lam, size=n)"
   ]
  },
  {
   "cell_type": "code",
   "execution_count": 25,
   "id": "35500ed9-eb55-4ff3-85a1-2c73f58f7b0d",
   "metadata": {},
   "outputs": [
    {
     "data": {
      "image/png": "[encoded data removed]",
      "text/plain": [
       "<Figure size 640x480 with 1 Axes>"
      ]
     },
     "metadata": {},
     "output_type": "display_data"
    }
   ],
   "source": [
    "plt.hist(y, bins = 50); plt.show()"
   ]
  },
  {
   "cell_type": "code",
   "execution_count": 26,
   "id": "12507589-d341-4714-907d-444d6a7330b3",
   "metadata": {},
   "outputs": [
    {
     "data": {
      "text/plain": [
       "4.634396092726371"
      ]
     },
     "execution_count": 26,
     "metadata": {},
     "output_type": "execute_result"
    }
   ],
   "source": [
    "np.mean(y)"
   ]
  },
  {
   "cell_type": "code",
   "execution_count": 29,
   "id": "95181159-c805-4fdb-b661-c943de77d52b",
   "metadata": {},
   "outputs": [],
   "source": [
    "exp_lam_hats = np.zeros(num_reps)\n",
    "\n",
    "for i in range(num_reps):\n",
    "    exp_lam_hats[i] = np.mean(np.random.exponential(exp_lam, size=n))"
   ]
  },
  {
   "cell_type": "code",
   "execution_count": 30,
   "id": "2c9b2035-4522-4629-b843-6a788c28cc42",
   "metadata": {},
   "outputs": [
    {
     "data": {
      "image/png": "[encoded data removed]",
      "text/plain": [
       "<Figure size 640x480 with 1 Axes>"
      ]
     },
     "metadata": {},
     "output_type": "display_data"
    }
   ],
   "source": [
    "plt.hist(exp_lam_hats, bins=100); plt.show()"
   ]
  },
  {
   "cell_type": "code",
   "execution_count": null,
   "id": "3a5624d9-9b00-47c5-9565-4969d9ba439f",
   "metadata": {},
   "outputs": [],
   "source": []
  }
 ],
 "metadata": {
  "kernelspec": {
   "display_name": "Python 3",
   "language": "python",
   "name": "python3"
  },
  "language_info": {
   "codemirror_mode": {
    "name": "ipython",
    "version": 3
   },
   "file_extension": ".py",
   "mimetype": "text/x-python",
   "name": "python",
   "nbconvert_exporter": "python",
   "pygments_lexer": "ipython3",
   "version": "3.8.5"
  }
 },
 "nbformat": 4,
 "nbformat_minor": 5
}
