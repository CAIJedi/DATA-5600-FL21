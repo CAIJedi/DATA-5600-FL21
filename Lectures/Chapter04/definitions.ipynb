{
 "cells": [
  {
   "cell_type": "markdown",
   "id": "598e20cf",
   "metadata": {},
   "source": [
    "# DATA 5600: Introduction to Regression and Machine Learning for Analytics\n",
    "\n",
    "## __Some Brief Notes on Basic Probability Concepts__ <br>\n",
    "\n",
    "Author:  Tyler J. Brough <br>\n",
    "Updated: October 4, 2021 <br>\n",
    "\n",
    "---\n",
    "\n",
    "<br>"
   ]
  },
  {
   "cell_type": "code",
   "execution_count": 1,
   "id": "86151d2c",
   "metadata": {},
   "outputs": [],
   "source": [
    "import numpy as np\n",
    "from scipy import stats\n",
    "import matplotlib.pyplot as plt\n",
    "\n",
    "plt.rcParams['figure.figsize'] = [15, 10]"
   ]
  },
  {
   "cell_type": "markdown",
   "id": "62f4195b",
   "metadata": {},
   "source": [
    "## __Probability Distributions__\n",
    "\n",
    "These notes are based upon readings from the following books:\n",
    "\n",
    "* _Doing Bayesian Data Analysis_ by John Kruschke.\n",
    "\n",
    "* _Mathematical Statistics with Applications_ by Wackerly, Mendenhall, Scheaffer\n",
    "\n",
    "\n",
    "* _Introduction to Probability and Mathematical Statistics_ by Bain & Engelhardt\n",
    "\n",
    "* _The Cambridge Dictionary of Statistics, 4th Edition_ \n",
    "\n",
    "<br>\n",
    "<br>\n",
    "\n",
    "A ___probability distribution___ is the list of all possible outcomes and their corresponding probabilities. \n",
    "\n",
    "<br>\n",
    "\n",
    "Notes:\n",
    "* In class I said that this was a _\"mapping from the event space to the probability space\"_\n",
    "\n",
    "* The distribution can be represented by a graph, a table, or a formula. \n",
    "\n",
    "* Sometimes a distinction is made been the probability _density_ and the probability _distribution_, the latter being when the random variable falls at or below some particular value. \n",
    "\n",
    "* We will use the terms interchangably and explicitly refer to the latter as the ___cumulative distribution function___ or simply the ___CDF___.\n",
    "\n",
    "\n",
    "<br>"
   ]
  },
  {
   "cell_type": "markdown",
   "id": "8cff8e70",
   "metadata": {},
   "source": [
    "### __The Discrete Probability Density Function (Probability Mass Function)__\n",
    "\n",
    "---\n",
    "\n",
    "If the set of all possible values of a random variable, $X$, is a countable set,\n",
    "$x_{1}, x_{2}, \\ldots, x_{n}$, or $x_{1}, x_{2}, \\ldots$, then $X$ is called a\n",
    "__discrete random variable__. The function\n",
    "\n",
    "$$\n",
    "f(x) = P[X = x] \\quad x = x_{1}, x_{2}, \\ldots\n",
    "$$\n",
    "\n",
    "that assigns the probability to each possible value of $x$ will be called the \n",
    "__discrete probability density function__ (discrete PDF).\n",
    "\n",
    "---\n",
    "\n",
    "\n",
    "<br>\n",
    "<br>"
   ]
  },
  {
   "cell_type": "markdown",
   "id": "2957392e",
   "metadata": {},
   "source": [
    "#### __Some Common Examples__\n",
    "\n",
    "<br>\n",
    "\n",
    "<u>__Example 1__</u> \n",
    "\n",
    "The values of the discrete pdf of a roll of a fair die can be given by the following table.\n",
    "\n",
    "| x      | 1   | 2   | 3   | 4   | 5   | 6   |\n",
    "|:-------|-----|-----|-----|-----|-----|-----|\n",
    "| f(x)   | 1/6 | 1/6 | 1/6 | 1/6 | 1/6 | 1/6 |\n",
    "\n",
    "\n",
    "<br>\n",
    "<br>\n",
    "<br>\n",
    "\n",
    "<u>__Example 2__</u> \n",
    "\n",
    "When tossing a coin with unknown probability of heads (success). The pdf is given by the ___Bernoulli distribution function___. \n",
    "\n",
    "$$\n",
    "f(x; \\theta) = \\theta^{x} (1 - \\theta)^{1-x} \\quad x = \\{0, 1\\}\n",
    "$$\n",
    "\n",
    "__Note:__ \n",
    "\n",
    "* $P(X = 0) = 1 - \\theta$\n",
    "\n",
    "* $P(X = 1) = \\theta$\n",
    "\n",
    "<br>\n",
    "\n",
    "A jar contains 30 green jelly beans and 20 purple jelly beans. What is the probability of\n",
    "drawing a single green? A single purple?\n",
    "\n",
    "$$\n",
    "\\begin{align}\n",
    "P(\\mbox{drawing a single green}) &= 30/50 = 0.6\\\\\n",
    "& \\\\\n",
    "P(\\mbox{drawing a single purple}) &= 20/50 = 0.4\n",
    "\\end{align}\n",
    "$$\n",
    "\n",
    "<br>\n",
    "\n",
    "We can confirm this in `Python` as follows:\n"
   ]
  },
  {
   "cell_type": "code",
   "execution_count": 2,
   "id": "1a04c3b9",
   "metadata": {},
   "outputs": [
    {
     "data": {
      "text/plain": [
       "0.6"
      ]
     },
     "execution_count": 2,
     "metadata": {},
     "output_type": "execute_result"
    }
   ],
   "source": [
    "stats.binom(1, 0.6).pmf(1)"
   ]
  },
  {
   "cell_type": "code",
   "execution_count": 3,
   "id": "8c92c4ad",
   "metadata": {},
   "outputs": [
    {
     "data": {
      "text/plain": [
       "0.4"
      ]
     },
     "execution_count": 3,
     "metadata": {},
     "output_type": "execute_result"
    }
   ],
   "source": [
    "stats.binom(1, 0.6).pmf(0)"
   ]
  },
  {
   "cell_type": "markdown",
   "id": "6daafc15",
   "metadata": {},
   "source": [
    "<u>__Example 3__</u> \n",
    "\n",
    "When tossing a coin $n$ times and counting the number of heads the pdf is given\n",
    "by the ___Binomial distribution function___.\n",
    "\n",
    "$$\n",
    "f(x; n, \\theta) = \\binom{n}{x} \\theta^{x} (1 - \\theta)^{n-x}\n",
    "$$\n",
    "\n",
    "<br>\n",
    "\n",
    "A jar contians 30 green jelly beans and 20 purple jelly beans. Suppose 10 jelly beans are\n",
    "selected at random from the jar. Find the probability of obtaining exactly five purple jelly\n",
    "beans if they are selected with replacement."
   ]
  },
  {
   "cell_type": "code",
   "execution_count": 4,
   "id": "79db4e0e",
   "metadata": {},
   "outputs": [
    {
     "data": {
      "text/plain": [
       "0.20065812480000034"
      ]
     },
     "execution_count": 4,
     "metadata": {},
     "output_type": "execute_result"
    }
   ],
   "source": [
    "stats.binom(10, 0.4).pmf(5)"
   ]
  },
  {
   "cell_type": "markdown",
   "id": "81fe26a4",
   "metadata": {},
   "source": [
    "__Note:__ often the definitions of 'success' and 'failure' are arbitrary. In this case they\n",
    "should be symmetric.\n",
    "\n",
    "<br>\n",
    "<br>"
   ]
  },
  {
   "cell_type": "markdown",
   "id": "b63c9515",
   "metadata": {},
   "source": [
    "### __The Cumulative Distribution Function (CDF)__\n",
    "\n",
    "---\n",
    "\n",
    "The __cumulative distribution function__ (CDF) of a random variable $X$ is defined for \n",
    "any real $x$ by\n",
    "\n",
    "$$\n",
    "F(x) = P[X \\le x]\n",
    "$$\n",
    "\n",
    "---\n",
    "\n",
    "<br>\n",
    "<br>"
   ]
  },
  {
   "cell_type": "markdown",
   "id": "b6db68cb",
   "metadata": {},
   "source": [
    "<u>__Example 4__</u> \n",
    "\n",
    "A jar contians 30 green jelly beans and 20 purple jelly beans. Suppose\n",
    "10 jelly beans are selected at random from the jar. What is the probability of getting 4 or\n",
    "fewer green jelly beans?"
   ]
  },
  {
   "cell_type": "code",
   "execution_count": 5,
   "id": "73a25f79",
   "metadata": {},
   "outputs": [
    {
     "data": {
      "text/plain": [
       "0.1662386176"
      ]
     },
     "execution_count": 5,
     "metadata": {},
     "output_type": "execute_result"
    }
   ],
   "source": [
    "stats.binom(10, 0.6).cdf(4)"
   ]
  },
  {
   "cell_type": "markdown",
   "id": "b38b6a08",
   "metadata": {},
   "source": [
    "<br>\n",
    "\n",
    "Check this against the following and make sure it makes sense to you based on the definitions\n",
    "of a discrete random variable and the CDF given above:\n",
    "\n",
    "<br>"
   ]
  },
  {
   "cell_type": "code",
   "execution_count": 6,
   "id": "dd13ebc4",
   "metadata": {},
   "outputs": [
    {
     "name": "stdout",
     "output_type": "stream",
     "text": [
      " 0.1662386176\n"
     ]
    }
   ],
   "source": [
    "p = 0\n",
    "for i in range(5):\n",
    "    p += stats.binom(10, 0.6).pmf(i)\n",
    "\n",
    "print(f\"{p : 0.10f}\")"
   ]
  },
  {
   "cell_type": "markdown",
   "id": "1b4b296c",
   "metadata": {},
   "source": [
    "<br>\n",
    "\n",
    "__Q:__ did you get the same answer? Why or why not?\n",
    "\n",
    "<br>\n",
    "<br>"
   ]
  },
  {
   "cell_type": "markdown",
   "id": "82f9e6ac",
   "metadata": {},
   "source": [
    "### __The Continuous Probability Density Function__\n",
    "\n",
    "---\n",
    "\n",
    "A random variable $X$ is called a __conintuous random variable__ if there is a function\n",
    "$f(x)$ called the __probability density function__ (pdf) of $X$, such that the CDF can be \n",
    "represented as\n",
    "\n",
    "$$\n",
    "F(X) = \\int\\limits_{-\\infty}^{x} f(t) dt\n",
    "$$\n",
    "\n",
    "---\n",
    "\n",
    "<br>\n",
    "<br>"
   ]
  },
  {
   "cell_type": "markdown",
   "id": "2ffc6e48",
   "metadata": {},
   "source": [
    "<u>__Example 5__</u>\n",
    "\n",
    "Suppose the research department of a steel manufacturer believes that one of the company's rolling machines is producing sheets of steel of varying thickness. The thickness\n",
    "is represented by a random variable following a uniform random variable with values between $150$ and $200$ millimeters. Any sheets less than $160$ millimeters must be \n",
    "scrapped because they are unacceptable to buyers. \n",
    "\n",
    "* __a.__ Calculate and interpret the mean and standard deviation of $x$, the thickness of the sheets produced by this machine. \n",
    "\n",
    "* __b.__ Graph the probability distribution of $x$, and show the mean on the horizontal axis. Also show the 1- and 2-standard deviation intervals around the mean.\n",
    "\n",
    "* __c.__ Calculate the fraction of steel sheets produced by this machine that have to be scrapped. \n",
    "\n",
    "<br>\n",
    "\n",
    "__Solution__\n",
    "\n",
    "__a.__\n",
    "\n",
    "To calculate the mean and standard deviation for $x$, we substitute 150 and 200 millimeters for $c$ and $d$, respectively, in the formulas for uniform random variables.\n",
    "Thus, \n",
    "\n",
    "$$\n",
    "\\mu = \\frac{c + d}{2} = \\frac{150 + 200}{2} = 175 \\mbox{ millimeters}\n",
    "$$\n",
    "\n",
    "and\n",
    "\n",
    "$$\n",
    "\\sigma = \\frac{d - c}{\\sqrt{12}} = \\frac{200 - 150}{\\sqrt{12}} = \\frac{50}{3.464} = 14.43 \\mbox{ millimeters}\n",
    "$$\n",
    "\n",
    "<br>\n",
    "\n",
    "__b.__\n"
   ]
  },
  {
   "cell_type": "code",
   "execution_count": 7,
   "id": "099a820c",
   "metadata": {},
   "outputs": [
    {
     "data": {
      "image/png": "[encoded data removed]",
      "text/plain": [
       "<Figure size 1080x720 with 1 Axes>"
      ]
     },
     "metadata": {
      "needs_background": "light"
     },
     "output_type": "display_data"
    }
   ],
   "source": [
    "x = np.linspace(150, 200, 1000)\n",
    "y = stats.uniform.pdf(x, loc=150, scale=50)\n",
    "plt.plot(x, y, lw = 2.0, color='darkblue', alpha=0.8)\n",
    "plt.fill_between(x, y, facecolor='orange', alpha=0.5)\n",
    "plt.title(f\"The Uniform Distribution\")\n",
    "plt.show()"
   ]
  },
  {
   "cell_type": "markdown",
   "id": "b6aade11",
   "metadata": {},
   "source": [
    "<br>\n",
    "\n",
    "__c.__\n",
    "\n",
    "To find the fraction of steel sheets produced by the machine that have to be scrapped, we must find the probability that $x$, \n",
    "the thickness, is less than 160 millimeters. We need to calculate the area under the frequency function $f(x)$ points $x = 150$\n",
    "and $x = 160$. Therefore, in this case $a = 150$ and $b = 160$. \n",
    "\n",
    "We have\n",
    "\n",
    "$$\n",
    "\\begin{align}\n",
    "P(x < 160) &= P(150 < x < 160) \\\\\n",
    "           &= \\frac{b - a}{d - c} = \\frac{160 - 150}{200 - 150} = \\frac{10}{50} = \\frac{1}{5} = 0.20\n",
    "\\end{align}\n",
    "$$\n",
    "\n",
    "<br>\n",
    "\n",
    "That is, $20\\%$ of all the sheets made by this machine must be scrapped.\n",
    "\n",
    "<br>\n",
    "<br>\n",
    "\n",
    "Of course, we can also simply use the Uniform CDF."
   ]
  },
  {
   "cell_type": "code",
   "execution_count": 8,
   "id": "b6396337",
   "metadata": {},
   "outputs": [
    {
     "data": {
      "text/plain": [
       "0.2"
      ]
     },
     "execution_count": 8,
     "metadata": {},
     "output_type": "execute_result"
    }
   ],
   "source": [
    "start = 150\n",
    "width = 50\n",
    "stats.uniform(loc=start, scale=width).cdf(160)"
   ]
  },
  {
   "cell_type": "markdown",
   "id": "d228a823",
   "metadata": {},
   "source": [
    "<br>\n",
    "<br>\n",
    "\n",
    "<u>__Example 6__</u>\n",
    "\n",
    "Suppose the length of time (in hours) between emergency arrivals at a certain hospital is modeled as an _exponential distribution_ with $\\lambda = 2$. What is the \n",
    "probability that more than 5 hours pass without an emergency arrival?\n",
    "\n",
    "<br>\n",
    "\n",
    "<u>__Solution__</u>\n",
    "\n",
    "The probability we want is the area under the curve to right of 5. To find this probability we use the CDF function and the complement rule.\n",
    "\n",
    "<br>\n",
    "\n",
    "$$\n",
    "P(X > 5) = 1 - P(X \\le 5) = 1 - .917915 = .082085\n",
    "$$\n",
    "\n",
    "<br>"
   ]
  },
  {
   "cell_type": "code",
   "execution_count": 13,
   "id": "43a44bec",
   "metadata": {},
   "outputs": [
    {
     "data": {
      "text/plain": [
       "0.08208499862389884"
      ]
     },
     "execution_count": 13,
     "metadata": {},
     "output_type": "execute_result"
    }
   ],
   "source": [
    "## Set the rate parameter\n",
    "λ = 2.0\n",
    "\n",
    "## Use the complement rule\n",
    "1 - stats.expon(scale=λ).cdf(5)"
   ]
  },
  {
   "cell_type": "code",
   "execution_count": null,
   "id": "bfad087d",
   "metadata": {},
   "outputs": [],
   "source": []
  },
  {
   "cell_type": "markdown",
   "id": "e53d0007",
   "metadata": {},
   "source": [
    "### __The Central Limit Theorem__\n",
    "\n",
    "---\n",
    "\n",
    "Let $X_{1}, X_{2}, \\ldots X_{n}$ be independent and identically \n",
    "distributed (_iid_) random variables with $E(X_{i}) = \\mu$ and\n",
    "$V(X_{i}) = \\sigma^{2} < \\infty$. Define\n",
    "\n",
    "$$\n",
    "Z_{n} = \\sqrt{n} \\left( \\frac{\\bar{X} - \\mu}{\\sigma} \\right) \\quad \\mbox{where} \\quad \\bar{X} = \\frac{1}{n} \\sum_{i=1}^{n} X_{i}\n",
    "$$\n",
    "\n",
    "Then the distribution function of $Z_{n}$ converges to a standard\n",
    "normal distribution as $n \\rightarrow \\infty$.\n",
    "\n",
    "\n",
    "That is, $Z_{n} \\xrightarrow{d} Z \\sim N(0, 1)$ as $n \\rightarrow \\infty$. \n",
    "\n",
    "---\n",
    "\n",
    "<br>\n",
    "<br>\n",
    "\n",
    "<u>__Example n__</u> \n",
    "\n",
    "\n",
    "<br>\n"
   ]
  },
  {
   "cell_type": "code",
   "execution_count": null,
   "id": "72f695ba",
   "metadata": {},
   "outputs": [],
   "source": []
  },
  {
   "cell_type": "code",
   "execution_count": null,
   "id": "8989aedc",
   "metadata": {},
   "outputs": [],
   "source": []
  },
  {
   "cell_type": "code",
   "execution_count": null,
   "id": "99ef0b7a",
   "metadata": {},
   "outputs": [],
   "source": []
  }
 ],
 "metadata": {
  "kernelspec": {
   "display_name": "Python 3",
   "language": "python",
   "name": "python3"
  },
  "language_info": {
   "codemirror_mode": {
    "name": "ipython",
    "version": 3
   },
   "file_extension": ".py",
   "mimetype": "text/x-python",
   "name": "python",
   "nbconvert_exporter": "python",
   "pygments_lexer": "ipython3",
   "version": "3.8.11"
  }
 },
 "nbformat": 4,
 "nbformat_minor": 5
}
