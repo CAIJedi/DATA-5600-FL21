{
 "cells": [
  {
   "cell_type": "markdown",
   "id": "98a4cb1f",
   "metadata": {},
   "source": [
    "# DATA 5600: Introduction to Regression and Machine Learning for Analytics\n",
    "\n",
    "## __Some Brief Notes on Sampling Theory__ <br>\n",
    "\n",
    "Author:  Tyler J. Brough <br>\n",
    "Updated: October 9, 2021 <br>\n",
    "\n",
    "---\n",
    "\n",
    "<br>"
   ]
  },
  {
   "cell_type": "code",
   "execution_count": null,
   "id": "3e82e54b",
   "metadata": {},
   "outputs": [],
   "source": [
    "import numpy as np\n",
    "from scipy import stats\n",
    "import matplotlib.pyplot as plt\n",
    "\n",
    "plt.rcParams['figure.figsize'] = [10, 8]"
   ]
  },
  {
   "cell_type": "code",
   "execution_count": null,
   "id": "e02ffbba",
   "metadata": {},
   "outputs": [],
   "source": [
    "## set the prng seed value\n",
    "np.random.seed(7041776)"
   ]
  },
  {
   "cell_type": "markdown",
   "id": "b5774dea",
   "metadata": {},
   "source": [
    "## __Sampling Theory__\n",
    "\n",
    "These notes are based upon readings from the following books:\n",
    "\n",
    "* _Introduction to Probability and Mathematical Statistics_ by Bain & Engelhart\n",
    "\n",
    "* _Mathematical Statistics with Applications_ by Wackerly, Mendenhall, and Scheaffer\n",
    "\n",
    "* _Statistics for Business and Economics_ by McClave, Benson, and Sincich\n",
    "\n",
    "<br>\n",
    "\n",
    "We will begin our discussion of sampling theory with a brief discussion of the __Central Limit Theorem__. \n",
    "\n",
    "\n",
    "* __NB:__ It gets its name by being ___central___ to the frequentist approach to statistical inference."
   ]
  },
  {
   "cell_type": "markdown",
   "id": "d87e50f0",
   "metadata": {},
   "source": [
    "<br>\n",
    "\n",
    "### __The Central Limit Theorem__\n",
    "\n",
    "---\n",
    "\n",
    "Let $X_{1}, X_{2}, \\ldots X_{n}$ be independent and identically \n",
    "distributed (_iid_) random variables with $E(X_{i}) = \\mu$ and\n",
    "$V(X_{i}) = \\sigma^{2} < \\infty$. Define\n",
    "\n",
    "<br>\n",
    "\n",
    "$$\n",
    "Z_{n} = \\sqrt{n} \\left( \\frac{\\bar{X} - \\mu}{\\sigma} \\right) \\quad \\mbox{where} \\quad \\bar{X} = \\frac{1}{n} \\sum_{i=1}^{n} X_{i}\n",
    "$$\n",
    "\n",
    "<br>\n",
    "\n",
    "Then the distribution function of $Z_{n}$ converges to a standard\n",
    "normal distribution as $n \\rightarrow \\infty$.\n",
    "\n",
    "\n",
    "That is, $Z_{n} \\xrightarrow{d} Z \\sim N(0, 1)$ as $n \\rightarrow \\infty$. \n",
    "\n",
    "---\n",
    "\n",
    "<br>"
   ]
  },
  {
   "cell_type": "markdown",
   "id": "77fc1c2f",
   "metadata": {},
   "source": [
    "### __Examples__\n",
    "\n",
    "<br>\n"
   ]
  },
  {
   "cell_type": "markdown",
   "id": "0d2042c7",
   "metadata": {},
   "source": [
    "##### <u><b>Example 1</b></u>\n",
    "\n",
    "<br>\n",
    "\n",
    "Let us simulate random samples of size $n$ from an exponential distribution with mean 10.\n",
    "\n",
    "<br>\n",
    "\n",
    "Let's start with 1000 samples each of size $n = 5$.\n",
    "\n",
    "<br>\n"
   ]
  },
  {
   "cell_type": "code",
   "execution_count": null,
   "id": "16897ddc",
   "metadata": {},
   "outputs": [],
   "source": [
    "## 1000 samples\n",
    "m = 1000\n",
    "\n",
    "## sample size n = 5\n",
    "n = 5\n",
    "\n",
    "## the true expected value\n",
    "λ = 10\n",
    "\n",
    "## store the data in an ndarray\n",
    "x = np.empty((m,n))\n",
    "\n",
    "for i in range(m):\n",
    "    x[i] = np.random.exponential(scale=λ, size=n)"
   ]
  },
  {
   "cell_type": "code",
   "execution_count": null,
   "id": "b332a3d5",
   "metadata": {},
   "outputs": [],
   "source": [
    "xbars = np.mean(x, axis=1)\n",
    "mu_hat = np.mean(xbars)\n",
    "sigma_hat = np.var(xbars)"
   ]
  },
  {
   "cell_type": "code",
   "execution_count": null,
   "id": "36d5a420",
   "metadata": {},
   "outputs": [],
   "source": [
    "mu_hat, sigma_hat"
   ]
  },
  {
   "cell_type": "markdown",
   "id": "afc72f30",
   "metadata": {},
   "source": [
    "<br>\n",
    "\n",
    "Let's repeat for $n = 25$.\n",
    "\n",
    "<br>"
   ]
  },
  {
   "cell_type": "code",
   "execution_count": null,
   "id": "63c672c0",
   "metadata": {},
   "outputs": [],
   "source": [
    "## 1000 samples\n",
    "m = 1000\n",
    "\n",
    "## sample size n = 5\n",
    "n = 25\n",
    "\n",
    "## the true expected value\n",
    "λ = 10\n",
    "\n",
    "## store the data in an ndarray\n",
    "x = np.empty((m,n))\n",
    "\n",
    "for i in range(m):\n",
    "    x[i] = np.random.exponential(scale=λ, size=n)"
   ]
  },
  {
   "cell_type": "code",
   "execution_count": null,
   "id": "11080ba9",
   "metadata": {},
   "outputs": [],
   "source": [
    "xbars = np.mean(x, axis=1)\n",
    "mu_hat = np.mean(xbars)\n",
    "sigma_hat = np.var(xbars)"
   ]
  },
  {
   "cell_type": "code",
   "execution_count": null,
   "id": "dfd8eae9",
   "metadata": {},
   "outputs": [],
   "source": [
    "mu_hat, sigma_hat"
   ]
  },
  {
   "cell_type": "markdown",
   "id": "72d46ecd",
   "metadata": {},
   "source": [
    "<br>\n",
    "\n",
    "For each value of $n$ (5 and 25), we calculated the average of the 1000 sample means generated in the simulation. The observed variance of 1000 sample means was also calculated for each value of $n$. The results are shown in the table below.\n",
    "\n",
    "<br>\n",
    "\n",
    "\n",
    "|Sample Size | Avg. of Sample Means | Population $\\mu$ | Var. of Sample Means | Population Variance ($\\sigma^{2}/n$) |\n",
    "|:-----------|:--------------------:|:----------------:|:--------------------:|:------------------------------------:|\n",
    "| $n = 5$    | 10.03                | 10               | 20.15                | 20                                   |\n",
    "| $n = 25$   | 9.98                 | 10               | 9.96                 | 4                                    |\n",
    "\n",
    "<br>"
   ]
  },
  {
   "cell_type": "markdown",
   "id": "75c9c720",
   "metadata": {},
   "source": [
    "What if we had a single sample of size $n = 100$ from this distribution? "
   ]
  },
  {
   "cell_type": "code",
   "execution_count": null,
   "id": "8364b81d",
   "metadata": {},
   "outputs": [],
   "source": [
    "## set the sample size to n = 100\n",
    "n = 100\n",
    "\n",
    "## simulate the data-generating process\n",
    "x = np.random.exponential(scale=λ, size=n)"
   ]
  },
  {
   "cell_type": "code",
   "execution_count": null,
   "id": "3d729827",
   "metadata": {},
   "outputs": [],
   "source": [
    "## inspect the first 25 observations\n",
    "x[:25]"
   ]
  },
  {
   "cell_type": "code",
   "execution_count": null,
   "id": "ec7fbc5c",
   "metadata": {},
   "outputs": [],
   "source": [
    "## calculate sample statistics\n",
    "xbar = np.mean(x)\n",
    "xsterr = np.std(x, ddof=1) / np.sqrt(n)\n",
    "(xbar, xsterr)"
   ]
  },
  {
   "cell_type": "markdown",
   "id": "6f9aab39",
   "metadata": {},
   "source": [
    "<br>\n",
    "\n",
    "This Central Limit Theorem tells us that $\\bar{X} \\sim N(10, 1)$. We estimated an approximate sampling distribution of $N(10.96, 0.99)$, which is pretty close!\n",
    "\n",
    "<br>"
   ]
  },
  {
   "cell_type": "markdown",
   "id": "f2313601",
   "metadata": {},
   "source": [
    "##### <u><b>Example 2</b></u>\n",
    "\n",
    "<br>\n",
    "\n",
    "Achievement test scores of all high school seniors in a certain state have man 60 and variance 64. A random sample of $n = 100$ students from one large high school had a mean score of 58.\n",
    "Is there evidence to suggest that this high school is inferior? \n",
    "\n",
    "__NB:__ Calculate the probability that the sample mean is at most 58 when $n = 100$.)\n",
    "\n",
    "<br>\n",
    "\n",
    "##### <u><b>Solution</b></u>\n",
    "\n",
    "<br>\n",
    "\n",
    "Let $\\bar{X}$ denote the mean of a random sample of $n = 100$ scores from a population with $\\mu = 60$ and $\\sigma^{2} = 64$. We want to approximate $P(\\bar{X} \\le 58)$. \n",
    "We can use the CLT to state that $(\\bar{X} - \\mu) / \\sigma / \\sqrt{n}$ is approximately a standard normal random variable, which we denote $Z$.\n",
    "\n",
    "<br>\n",
    "\n",
    "$$\n",
    "P(\\bar{X} \\le 58) \\approx P\\left(Z \\le \\frac{58 - 60}{\\sqrt{64/100}} \\right) = P(Z \\le -2.5) = 0.0062\n",
    "$$\n",
    "\n",
    "<br>\n",
    "\n",
    "Because this probabily is so small, it is unlikely that the sample from the school in question can be regarded as a random sample from a population with $\\mu = 60$ and $\\sigma^{2} = 64$. The\n",
    "evidence suggests that the average score for this high school is lower than the overall average of $\\mu = 60$.\n",
    "\n",
    "<br>\n",
    "<br>"
   ]
  },
  {
   "cell_type": "markdown",
   "id": "0c8d6086",
   "metadata": {},
   "source": [
    "\n",
    "##### <u><b>Example 3</b></u>\n",
    "\n",
    "<br>\n",
    "\n",
    "The service times for customers coming through a checkout counter in a retail store are independent random variables with mean $1.5$ minutes and variance $1.0$. Approximate the probability that\n",
    "100 customers can be serviced in less than 2 hours of total service time. \n",
    "\n",
    "<br>\n",
    "\n",
    "##### <u><b>Solution</b></u>\n",
    "\n",
    "<br>\n",
    "\n",
    "If we let $X_{i}$ denote the service time for the $i$th customer, then we want\n",
    "\n",
    "<br>\n",
    "\n",
    "$$\n",
    "P\\left( \\sum\\limits_{i=1}^{100} X_{i} \\le 120 \\right) = P\\left(\\bar{X} \\le \\frac{120}{100} \\right) = P(\\bar{X} \\le 1.20)\n",
    "$$\n",
    "\n",
    "<br>\n",
    "\n",
    "Because the sample size is large, the CLT tells us that $\\bar{X}$ is approximately normally distributed with mean $\\mu_{\\bar{X}} = \\mu = 1.5$ and variance\n",
    "$\\sigma_{\\bar{X}}^{2} = \\sigma^{2}/n = 1.0/100$. Therefore, we have the following\n",
    "\n",
    "<br>\n",
    "\n",
    "$$\n",
    "\\begin{aligned}\n",
    "P(\\bar{X} \\le 1.20) &= P\\left(\\frac{\\bar{X} - 1.50}{1/\\sqrt{100}} \\le \\frac{1.20 - 1.50}{1/\\sqrt{100}} \\right) \\\\\n",
    "& \\\\\n",
    "                    & \\approx P[Z \\le (1.2 - 1.5) \\sqrt{100}] = P(Z \\le -3) = 0.0013\n",
    "\\end{aligned}\n",
    "$$\n",
    "\n",
    "<br>\n",
    "\n",
    "Thus the probability that 100 customers can be serviced in less than 2 hours is approximately $0.0013$. This small probability indicates that it is virtually impossible\n",
    "to service 100 customers in only 2 hours.\n",
    "\n",
    "<br>"
   ]
  },
  {
   "cell_type": "markdown",
   "id": "206c7bbc",
   "metadata": {},
   "source": [
    "\n",
    "##### <u><b>Example 4</b></u>\n",
    "\n",
    "<br>\n",
    "\n",
    "Suppose we have selected a random sample of $n = 36$ observations from a population with mean equal to 80 and standard deviation equal to 6. It is known that the population is not\n",
    "extremely skewed. \n",
    "\n",
    "<br>\n",
    "\n",
    "* __a.__ Sketch the the sampling distribution of the sample mean, $\\bar{X}$.\n",
    "\n",
    "* __b.__ Find the probability that $\\bar{X}$ will be larger than 82.\n",
    "\n",
    "<br>\n",
    "\n",
    "##### <u><b>Solution</b></u>\n",
    "\n",
    "<br>\n",
    "\n",
    "__a.__ \n",
    "\n",
    "We do not know the exact shape of the population relative frequency distribution, but we do know that it should be centered about $\\mu = 80$,\n",
    "its spread should be measured by $\\sigma = 6$, and it is not highly skewed. \n",
    "\n",
    "The CLT tells us that the sampling distribution of $\\bar{X}$ will be approximately normal. It will have mean and standard deviatiion\n",
    "\n",
    "<br>\n",
    "\n",
    "$$\n",
    "\\mu_{\\bar{X}} = \\mu = 80 \\quad \\quad \\sigma_{bar{X}} = \\frac{\\sigma}{\\sqrt{n}} = \\frac{6}{\\sqrt{36}} = 1\n",
    "$$\n",
    "\n",
    "<br>\n",
    "\n",
    "We have graph this curve as follows:\n",
    "\n",
    "<br>"
   ]
  },
  {
   "cell_type": "code",
   "execution_count": null,
   "id": "d4c9d80f",
   "metadata": {},
   "outputs": [],
   "source": [
    "x = np.linspace(77, 83, 1000)\n",
    "y = stats.norm.pdf(x, loc=80, scale=1)\n",
    "plt.plot(x, y, lw = 2.0, color='darkblue', alpha=0.8)\n",
    "plt.fill_between(x, y, facecolor='orange', alpha=0.5)\n",
    "plt.title(f\"The Normal(80, 1) Sampling Distribution\")\n",
    "plt.show()"
   ]
  },
  {
   "cell_type": "markdown",
   "id": "26e9f4f6",
   "metadata": {},
   "source": [
    "__b.__\n",
    "\n",
    "The probability that $\\bar{X}$ will exceed 82 is equal to the area under the curve to the left of the value 82. To find this area, we need to find the $z$ value corresponding to $\\bar{X} = 82$.\n",
    "\n",
    "Recall that the standard normal random variable $z$ is the difference between any normally distributed random variable and its mean, expressed in units of its standard deviation.\n",
    "\n",
    "Because $\\bar{X}$ is approximately a normally distributed random variable with mean $\\mu_{\\bar{X}} = \\mu$ and $\\sigma_{\\bar{X}} = \\sigma/\\sqrt{n}$, it follows that the standard normal $z$\n",
    "value corresponding to the sample mean, $\\bar{X}$, is\n",
    "\n",
    "<br>\n",
    "\n",
    "$$\n",
    "z = \\frac{(\\mbox{Normal random variable}) - (\\mbox{Mean})}{\\mbox{Standard deviation})} = \\frac{\\bar{X} - \\mu_{\\bar{X}}}{\\sigma_{\\bar{X}}}\n",
    "$$\n",
    "\n",
    "<br>\n",
    "\n",
    "Therefore, for $\\bar{X} = 82$, we have\n",
    "\n",
    "<br>\n",
    "\n",
    "$$\n",
    "z = \\frac{\\bar{X} - \\mu_{\\bar{X}}}{\\sigma_{\\bar{X}}} = \\frac{82 - 80}{1} = 2\n",
    "$$\n",
    "\n",
    "<br>\n",
    "\n",
    "The tail area corresponding to the probability that $\\bar{X}$ exceeds 82 is\n",
    "\n",
    "<br>\n",
    "\n",
    "$$\n",
    "P(\\bar{X} > 82) = P(x > 2) = 0.0228\n",
    "$$\n",
    "\n",
    "<br>\n",
    "\n",
    "__NB:__ (We want to use the complement rule to get the area under the curve to the right)\n",
    "\n",
    "<br>"
   ]
  },
  {
   "cell_type": "code",
   "execution_count": null,
   "id": "8648d260",
   "metadata": {},
   "outputs": [],
   "source": [
    "1. - stats.norm.cdf(82, loc=80, scale=1)"
   ]
  },
  {
   "cell_type": "code",
   "execution_count": null,
   "id": "d4061748",
   "metadata": {},
   "outputs": [],
   "source": [
    "1. - stats.norm.cdf(2) ## defaults: loc = 0, scale = 1"
   ]
  },
  {
   "cell_type": "markdown",
   "id": "5de2b573",
   "metadata": {},
   "source": [
    "<br>\n",
    "<br>\n",
    "\n",
    "##### <u><b>Example 5</b></u>\n",
    "\n",
    "<br>\n",
    "\n",
    "A manufacturer of automobile batteries claims that the distribution of the lengths of life of its best battery has a mean of 54 months and a standard deviation of\n",
    "6 months. Recently, the manufacturer has received a rash of complaints from unsatisfied customers whose batteries have died earlier than expected.\n",
    "\n",
    "Suppose a consumer group decides to check the manufacturer's claim by purchasing a sample of 50 of these batterieis and subjecting them to tests that determine\n",
    "battery life. \n",
    "\n",
    "<br>\n",
    "\n",
    "* __a.__ Assuming that the manufacturer's claim is true, describe the sampling distribution of the mean lifetime of a sample of 50 batteries. \n",
    "\n",
    "* __b.__ Assuming that the manufacturer's claim is true, what is the probability that the consumer group's sample has a mean life of 52 or fewer months? \n",
    "\n",
    "<br>\n",
    "\n",
    "##### <u><b>Solution</b></u>\n",
    "\n",
    "<br>\n",
    "\n",
    "__a.__ \n",
    "\n",
    "\n",
    "Even though we have no information about the shape of the probability distribution of the lives of the batteries, we can use the CLT to deduce that the\n",
    "sampling distribution for a sample mean lifetime of 50 batteries is approximately normally distributed. \n",
    "\n",
    "The mean of this sampling distribution is the same as the mean of the sampled population, which $\\mu = 54$ months according to the manufacturer's claim.\n",
    "\n",
    "Finally, the standard deviation of the sampling distribution is given by\n",
    "\n",
    "<br>\n",
    "\n",
    "$$\n",
    "\\sigma_{\\bar{X}} = \\frac{\\sigma}{\\sqrt{n}} = \\frac{6}{\\sqrt{50}} = 0.85 \\mbox{  months}\n",
    "$$\n",
    "\n",
    "<br>\n",
    "\n",
    "Note that we used the claimed standard deviation of the sampled population, $\\sigma = 6$ months. Thus, if we assume that the claim is true, the sampling\n",
    "distribution for the mean life of 50 batteries is as shown below\n",
    "\n",
    "<br>"
   ]
  },
  {
   "cell_type": "code",
   "execution_count": null,
   "id": "26399c85",
   "metadata": {},
   "outputs": [],
   "source": [
    "x = np.linspace(50, 58, 1000)\n",
    "y = stats.norm.pdf(x, loc=54, scale=0.85)\n",
    "plt.plot(x, y, lw = 2.0, color='darkblue', alpha=0.8)\n",
    "plt.fill_between(x, y, facecolor='orange', alpha=0.5)\n",
    "plt.title(f\"The Normal(54, 0.85) Sampling Distribution\")\n",
    "plt.show()"
   ]
  },
  {
   "cell_type": "markdown",
   "id": "62f25e31",
   "metadata": {},
   "source": [
    "<br>\n",
    "\n",
    "__b.__\n",
    "\n",
    "If the manufacturer's claim is true, the probability that the consumer group observes a mean battery life of 52 or fewer months for their sample of 50 batteries,\n",
    "$P(\\bar{X} \\le 52)$, is equivalent to the area under the curve to the left of the value 52. \n",
    "\n",
    "Because the sampling distribution is approximately normal, we can find this area by computing the standard $z$ value:\n",
    "\n",
    "<br>\n",
    "\n",
    "$$\n",
    "z = \\frac{\\bar{X} - \\mu_{\\bar{X}}}{\\sigma_{\\bar{X}}} = \\frac{52 - 54}{0.85} = -2.35\n",
    "$$\n",
    "\n",
    "<br>\n",
    "\n",
    "Therefore, the area to the left $\\bar{X} = 52$ is \n",
    "\n",
    "<br>\n",
    "\n",
    "$$\n",
    "P(\\bar{X} \\le 52) = P(z \\le -2.35) \\approx 0.0094\n",
    "$$\n",
    "\n",
    "<br>\n",
    "\n",
    "Thus if the manufacturer's claim is true this is a very small probability.\n",
    "\n",
    "<br>"
   ]
  },
  {
   "cell_type": "code",
   "execution_count": null,
   "id": "48dd8e32",
   "metadata": {},
   "outputs": [],
   "source": [
    "stats.norm.cdf(52, loc=54, scale=0.85)"
   ]
  },
  {
   "cell_type": "code",
   "execution_count": null,
   "id": "f0cc4890",
   "metadata": {},
   "outputs": [],
   "source": [
    "stats.norm.cdf(-2.35)"
   ]
  },
  {
   "cell_type": "markdown",
   "id": "babecc02",
   "metadata": {},
   "source": [
    "<br>\n",
    "<br>\n",
    "\n",
    "### __The Empirical CDF__\n",
    "\n",
    "---\n",
    "\n",
    "Let $X_{1}, X_{2}, \\ldots, X_{n}$ be independent, identically distributed real random variables witih the common CDF $F(t)$. Then the __empirical cumulative distribution function (eCDF)__ is defined as\n",
    "\n",
    "<br>\n",
    "\n",
    "$$\n",
    "\\hat{F_{n}}(t) = \\frac{1}{n} \\sum\\limits_{i=1}^{n} \\mathbf{{I}}\\{x_{i} \\le t\\}\n",
    "$$\n",
    "\n",
    "<br>\n",
    "\n",
    "where $\\mathbf{{I}}\\{x_{i} \\le t\\}$ is an indicator function. \n",
    "\n",
    "---\n",
    "\n",
    "<br>\n",
    "<br>"
   ]
  },
  {
   "cell_type": "code",
   "execution_count": null,
   "id": "dbd4ce5a",
   "metadata": {},
   "outputs": [],
   "source": [
    "## Calculate the CDF of 2\n",
    "stats.norm.cdf(1.96)"
   ]
  },
  {
   "cell_type": "code",
   "execution_count": null,
   "id": "8dbdb9f6",
   "metadata": {},
   "outputs": [],
   "source": [
    "## Calculate the eCDF of 2\n",
    "z = np.random.normal(size=100_000)\n",
    "I = z >= 1.96\n",
    "1 - np.sum(I) / 100_000"
   ]
  },
  {
   "cell_type": "code",
   "execution_count": null,
   "id": "1796ba0e",
   "metadata": {},
   "outputs": [],
   "source": [
    "## Calculate the PPF of 0.975\n",
    "stats.norm.ppf(0.975)"
   ]
  },
  {
   "cell_type": "code",
   "execution_count": null,
   "id": "4ed4b799",
   "metadata": {},
   "outputs": [],
   "source": [
    "## Calculate the ePPF of 0.975\n",
    "z.sort()\n",
    "ii = int(0.975 * 100_000)\n",
    "z[ii]"
   ]
  },
  {
   "cell_type": "code",
   "execution_count": null,
   "id": "c6c037ec",
   "metadata": {},
   "outputs": [],
   "source": []
  },
  {
   "cell_type": "code",
   "execution_count": null,
   "id": "86bec0e5",
   "metadata": {},
   "outputs": [],
   "source": []
  }
 ],
 "metadata": {
  "kernelspec": {
   "display_name": "Python 3",
   "language": "python",
   "name": "python3"
  },
  "language_info": {
   "codemirror_mode": {
    "name": "ipython",
    "version": 3
   },
   "file_extension": ".py",
   "mimetype": "text/x-python",
   "name": "python",
   "nbconvert_exporter": "python",
   "pygments_lexer": "ipython3",
   "version": "3.8.11"
  }
 },
 "nbformat": 4,
 "nbformat_minor": 5
}
