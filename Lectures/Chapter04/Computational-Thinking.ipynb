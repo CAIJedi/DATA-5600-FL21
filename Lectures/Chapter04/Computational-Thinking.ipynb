{
 "cells": [
  {
   "cell_type": "markdown",
   "id": "b6a09aaf",
   "metadata": {},
   "source": [
    "# DATA 5600: Introduction to Regression and Machine Learning for Analytics\n",
    "\n",
    "## __Computational Thinking, Statistical Thinking, and First Steps with the Monte Carlo Method__ <br>\n",
    "\n",
    "Author:      Tyler J. Brough <br>\n",
    "Updated: September 22, 2021 <br>\n",
    "\n",
    "---\n",
    "\n",
    "<br>"
   ]
  },
  {
   "cell_type": "code",
   "execution_count": 1,
   "id": "57d018c2",
   "metadata": {},
   "outputs": [],
   "source": [
    "import numpy as np\n",
    "from scipy import stats\n",
    "import seaborn as sns\n",
    "import matplotlib.pyplot as plt\n",
    "from typing import List\n",
    "\n",
    "sns.set_style('darkgrid')\n",
    "plt.rcParams['figure.figsize'] = [10, 5]"
   ]
  },
  {
   "cell_type": "code",
   "execution_count": 2,
   "id": "307c8507",
   "metadata": {},
   "outputs": [],
   "source": [
    "students = ['Tyler Clayson', 'Marshall Day', 'Liz Giles', 'Connor Hoiland', 'Josie Hull',\n",
    "            'Brian Kissmer', 'Andrew Martin', 'Jacob Needham', 'Tori Rallison', 'Emily Rice',\n",
    "            'Chris Simiskey', 'Wes Smith', 'Andrew Walker', 'Austin Warr', 'Connor Waterman']\n",
    "\n",
    "\n",
    "def draw_a_student(students: List[str]): \n",
    "    the_student = np.random.choice(students)\n",
    "    print(f\"{the_student}, come on down!\")"
   ]
  },
  {
   "cell_type": "code",
   "execution_count": 3,
   "id": "445a5c25",
   "metadata": {},
   "outputs": [
    {
     "name": "stdout",
     "output_type": "stream",
     "text": [
      "Wes Smith, come on down!\n"
     ]
    }
   ],
   "source": [
    "draw_a_student(students)"
   ]
  },
  {
   "cell_type": "markdown",
   "id": "edfc9f97",
   "metadata": {},
   "source": [
    "<br>\n",
    "\n",
    "---"
   ]
  },
  {
   "cell_type": "markdown",
   "id": "cf0d4996",
   "metadata": {},
   "source": [
    "### __Example 1:__ The Binomial Distribution"
   ]
  },
  {
   "cell_type": "markdown",
   "id": "51b76417",
   "metadata": {},
   "source": [
    "#### __Preliminary Bits__\n",
    "\n",
    "<br>\n",
    "\n",
    "__Bernoulli Trials:__ A set of $n$ independent binary variables in which the $j$th observation is either a 'success' or 'failure', with probability of success, $\\theta$, being the same for all trials.\n",
    "\n",
    "<br>"
   ]
  },
  {
   "cell_type": "markdown",
   "id": "1c3ab135",
   "metadata": {},
   "source": [
    "#### The __Binomial distribution__\n",
    "\n",
    "\n",
    "<br>\n",
    "\n",
    "The distribution of the number of _successes_, $X$, in a series of $n$-independent ___Bernoulli trials___ where the probability of success at each trial is $\\theta$ and the probability of failure is $1 - \\theta$. Specifically the distribution is given by\n",
    "\n",
    "<br>\n",
    "\n",
    "$$\n",
    "\\large{Pr(X = x) = \\frac{n!}{x!(n-x)!} \\theta^{x}(1 - \\theta)^{n-x}, \\quad x = 1, 2, \\ldots, n}\n",
    "$$\n",
    "\n",
    "<br>\n",
    "\n",
    "The mean, variance, skewness and kurtosis of the distribution are as follows:\n",
    "\n",
    "<br>\n",
    "\n",
    "$$\n",
    "\\begin{align}\n",
    "\\mbox{mean} &= n\\theta \\\\\n",
    "& \\\\\n",
    "\\mbox{variance} &= n\\theta(1 - \\theta) \\\\\n",
    "& \\\\\n",
    "\\mbox{skewness} &= ((1 - \\theta) - \\theta) / (n\\theta(1-\\theta))^{\\frac{1}{2}} \\\\\n",
    "& \\\\\n",
    "\\mbox{kurtosis} &= 3 - \\frac{6}{n} + \\frac{1}{n\\theta(1 - \\theta)} \\\\\n",
    "\\end{align}\n",
    "$$\n",
    "\n",
    "<br>"
   ]
  },
  {
   "cell_type": "code",
   "execution_count": 4,
   "id": "86dc2a31",
   "metadata": {},
   "outputs": [
    {
     "data": {
      "text/plain": [
       "array([9])"
      ]
     },
     "execution_count": 4,
     "metadata": {},
     "output_type": "execute_result"
    }
   ],
   "source": [
    "np.random.binomial(n=10, p=0.5, size=1)"
   ]
  },
  {
   "cell_type": "code",
   "execution_count": 10,
   "id": "8d0b1911",
   "metadata": {},
   "outputs": [
    {
     "data": {
      "text/plain": [
       "(25.0316, 3.584032082528958)"
      ]
     },
     "execution_count": 10,
     "metadata": {},
     "output_type": "execute_result"
    }
   ],
   "source": [
    "M = 10_000\n",
    "N = 50\n",
    "theta = 0.5\n",
    "\n",
    "heads = np.zeros(M)\n",
    "\n",
    "## the main simulation loop\n",
    "for i in range(M):\n",
    "    heads[i] = np.random.binomial(n=N, p=theta)\n",
    "    \n",
    "(np.mean(heads), np.std(heads, ddof=1))"
   ]
  },
  {
   "cell_type": "code",
   "execution_count": 11,
   "id": "00e2fd23",
   "metadata": {},
   "outputs": [
    {
     "data": {
      "text/plain": [
       "25.0"
      ]
     },
     "execution_count": 11,
     "metadata": {},
     "output_type": "execute_result"
    }
   ],
   "source": [
    "N * theta"
   ]
  },
  {
   "cell_type": "code",
   "execution_count": 12,
   "id": "4832da5a",
   "metadata": {},
   "outputs": [
    {
     "data": {
      "text/plain": [
       "3.5355339059327378"
      ]
     },
     "execution_count": 12,
     "metadata": {},
     "output_type": "execute_result"
    }
   ],
   "source": [
    "np.sqrt(N * theta * (1. - theta))"
   ]
  },
  {
   "cell_type": "code",
   "execution_count": 13,
   "id": "73c3d778",
   "metadata": {},
   "outputs": [
    {
     "data": {
      "image/png": "[encoded data removed]",
      "text/plain": [
       "<Figure size 720x360 with 1 Axes>"
      ]
     },
     "metadata": {},
     "output_type": "display_data"
    }
   ],
   "source": [
    "plt.hist(heads, bins=25);"
   ]
  },
  {
   "cell_type": "markdown",
   "id": "49a93e5d",
   "metadata": {},
   "source": [
    "<br>\n",
    "\n",
    "__NB:__ We can actually vectorize this simulation quite simply as the following:\n",
    "\n",
    "<br>"
   ]
  },
  {
   "cell_type": "code",
   "execution_count": 14,
   "id": "74cd3bf9",
   "metadata": {},
   "outputs": [],
   "source": [
    "more_heads = np.random.binomial(n=N, p=theta, size=M)"
   ]
  },
  {
   "cell_type": "code",
   "execution_count": 15,
   "id": "0d0ee77d",
   "metadata": {},
   "outputs": [
    {
     "data": {
      "image/png": "[encoded data removed]",
      "text/plain": [
       "<Figure size 720x360 with 1 Axes>"
      ]
     },
     "metadata": {},
     "output_type": "display_data"
    }
   ],
   "source": [
    "plt.hist(more_heads, bins=25);"
   ]
  },
  {
   "cell_type": "markdown",
   "id": "1fc8d4ab",
   "metadata": {},
   "source": [
    "<br>\n",
    "\n",
    "__Q:__ What's the difference?\n",
    "\n",
    "<br>\n",
    "\n",
    "\n",
    "##### __Standarizing the Results__\n",
    "\n",
    "<br>"
   ]
  },
  {
   "cell_type": "code",
   "execution_count": 17,
   "id": "61412d03",
   "metadata": {},
   "outputs": [
    {
     "data": {
      "image/png": "[encoded data removed]",
      "text/plain": [
       "<Figure size 720x360 with 1 Axes>"
      ]
     },
     "metadata": {},
     "output_type": "display_data"
    }
   ],
   "source": [
    "z_scores = (more_heads - np.mean(more_heads)) / np.std(more_heads, ddof=1)\n",
    "plt.hist(z_scores, bins=25);"
   ]
  },
  {
   "cell_type": "markdown",
   "id": "70a994b1",
   "metadata": {},
   "source": [
    "<br>\n",
    "\n",
    "---\n",
    "\n",
    "<br>"
   ]
  },
  {
   "cell_type": "markdown",
   "id": "1fc6cd67",
   "metadata": {},
   "source": [
    "### __Example 2:__ The Poisson Distribution\n",
    "\n",
    "<br>"
   ]
  },
  {
   "cell_type": "markdown",
   "id": "5670c3f9",
   "metadata": {},
   "source": [
    "#### The __Poisson Distribution__ \n",
    "\n",
    "<br>\n",
    "\n",
    "The probability distribution of the number of occurrences, $X$, or some random event, in an interval of time or space. Given by\n",
    "\n",
    "<br>\n",
    "\n",
    "$$\n",
    "\\large{Pr(X = x) = \\frac{e^{-\\lambda} \\lambda^{x}}{x!}, \\quad x = 0, 1, \\ldots}\n",
    "$$\n",
    "\n",
    "<br>\n",
    "\n",
    "The mean and variance of the distribution are both $\\lambda$. The skewness of the distribution is $1 / \\sqrt{\\lambda}$ and its kurtosis is $3 + 1 / \\lambda$. The distribution is positively skewed for all values of $\\lambda$. \n",
    "\n",
    "<br>"
   ]
  },
  {
   "cell_type": "code",
   "execution_count": 18,
   "id": "217a15ea",
   "metadata": {},
   "outputs": [
    {
     "data": {
      "text/plain": [
       "\u001b[0;31mDocstring:\u001b[0m\n",
       "poisson(lam=1.0, size=None)\n",
       "\n",
       "Draw samples from a Poisson distribution.\n",
       "\n",
       "The Poisson distribution is the limit of the binomial distribution\n",
       "for large N.\n",
       "\n",
       ".. note::\n",
       "    New code should use the ``poisson`` method of a ``default_rng()``\n",
       "    instance instead; please see the :ref:`random-quick-start`.\n",
       "\n",
       "Parameters\n",
       "----------\n",
       "lam : float or array_like of floats\n",
       "    Expectation of interval, must be >= 0. A sequence of expectation\n",
       "    intervals must be broadcastable over the requested size.\n",
       "size : int or tuple of ints, optional\n",
       "    Output shape.  If the given shape is, e.g., ``(m, n, k)``, then\n",
       "    ``m * n * k`` samples are drawn.  If size is ``None`` (default),\n",
       "    a single value is returned if ``lam`` is a scalar. Otherwise,\n",
       "    ``np.array(lam).size`` samples are drawn.\n",
       "\n",
       "Returns\n",
       "-------\n",
       "out : ndarray or scalar\n",
       "    Drawn samples from the parameterized Poisson distribution.\n",
       "\n",
       "See Also\n",
       "--------\n",
       "Generator.poisson: which should be used for new code.\n",
       "\n",
       "Notes\n",
       "-----\n",
       "The Poisson distribution\n",
       "\n",
       ".. math:: f(k; \\lambda)=\\frac{\\lambda^k e^{-\\lambda}}{k!}\n",
       "\n",
       "For events with an expected separation :math:`\\lambda` the Poisson\n",
       "distribution :math:`f(k; \\lambda)` describes the probability of\n",
       ":math:`k` events occurring within the observed\n",
       "interval :math:`\\lambda`.\n",
       "\n",
       "Because the output is limited to the range of the C int64 type, a\n",
       "ValueError is raised when `lam` is within 10 sigma of the maximum\n",
       "representable value.\n",
       "\n",
       "References\n",
       "----------\n",
       ".. [1] Weisstein, Eric W. \"Poisson Distribution.\"\n",
       "       From MathWorld--A Wolfram Web Resource.\n",
       "       http://mathworld.wolfram.com/PoissonDistribution.html\n",
       ".. [2] Wikipedia, \"Poisson distribution\",\n",
       "       https://en.wikipedia.org/wiki/Poisson_distribution\n",
       "\n",
       "Examples\n",
       "--------\n",
       "Draw samples from the distribution:\n",
       "\n",
       ">>> import numpy as np\n",
       ">>> s = np.random.poisson(5, 10000)\n",
       "\n",
       "Display histogram of the sample:\n",
       "\n",
       ">>> import matplotlib.pyplot as plt\n",
       ">>> count, bins, ignored = plt.hist(s, 14, density=True)\n",
       ">>> plt.show()\n",
       "\n",
       "Draw each 100 values for lambda 100 and 500:\n",
       "\n",
       ">>> s = np.random.poisson(lam=(100., 500.), size=(100, 2))\n",
       "\u001b[0;31mType:\u001b[0m      builtin_function_or_method\n"
      ]
     },
     "metadata": {},
     "output_type": "display_data"
    }
   ],
   "source": [
    "np.random.poisson?"
   ]
  },
  {
   "cell_type": "code",
   "execution_count": 19,
   "id": "9e68fa91",
   "metadata": {},
   "outputs": [
    {
     "data": {
      "text/plain": [
       "array([3, 6, 7, 8, 5, 6, 5, 8, 5, 2])"
      ]
     },
     "execution_count": 19,
     "metadata": {},
     "output_type": "execute_result"
    }
   ],
   "source": [
    "np.random.poisson(lam=4.5, size=10)"
   ]
  },
  {
   "cell_type": "code",
   "execution_count": 20,
   "id": "fd594a79",
   "metadata": {},
   "outputs": [
    {
     "name": "stdout",
     "output_type": "stream",
     "text": [
      "Liz Giles, come on down!\n"
     ]
    }
   ],
   "source": [
    "draw_a_student(students)"
   ]
  },
  {
   "cell_type": "code",
   "execution_count": null,
   "id": "c6afcfc9",
   "metadata": {},
   "outputs": [],
   "source": []
  },
  {
   "cell_type": "code",
   "execution_count": null,
   "id": "d7e0654c",
   "metadata": {},
   "outputs": [],
   "source": []
  },
  {
   "cell_type": "code",
   "execution_count": null,
   "id": "cc5dd2be",
   "metadata": {},
   "outputs": [],
   "source": []
  },
  {
   "cell_type": "markdown",
   "id": "49e471f4",
   "metadata": {},
   "source": [
    "<br>\n",
    "\n",
    "---\n",
    "\n",
    "<br>"
   ]
  },
  {
   "cell_type": "markdown",
   "id": "7dd36e92",
   "metadata": {},
   "source": [
    "### __Example 3:__ The Exponential Distribution\n",
    "\n",
    "<br>"
   ]
  },
  {
   "cell_type": "markdown",
   "id": "dab040ff",
   "metadata": {},
   "source": [
    "<br>\n",
    "\n",
    "#### __Preliminary Bits__\n",
    "\n",
    "<br>\n",
    "\n",
    "__Poisson Process:__ A point process with independent increments at constant intensity, say $\\lambda$. The count after time $t$ has therefore a _Poisson distribution_ with mean $\\lambda t$. \n",
    "\n",
    "<br>\n",
    "\n",
    "__Point Process:__ A stochastic process concerned with the occurrence of events at points of time or space determined by some chance mechanism. \n",
    "\n",
    "<br>"
   ]
  },
  {
   "cell_type": "markdown",
   "id": "88e3afe0",
   "metadata": {},
   "source": [
    "#### The __Exponential Distribution__\n",
    "\n",
    "<br>\n",
    "\n",
    "The probability distribution $f(x)$ given by\n",
    "\n",
    "<br>\n",
    "\n",
    "$$\n",
    "\\large{f(x) = \\lambda e^{-\\lambda x}, \\quad x > 0}\n",
    "$$\n",
    "\n",
    "<br>\n",
    "\n",
    "\n",
    "The mean, variance, skewness, and kurtosis of the distribution are as follows:\n",
    "\n",
    "<br>\n",
    "\n",
    "$$\n",
    "\\begin{align}\n",
    "\\mbox{mean} &= 1 / \\lambda \\\\\n",
    "& \\\\\n",
    "\\mbox{variance} &= 1 / \\lambda^{2} \\\\\n",
    "& \\\\\n",
    "\\mbox{skewness} &= 2 \\\\\n",
    "& \\\\\n",
    "\\mbox{kurtosis} &= 9 \\\\\n",
    "& \\\\\n",
    "\\end{align}\n",
    "$$\n",
    "\n",
    "<br>\n",
    "\n",
    "__NB:__ The distribution of intervals between independent consecutive random events, i.e. those following a ___Poisson process___.\n",
    "\n",
    "<br>"
   ]
  },
  {
   "cell_type": "markdown",
   "id": "6c240d44",
   "metadata": {},
   "source": [
    "<br>\n",
    "\n",
    "__NB:__ `numpy` uses a different parameterization from the one above:\n",
    "\n",
    "<br>\n",
    "\n",
    "$$\n",
    "f(x) = \\frac{1}{\\beta} e^{-\\frac{1}{\\beta}x}, \\quad \\mbox{which just substitutes} \\quad \\lambda = \\frac{1}{\\beta}\n",
    "$$\n",
    "\n",
    "<br>"
   ]
  },
  {
   "cell_type": "code",
   "execution_count": 21,
   "id": "776fa6fc",
   "metadata": {},
   "outputs": [
    {
     "data": {
      "text/plain": [
       "\u001b[0;31mDocstring:\u001b[0m\n",
       "exponential(scale=1.0, size=None)\n",
       "\n",
       "Draw samples from an exponential distribution.\n",
       "\n",
       "Its probability density function is\n",
       "\n",
       ".. math:: f(x; \\frac{1}{\\beta}) = \\frac{1}{\\beta} \\exp(-\\frac{x}{\\beta}),\n",
       "\n",
       "for ``x > 0`` and 0 elsewhere. :math:`\\beta` is the scale parameter,\n",
       "which is the inverse of the rate parameter :math:`\\lambda = 1/\\beta`.\n",
       "The rate parameter is an alternative, widely used parameterization\n",
       "of the exponential distribution [3]_.\n",
       "\n",
       "The exponential distribution is a continuous analogue of the\n",
       "geometric distribution.  It describes many common situations, such as\n",
       "the size of raindrops measured over many rainstorms [1]_, or the time\n",
       "between page requests to Wikipedia [2]_.\n",
       "\n",
       ".. note::\n",
       "    New code should use the ``exponential`` method of a ``default_rng()``\n",
       "    instance instead; please see the :ref:`random-quick-start`.\n",
       "\n",
       "Parameters\n",
       "----------\n",
       "scale : float or array_like of floats\n",
       "    The scale parameter, :math:`\\beta = 1/\\lambda`. Must be\n",
       "    non-negative.\n",
       "size : int or tuple of ints, optional\n",
       "    Output shape.  If the given shape is, e.g., ``(m, n, k)``, then\n",
       "    ``m * n * k`` samples are drawn.  If size is ``None`` (default),\n",
       "    a single value is returned if ``scale`` is a scalar.  Otherwise,\n",
       "    ``np.array(scale).size`` samples are drawn.\n",
       "\n",
       "Returns\n",
       "-------\n",
       "out : ndarray or scalar\n",
       "    Drawn samples from the parameterized exponential distribution.\n",
       "\n",
       "See Also\n",
       "--------\n",
       "Generator.exponential: which should be used for new code.\n",
       "\n",
       "References\n",
       "----------\n",
       ".. [1] Peyton Z. Peebles Jr., \"Probability, Random Variables and\n",
       "       Random Signal Principles\", 4th ed, 2001, p. 57.\n",
       ".. [2] Wikipedia, \"Poisson process\",\n",
       "       https://en.wikipedia.org/wiki/Poisson_process\n",
       ".. [3] Wikipedia, \"Exponential distribution\",\n",
       "       https://en.wikipedia.org/wiki/Exponential_distribution\n",
       "\u001b[0;31mType:\u001b[0m      builtin_function_or_method\n"
      ]
     },
     "metadata": {},
     "output_type": "display_data"
    }
   ],
   "source": [
    "np.random.exponential?"
   ]
  },
  {
   "cell_type": "code",
   "execution_count": 23,
   "id": "aa425dfa",
   "metadata": {},
   "outputs": [
    {
     "data": {
      "text/plain": [
       "array([ 7.74817166,  0.20662234, 13.86399967,  2.37381879,  3.3842515 ,\n",
       "        3.33131112,  0.79163617,  5.45713071,  0.18239155,  6.0066124 ])"
      ]
     },
     "execution_count": 23,
     "metadata": {},
     "output_type": "execute_result"
    }
   ],
   "source": [
    "np.random.exponential(scale = 4, size=10)"
   ]
  },
  {
   "cell_type": "code",
   "execution_count": 24,
   "id": "d8a3097b",
   "metadata": {},
   "outputs": [
    {
     "name": "stdout",
     "output_type": "stream",
     "text": [
      "Brian Kissmer, come on down!\n"
     ]
    }
   ],
   "source": [
    "draw_a_student(students)"
   ]
  },
  {
   "cell_type": "code",
   "execution_count": null,
   "id": "cffd2f12",
   "metadata": {},
   "outputs": [],
   "source": []
  },
  {
   "cell_type": "code",
   "execution_count": null,
   "id": "fa808dc4",
   "metadata": {},
   "outputs": [],
   "source": []
  },
  {
   "cell_type": "code",
   "execution_count": null,
   "id": "ab073733",
   "metadata": {},
   "outputs": [],
   "source": []
  },
  {
   "cell_type": "markdown",
   "id": "3342dae7",
   "metadata": {},
   "source": [
    "<br>\n",
    "\n",
    "---\n",
    "\n",
    "<br>"
   ]
  },
  {
   "cell_type": "markdown",
   "id": "4f73bbc6",
   "metadata": {},
   "source": [
    "### __A Simple Linear Regression: The Slope Coefficient__\n",
    "\n",
    "<br>\n",
    "\n",
    "Consider the following simple linear regression:\n",
    "\n",
    "<br>\n",
    "\n",
    "$$\n",
    "\\large{y_{i} = a + b x_{i} + \\varepsilon_{t}}\n",
    "$$\n",
    "\n",
    "<br>\n",
    "\n",
    "We are interested in the OLS estimate of the $b$ coefficient, $\\hat{b}$, and its sampling distribution.\n",
    "\n",
    "<br>"
   ]
  },
  {
   "cell_type": "code",
   "execution_count": null,
   "id": "3b0a1bae",
   "metadata": {},
   "outputs": [],
   "source": []
  }
 ],
 "metadata": {
  "kernelspec": {
   "display_name": "Python 3",
   "language": "python",
   "name": "python3"
  },
  "language_info": {
   "codemirror_mode": {
    "name": "ipython",
    "version": 3
   },
   "file_extension": ".py",
   "mimetype": "text/x-python",
   "name": "python",
   "nbconvert_exporter": "python",
   "pygments_lexer": "ipython3",
   "version": "3.8.11"
  }
 },
 "nbformat": 4,
 "nbformat_minor": 5
}
