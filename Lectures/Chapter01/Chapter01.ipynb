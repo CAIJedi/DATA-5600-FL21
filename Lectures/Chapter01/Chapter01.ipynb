{
 "cells": [
  {
   "cell_type": "markdown",
   "id": "ce264ce7",
   "metadata": {
    "lines_to_next_cell": 2,
    "slideshow": {
     "slide_type": "slide"
    }
   },
   "source": [
    "# DATA 5600: Introduction to Regression and Machine Learning for Analytics <br>\n",
    "\n",
    "__Chapter 01 - Overview__ <br>\n",
    "\n",
    "Tyler J. Brough <br>\n",
    "Last Update: August 29, 2021 <br>\n"
   ]
  },
  {
   "cell_type": "markdown",
   "id": "7bdbee59",
   "metadata": {
    "lines_to_next_cell": 2,
    "slideshow": {
     "slide_type": "slide"
    },
    "tags": []
   },
   "source": [
    "## Section 1.1: The Three Challenges of Statistics"
   ]
  },
  {
   "cell_type": "markdown",
   "id": "7d084bb6",
   "metadata": {
    "lines_to_next_cell": 2,
    "slideshow": {
     "slide_type": "subslide"
    }
   },
   "source": [
    "The tree challenges of statistics: \n",
    "\n",
    "1. _Generalizing from sample to population_\n",
    "\n",
    "2. _Generalizing from treatment group to control group_\n",
    "\n",
    "3. _Generalizing from observed measurements to the underlying constructs of interest_"
   ]
  },
  {
   "cell_type": "markdown",
   "id": "df1f4e23",
   "metadata": {
    "incorrectly_encoded_metadata": "slideshow={'slide_type\": \"subslide\"}",
    "lines_to_next_cell": 2
   },
   "source": [
    "### Generalizing From Sample to Population\n"
   ]
  },
  {
   "cell_type": "markdown",
   "id": "0c874a4a",
   "metadata": {
    "incorrectly_encoded_metadata": "slideshow={'slide_type\": \"subslide\"}",
    "lines_to_next_cell": 2
   },
   "source": [
    "### Generalizing From Treatment Group to Control Group \n"
   ]
  },
  {
   "cell_type": "markdown",
   "id": "a6ba1853",
   "metadata": {
    "incorrectly_encoded_metadata": "slideshow={'slide_type\": \"subslide\"}",
    "lines_to_next_cell": 2
   },
   "source": [
    "### Generalizing From Observed Measurements to the Underlying Constructs of Interest \n"
   ]
  },
  {
   "cell_type": "markdown",
   "id": "ca1d5c1d",
   "metadata": {},
   "source": [
    "<!--- #region slideshow={'slide_type\": \"slide\"} -->\n",
    "## Section 1.2: Why Learn Regression?\n",
    "\n",
    "<!-- #endregion -->\n"
   ]
  },
  {
   "cell_type": "markdown",
   "id": "bea90318",
   "metadata": {},
   "source": [
    "<!--- #region slideshow={'slide_type\": \"slide\"} -->\n",
    "## Section 1.3: Some Examples of Regression\n",
    "\n",
    "<!-- #endregion -->"
   ]
  },
  {
   "cell_type": "markdown",
   "id": "662a9c37",
   "metadata": {},
   "source": [
    "<!--- #region slideshow={'slide_type\": \"slide\"} -->\n",
    "## Section 1.4: Challenges in Building, Understanding, and Interpreting Regressions\n",
    "\n",
    "<!-- #endregion -->"
   ]
  },
  {
   "cell_type": "markdown",
   "id": "7b69f336",
   "metadata": {},
   "source": [
    "<!--- #region slideshow={'slide_type\": \"slide\"} -->\n",
    "## Section 1.5: Classical and Bayesian Inference\n",
    "\n",
    "<!-- #endregion -->"
   ]
  },
  {
   "cell_type": "markdown",
   "id": "ad4722a9",
   "metadata": {},
   "source": [
    "<!--- #region slideshow={'slide_type\": \"slide\"} -->\n",
    "## Section 1.6: Computing Least Squares and Bayesian Regression\n",
    "\n",
    "<!-- #endregion -->"
   ]
  },
  {
   "cell_type": "markdown",
   "id": "e9447ead",
   "metadata": {},
   "source": [
    "<!--- #region slideshow={'slide_type\": \"slide\"} -->\n",
    "## Section 1.7: Bibliographic Note\n",
    "<!-- #endregion -->\n"
   ]
  },
  {
   "cell_type": "markdown",
   "id": "a90109c0",
   "metadata": {},
   "source": [
    "<!--- #region slideshow={'slide_type\": \"slide\"} -->\n",
    "\n",
    "<!-- #endregion -->"
   ]
  }
 ],
 "metadata": {
  "jupytext": {
   "formats": "ipynb,md",
   "hide_notebook_metadata": true,
   "text_representation": {
    "extension": ".md",
    "format_name": "markdown",
    "format_version": "1.2",
    "jupytext_version": "1.6.0"
   }
  },
  "kernelspec": {
   "display_name": "Python 3",
   "language": "python",
   "name": "python3"
  },
  "language_info": {
   "codemirror_mode": {
    "name": "ipython",
    "version": 3
   },
   "file_extension": ".py",
   "mimetype": "text/x-python",
   "name": "python",
   "nbconvert_exporter": "python",
   "pygments_lexer": "ipython3",
   "version": "3.8.11"
  }
 },
 "nbformat": 4,
 "nbformat_minor": 5
}
