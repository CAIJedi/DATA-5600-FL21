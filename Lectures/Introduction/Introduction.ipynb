{
 "cells": [
  {
   "cell_type": "markdown",
   "id": "dcc62697",
   "metadata": {
    "lines_to_next_cell": 2,
    "slideshow": {
     "slide_type": "slide"
    }
   },
   "source": [
    "# DATA 5600: Introduction to Regression and Machine Learning for Analytics <br>\n",
    "\n",
    "__Introduction__ <br>\n",
    "\n",
    "Tyler J. Brough <br>\n",
    "Last Update: August 29, 2021 <br>"
   ]
  },
  {
   "cell_type": "markdown",
   "id": "a5266b97",
   "metadata": {},
   "source": [
    "<!--- #region slideshow={'slide_type\": \"slide\"} -->\n",
    "## About Me\n",
    "\n",
    "<!-- #endregion -->"
   ]
  },
  {
   "cell_type": "markdown",
   "id": "5bfcdc92",
   "metadata": {},
   "source": [
    "<!--- #region slideshow={'slide_type\": \"slide\"} -->\n",
    "## About You\n",
    "\n",
    "<!-- #endregion -->\n",
    "\n"
   ]
  }
 ],
 "metadata": {
  "jupytext": {
   "formats": "ipynb,md",
   "hide_notebook_metadata": true,
   "text_representation": {
    "extension": ".md",
    "format_name": "markdown",
    "format_version": "1.2",
    "jupytext_version": "1.6.0"
   }
  },
  "kernelspec": {
   "display_name": "Python 3",
   "language": "python",
   "name": "python3"
  },
  "language_info": {
   "codemirror_mode": {
    "name": "ipython",
    "version": 3
   },
   "file_extension": ".py",
   "mimetype": "text/x-python",
   "name": "python",
   "nbconvert_exporter": "python",
   "pygments_lexer": "ipython3",
   "version": "3.8.11"
  }
 },
 "nbformat": 4,
 "nbformat_minor": 5
}
