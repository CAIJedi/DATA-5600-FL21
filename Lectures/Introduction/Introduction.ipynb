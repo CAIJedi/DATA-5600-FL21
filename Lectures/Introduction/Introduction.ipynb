{
 "cells": [
  {
   "cell_type": "markdown",
   "id": "4a3af8ae",
   "metadata": {
    "lines_to_next_cell": 2,
    "slideshow": {
     "slide_type": "slide"
    }
   },
   "source": [
    "# DATA 5600: Introduction to Regression and Machine Learning for Analytics <br>\n",
    "\n",
    "__Introduction__ <br>\n",
    "\n",
    "Tyler J. Brough <br>\n",
    "Last Update: August 29, 2021 <br>"
   ]
  },
  {
   "cell_type": "markdown",
   "id": "43f08792",
   "metadata": {},
   "source": [
    "<!--- #region slideshow={'slide_type\": \"slide\"} -->\n",
    "## About Me\n",
    "\n",
    "* PhD in Finance from the University of Arizona\n",
    "\n",
    "* I joined the Data Analytics and Information Systems Dept last year\n",
    "\n",
    "* Director of the Analytics Solutions Center\n",
    "\n",
    "* I was in the Economics & Finance Dept for 10 years before that\n",
    "\n",
    "* My research field is called computational statistical catallactics\n",
    "<!-- #endregion -->"
   ]
  },
  {
   "cell_type": "markdown",
   "id": "4f9aef52",
   "metadata": {},
   "source": [
    "<!--- #region slideshow={'slide_type\": \"slide\"} -->\n",
    "## About You\n",
    "\n",
    "* You've taken DATA 3100 (or STAT 2300)\n",
    "\n",
    "* You are comfortable with Python at the level of Dr. Brim's DATA 3500 \n",
    "\n",
    "* You are interested in learning how to use regression for applied predictive analytics\n",
    "\n",
    "* You want to develop your computational, statistical, and economic thinking to solve business challenges\n",
    "<!-- #endregion -->\n",
    "\n"
   ]
  }
 ],
 "metadata": {
  "jupytext": {
   "formats": "ipynb,md",
   "hide_notebook_metadata": true
  },
  "kernelspec": {
   "display_name": "Python 3",
   "language": "python",
   "name": "python3"
  },
  "language_info": {
   "codemirror_mode": {
    "name": "ipython",
    "version": 3
   },
   "file_extension": ".py",
   "mimetype": "text/x-python",
   "name": "python",
   "nbconvert_exporter": "python",
   "pygments_lexer": "ipython3",
   "version": "3.8.11"
  }
 },
 "nbformat": 4,
 "nbformat_minor": 5
}
