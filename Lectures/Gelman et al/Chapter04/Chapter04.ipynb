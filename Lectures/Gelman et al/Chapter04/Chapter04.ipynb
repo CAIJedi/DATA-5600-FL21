{
 "cells": [
  {
   "cell_type": "markdown",
   "id": "cb1448b3",
   "metadata": {},
   "source": [
    "# DATA 5600: Introduction to Regression and Machine Learning for Analytics\n",
    "\n",
    "## __Chapter 4: Statistical Inference__ <br>\n",
    "\n",
    "Author:      Tyler J. Brough <br>\n",
    "Updated: September 19, 2021 <br>\n",
    "\n",
    "---\n",
    "\n",
    "<br>"
   ]
  },
  {
   "cell_type": "code",
   "execution_count": 1,
   "id": "e87d22d0",
   "metadata": {},
   "outputs": [],
   "source": [
    "import numpy as np\n",
    "from scipy import stats\n",
    "import seaborn as sns\n",
    "import matplotlib.pyplot as plt\n",
    "\n",
    "sns.set_style('darkgrid')\n",
    "plt.rcParams['figure.figsize'] = [10, 5]"
   ]
  },
  {
   "cell_type": "markdown",
   "id": "3491aad6",
   "metadata": {},
   "source": [
    "<br>\n",
    "\n",
    "---\n"
   ]
  },
  {
   "cell_type": "markdown",
   "id": "0688604f",
   "metadata": {},
   "source": [
    "<br>\n",
    "\n",
    "* Statistical inference can be formulated as a set of operations on data that yields estimates and uncertainty statements about predictions and parameters of some underlying process or population.\n",
    "\n",
    "* Uncertainty statements are derived based on some assumed probability model for observed data\n",
    "\n",
    "* In this notebook we discuss the basics of probability modeling, estimation, bias and variance, and the interpretation of statistical inference and statistical errors in applied work\n",
    "\n",
    "* We introduce the theme of uncertainty in statistical inference\n",
    "\n",
    "* __Important Theme of This Chapter:__ ___It is a mistake to use hypothesis tests or statistical significance to attribute certainty from noisy data___\n",
    "\n",
    "<br>"
   ]
  },
  {
   "cell_type": "markdown",
   "id": "7dcd4dcc",
   "metadata": {},
   "source": [
    "## __Section 4.1: Sampling Distributions and Generative Models__\n",
    "\n",
    "<br>"
   ]
  },
  {
   "cell_type": "markdown",
   "id": "6aabb20e",
   "metadata": {},
   "source": [
    "#### __Sampling, Measurement Error, and Model Error__\n",
    "\n",
    "<br>"
   ]
  },
  {
   "cell_type": "markdown",
   "id": "14fc64ea",
   "metadata": {},
   "source": [
    "Statistical inference is used to learn from incomplete or imperfect data. There are three standard paradigms for thinking about the role of inference:\n",
    "\n",
    "\n",
    "1. The __Sampling Model__ - learn something about a population, which we must estimate from a sample, or subset, of that population\n",
    "\n",
    "2. The __Measurement Error Model__ - we are interested in learning about aspects of some underlying pattern or law \n",
    "    - For example the coefficients $a$ and $b$ in $y_{i} = a + b x_{i}$\n",
    "    - But the data are measured with error so that we work with: $y_{i} = a + b x_{i} + \\epsilon_{i}$\n",
    "    - We can consider measurement error in $x$ as well\n",
    "\n",
    "\n",
    "3. The __Model Error__ - refers to the inevitable imperfections of the models that we apply to real data\n"
   ]
  },
  {
   "cell_type": "markdown",
   "id": "a66ab5a2",
   "metadata": {},
   "source": [
    "<br>\n",
    "\n",
    "* These three modes are different: \n",
    "    - The sampling model makes no reference to measurements\n",
    "    - The measurement model can apply even when complete data are observed\n",
    "    - The model error model can arise even with perfectly precise observations\n",
    "* We typically consider all three when building models\n",
    "\n",
    "\n",
    "<br>\n",
    "\n",
    "__Example:__\n",
    "\n",
    "\n",
    "* Consider a regression model predicting students' grades from pre-test scores and other background variables\n",
    "\n",
    "* There is typically a sampling aspect to such a study, performed on some set of students with the goal of generalizing to a larger population\n",
    "\n",
    "* The model also includes a measurement error, because a student's test score is only an imperfect measure of their abilities\n",
    "\n",
    "* And also model error because any assumed functional form can only be approximate\n",
    "\n",
    "* Additionally, any student's ability will vary with time and by circumstances (this could be thought of as measurement error or model error)\n",
    "\n",
    "<br>\n",
    "\n",
    "* The textbook takes a standard measurement-error approach framework: \n",
    "\n",
    "$$\n",
    "\\large{y_{i} = a + b x_{i} + \\epsilon_{i}}\n",
    "$$\n",
    "\n",
    "* The $\\epsilon$'s can be treated as model errors\n",
    "\n",
    "* The sampling interpretation is implicit in that errors $\\epsilon_{1}, \\ldots, \\epsilon_{n}$ can be considered as a random sample from a distribution that represents a \"superpopulation\""
   ]
  },
  {
   "cell_type": "markdown",
   "id": "41513048",
   "metadata": {},
   "source": [
    "#### __The Sampling Distribution__\n",
    "\n",
    "<br>\n",
    "\n",
    "* The ___sampling distribution__ is the set of all possible datasets that could have been observed if the data collection process had been re-done\n",
    "\n",
    "* The probabilities of these possible values"
   ]
  },
  {
   "cell_type": "markdown",
   "id": "1ca1b35d",
   "metadata": {},
   "source": [
    "<br>\n",
    "\n",
    "## __Section 4.2: Estimates, Standard Errors, and Confidence Intervals__\n",
    "\n",
    "<br>"
   ]
  },
  {
   "cell_type": "code",
   "execution_count": null,
   "id": "1bd42327",
   "metadata": {},
   "outputs": [],
   "source": []
  },
  {
   "cell_type": "code",
   "execution_count": null,
   "id": "f5ba79d3",
   "metadata": {},
   "outputs": [],
   "source": []
  },
  {
   "cell_type": "code",
   "execution_count": null,
   "id": "de31c80d",
   "metadata": {},
   "outputs": [],
   "source": []
  },
  {
   "cell_type": "code",
   "execution_count": null,
   "id": "58e37064",
   "metadata": {},
   "outputs": [],
   "source": []
  },
  {
   "cell_type": "markdown",
   "id": "bf69a920",
   "metadata": {},
   "source": [
    "<br>\n",
    "\n",
    "## __Section 4.3: Bias and Unmodeled Uncertainty__\n",
    "\n",
    "<br>"
   ]
  },
  {
   "cell_type": "code",
   "execution_count": null,
   "id": "bb6307fe",
   "metadata": {},
   "outputs": [],
   "source": []
  },
  {
   "cell_type": "code",
   "execution_count": null,
   "id": "2f95d498",
   "metadata": {},
   "outputs": [],
   "source": []
  },
  {
   "cell_type": "code",
   "execution_count": null,
   "id": "127fb9f9",
   "metadata": {},
   "outputs": [],
   "source": []
  },
  {
   "cell_type": "code",
   "execution_count": null,
   "id": "1d00724f",
   "metadata": {},
   "outputs": [],
   "source": []
  },
  {
   "cell_type": "markdown",
   "id": "635bc530",
   "metadata": {},
   "source": [
    "<br>\n",
    "\n",
    "## __Section 4.4: Statistical Significance, Hypothesis Testing, and Statistical Errors__\n",
    "\n",
    "<br>"
   ]
  },
  {
   "cell_type": "code",
   "execution_count": null,
   "id": "c25ad757",
   "metadata": {},
   "outputs": [],
   "source": []
  },
  {
   "cell_type": "code",
   "execution_count": null,
   "id": "4ccd22c7",
   "metadata": {},
   "outputs": [],
   "source": []
  },
  {
   "cell_type": "code",
   "execution_count": null,
   "id": "b7be0b16",
   "metadata": {},
   "outputs": [],
   "source": []
  },
  {
   "cell_type": "code",
   "execution_count": null,
   "id": "96e1091f",
   "metadata": {},
   "outputs": [],
   "source": []
  },
  {
   "cell_type": "code",
   "execution_count": null,
   "id": "1ab77483",
   "metadata": {},
   "outputs": [],
   "source": []
  },
  {
   "cell_type": "markdown",
   "id": "91a0763d",
   "metadata": {},
   "source": [
    "<br>\n",
    "\n",
    "## __Section 4.5: Problems With the Concept of Statistical Significance__\n",
    "\n",
    "<br>"
   ]
  },
  {
   "cell_type": "code",
   "execution_count": null,
   "id": "c4669eaa",
   "metadata": {},
   "outputs": [],
   "source": []
  },
  {
   "cell_type": "code",
   "execution_count": null,
   "id": "c2257b78",
   "metadata": {},
   "outputs": [],
   "source": []
  },
  {
   "cell_type": "code",
   "execution_count": null,
   "id": "45a82069",
   "metadata": {},
   "outputs": [],
   "source": []
  },
  {
   "cell_type": "code",
   "execution_count": null,
   "id": "8ae01e01",
   "metadata": {},
   "outputs": [],
   "source": []
  },
  {
   "cell_type": "code",
   "execution_count": null,
   "id": "0a1c8b10",
   "metadata": {},
   "outputs": [],
   "source": []
  },
  {
   "cell_type": "markdown",
   "id": "dd71bbca",
   "metadata": {},
   "source": [
    "<br>\n",
    "\n",
    "## __Section 4.6: Example of Hypothesis Testing: 55,000 Residents Need Your Help!__\n",
    "\n",
    "<br>"
   ]
  },
  {
   "cell_type": "code",
   "execution_count": null,
   "id": "d60571b4",
   "metadata": {},
   "outputs": [],
   "source": []
  },
  {
   "cell_type": "code",
   "execution_count": null,
   "id": "05602f26",
   "metadata": {},
   "outputs": [],
   "source": []
  },
  {
   "cell_type": "code",
   "execution_count": null,
   "id": "381c9443",
   "metadata": {},
   "outputs": [],
   "source": []
  },
  {
   "cell_type": "code",
   "execution_count": null,
   "id": "243e511b",
   "metadata": {},
   "outputs": [],
   "source": []
  },
  {
   "cell_type": "code",
   "execution_count": null,
   "id": "8a82122f",
   "metadata": {},
   "outputs": [],
   "source": []
  },
  {
   "cell_type": "markdown",
   "id": "dc8326e4",
   "metadata": {},
   "source": [
    "<br>\n",
    "\n",
    "## __Section 4.7: Moving Beyond Hypothesis Testing__\n",
    "\n",
    "<br>"
   ]
  },
  {
   "cell_type": "code",
   "execution_count": null,
   "id": "27dc51b1",
   "metadata": {},
   "outputs": [],
   "source": []
  },
  {
   "cell_type": "code",
   "execution_count": null,
   "id": "9a6aebfc",
   "metadata": {},
   "outputs": [],
   "source": []
  },
  {
   "cell_type": "code",
   "execution_count": null,
   "id": "955bebdc",
   "metadata": {},
   "outputs": [],
   "source": []
  },
  {
   "cell_type": "code",
   "execution_count": null,
   "id": "7d5e7897",
   "metadata": {},
   "outputs": [],
   "source": []
  },
  {
   "cell_type": "code",
   "execution_count": null,
   "id": "af844e24",
   "metadata": {},
   "outputs": [],
   "source": []
  },
  {
   "cell_type": "markdown",
   "id": "67f9698a",
   "metadata": {},
   "source": [
    "<br>\n",
    "\n",
    "## __Bibliographic Note__\n",
    "\n",
    "<br>"
   ]
  },
  {
   "cell_type": "code",
   "execution_count": null,
   "id": "7b87c18e",
   "metadata": {},
   "outputs": [],
   "source": []
  },
  {
   "cell_type": "code",
   "execution_count": null,
   "id": "a4b5575a",
   "metadata": {},
   "outputs": [],
   "source": []
  },
  {
   "cell_type": "code",
   "execution_count": null,
   "id": "07267cf2",
   "metadata": {},
   "outputs": [],
   "source": []
  }
 ],
 "metadata": {
  "kernelspec": {
   "display_name": "Python 3",
   "language": "python",
   "name": "python3"
  },
  "language_info": {
   "codemirror_mode": {
    "name": "ipython",
    "version": 3
   },
   "file_extension": ".py",
   "mimetype": "text/x-python",
   "name": "python",
   "nbconvert_exporter": "python",
   "pygments_lexer": "ipython3",
   "version": "3.8.11"
  }
 },
 "nbformat": 4,
 "nbformat_minor": 5
}
