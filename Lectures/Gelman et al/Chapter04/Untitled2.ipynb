{
 "cells": [
  {
   "cell_type": "markdown",
   "id": "907ee113",
   "metadata": {},
   "source": [
    "# DATA 5600: Introduction to Regression and Machine Learning for Analytics\n",
    "\n",
    "## __CLT Examples__ <br>\n",
    "\n",
    "Author:      Tyler J. Brough <br>\n",
    "Updated: October 6, 2021 <br>\n",
    "\n",
    "---\n",
    "\n",
    "<br>"
   ]
  },
  {
   "cell_type": "code",
   "execution_count": 1,
   "id": "5e6832bd",
   "metadata": {},
   "outputs": [],
   "source": [
    "import matplotlib.pyplot as plt\n",
    "import numpy as np\n",
    "from scipy import stats"
   ]
  },
  {
   "cell_type": "markdown",
   "id": "735f1586",
   "metadata": {},
   "source": [
    "### __Probability Distribution, Mean, and Variance of a Poisson Random Variable__\n",
    "\n",
    "---\n",
    "\n",
    "$$\n",
    "\\begin{align}\n",
    "p(x) &= \\frac{\\lambda^{x} e^{-\\lambda}}{x!} \\quad x = 0, 2, \\ldots \\\\\n",
    "     & \\\\\n",
    "\\mu  &= \\lambda \\\\\n",
    "     & \\\\\n",
    "\\sigma^{2} &= \\lambda \\\\\n",
    "\\end{align}\n",
    "$$\n",
    "\n",
    "---\n",
    "\n",
    "<br>\n",
    "\n",
    "where\n",
    "\n",
    "* $\\lambda =$ mean number of events during given unit of time, area, volume, etc.\n",
    "\n",
    "* $e = 2.71828...$\n",
    "\n",
    "<br>\n",
    "<br>\n"
   ]
  },
  {
   "cell_type": "markdown",
   "id": "4b12d6cc",
   "metadata": {},
   "source": [
    "<br>\n",
    "\n",
    "#### __Poisson Example__\n",
    "\n",
    "<br>\n",
    "<br>\n",
    "\n",
    "Suppose the number, $x$, of a company's employees who are absent on Mondays has (approximately) a Poisson probability distribution. Further, assume that the average number of Monday absentees is 2.6.\n",
    "\n",
    "<br>\n",
    "\n",
    "* (a) Find the mean and standard deviation of $x$ the number of employees absent on Monay. \n",
    "\n",
    "\n",
    "$$\n",
    "\\begin{align}\n",
    "\\mu &= \\lambda = 2.6 \\\\\n",
    "& \\\\\n",
    "\\sigma^{2} &= \\lambda = 2.6\n",
    "\\end{align}\n",
    "$$\n",
    "\n",
    "Then the standard deviation is: $\\sqrt{2.6} = 1.61$\n",
    "\n",
    "<br>"
   ]
  },
  {
   "cell_type": "code",
   "execution_count": 3,
   "id": "92606ef0",
   "metadata": {},
   "outputs": [],
   "source": [
    "λ = 2.6\n",
    "n = 52 # weeks \n",
    "x = np.random.poisson(lam=λ, size=n)"
   ]
  },
  {
   "cell_type": "code",
   "execution_count": 4,
   "id": "eff694eb",
   "metadata": {},
   "outputs": [
    {
     "data": {
      "text/plain": [
       "array([0, 1, 3, 3, 6, 2, 1, 4, 3, 5, 3, 7, 1, 2, 4, 1, 1, 3, 1, 1, 3, 4,\n",
       "       5, 1, 2, 5, 2, 5, 2, 2, 3, 3, 1, 1, 4, 6, 2, 3, 2, 0, 4, 1, 1, 1,\n",
       "       2, 2, 3, 4, 1, 1, 2, 2])"
      ]
     },
     "execution_count": 4,
     "metadata": {},
     "output_type": "execute_result"
    }
   ],
   "source": [
    "x"
   ]
  },
  {
   "cell_type": "code",
   "execution_count": 5,
   "id": "8c56ff52",
   "metadata": {},
   "outputs": [
    {
     "data": {
      "text/plain": [
       "2.5384615384615383"
      ]
     },
     "execution_count": 5,
     "metadata": {},
     "output_type": "execute_result"
    }
   ],
   "source": [
    "xbar = np.mean(x)\n",
    "xbar"
   ]
  },
  {
   "cell_type": "code",
   "execution_count": 8,
   "id": "7b282b91",
   "metadata": {},
   "outputs": [],
   "source": [
    "sbar = np.std(x, ddof=1)\n",
    "sbar\n",
    "serr = sbar / np.sqrt(n)"
   ]
  },
  {
   "cell_type": "code",
   "execution_count": 12,
   "id": "5ce0336e",
   "metadata": {},
   "outputs": [],
   "source": [
    "z = (x - xbar) / sbar"
   ]
  },
  {
   "cell_type": "code",
   "execution_count": 27,
   "id": "74e89f26",
   "metadata": {},
   "outputs": [],
   "source": [
    "M = 500_000\n",
    "n = 104\n",
    "\n",
    "xbars = np.zeros(M)\n",
    "\n",
    "for i in range(M):\n",
    "    xbars[i] = np.mean(np.random.poisson(lam=λ, size=n))"
   ]
  },
  {
   "cell_type": "code",
   "execution_count": 28,
   "id": "7554ae04",
   "metadata": {},
   "outputs": [
    {
     "data": {
      "text/plain": [
       "(array([3.0000e+00, 1.3000e+01, 6.5000e+01, 2.4000e+02, 9.1600e+02,\n",
       "        2.6370e+03, 8.2700e+03, 1.5696e+04, 2.8389e+04, 4.4015e+04,\n",
       "        5.9036e+04, 6.9838e+04, 8.3555e+04, 6.3412e+04, 4.9262e+04,\n",
       "        3.3910e+04, 2.0596e+04, 1.1000e+04, 6.0190e+03, 2.0100e+03,\n",
       "        7.5800e+02, 2.4900e+02, 8.4000e+01, 2.2000e+01, 5.0000e+00]),\n",
       " array([1.875     , 1.93423077, 1.99346154, 2.05269231, 2.11192308,\n",
       "        2.17115385, 2.23038462, 2.28961538, 2.34884615, 2.40807692,\n",
       "        2.46730769, 2.52653846, 2.58576923, 2.645     , 2.70423077,\n",
       "        2.76346154, 2.82269231, 2.88192308, 2.94115385, 3.00038462,\n",
       "        3.05961538, 3.11884615, 3.17807692, 3.23730769, 3.29653846,\n",
       "        3.35576923]),\n",
       " <BarContainer object of 25 artists>)"
      ]
     },
     "execution_count": 28,
     "metadata": {},
     "output_type": "execute_result"
    },
    {
     "data": {
      "image/png": "[encoded data removed]",
      "text/plain": [
       "<Figure size 432x288 with 1 Axes>"
      ]
     },
     "metadata": {
      "needs_background": "light"
     },
     "output_type": "display_data"
    }
   ],
   "source": [
    "plt.hist(xbars, bins=25)"
   ]
  },
  {
   "cell_type": "code",
   "execution_count": 35,
   "id": "a4a12b70",
   "metadata": {},
   "outputs": [],
   "source": [
    "zbars = (xbars - λ) / (np.sqrt(λ) / np.sqrt(n))"
   ]
  },
  {
   "cell_type": "code",
   "execution_count": 36,
   "id": "29d97b0b",
   "metadata": {},
   "outputs": [
    {
     "data": {
      "text/plain": [
       "(array([2.70000e+01, 1.21000e+03, 1.75220e+04, 8.14850e+04, 1.77284e+05,\n",
       "        1.47819e+05, 6.08700e+04, 1.26650e+04, 1.05800e+03, 6.00000e+01]),\n",
       " array([-4.58530261, -3.64878192, -2.71226122, -1.77574053, -0.83921984,\n",
       "         0.09730085,  1.03382154,  1.97034223,  2.90686293,  3.84338362,\n",
       "         4.77990431]),\n",
       " <BarContainer object of 10 artists>)"
      ]
     },
     "execution_count": 36,
     "metadata": {},
     "output_type": "execute_result"
    },
    {
     "data": {
      "image/png": "[encoded data removed]",
      "text/plain": [
       "<Figure size 432x288 with 1 Axes>"
      ]
     },
     "metadata": {
      "needs_background": "light"
     },
     "output_type": "display_data"
    }
   ],
   "source": [
    "plt.hist(zbars)"
   ]
  },
  {
   "cell_type": "code",
   "execution_count": 37,
   "id": "1d125a05",
   "metadata": {},
   "outputs": [
    {
     "data": {
      "text/plain": [
       "-0.000184020234609593"
      ]
     },
     "execution_count": 37,
     "metadata": {},
     "output_type": "execute_result"
    }
   ],
   "source": [
    "np.mean(zbars)"
   ]
  },
  {
   "cell_type": "code",
   "execution_count": 38,
   "id": "f50d8bb1",
   "metadata": {},
   "outputs": [
    {
     "data": {
      "text/plain": [
       "1.000616162076678"
      ]
     },
     "execution_count": 38,
     "metadata": {},
     "output_type": "execute_result"
    }
   ],
   "source": [
    "np.std(zbars,ddof=1)"
   ]
  },
  {
   "cell_type": "code",
   "execution_count": null,
   "id": "48ed8e4d",
   "metadata": {},
   "outputs": [],
   "source": []
  }
 ],
 "metadata": {
  "kernelspec": {
   "display_name": "Python 3",
   "language": "python",
   "name": "python3"
  },
  "language_info": {
   "codemirror_mode": {
    "name": "ipython",
    "version": 3
   },
   "file_extension": ".py",
   "mimetype": "text/x-python",
   "name": "python",
   "nbconvert_exporter": "python",
   "pygments_lexer": "ipython3",
   "version": "3.8.11"
  }
 },
 "nbformat": 4,
 "nbformat_minor": 5
}
